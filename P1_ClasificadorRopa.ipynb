{
  "cells": [
    {
      "cell_type": "markdown",
      "metadata": {
        "id": "uWbYb_Ejqlms"
      },
      "source": [
        "# P1 AA Configuración y Entrenamiento de una Red de Neuronas\n",
        "\n"
      ]
    },
    {
      "cell_type": "markdown",
      "source": [
        "Utilizaremos la **biblioteca Python Keras** para **clasificar** artículos de ropa.\n",
        "\n",
        "**PROBLEMA:**\n",
        "- Clasificación de imágenes en escala de grises de prendas de ropa (28 x 28 píxeles) en sus 10 categorías (de 0 a 9)\n",
        "- Usaremos 60K imágenes de entrenamiento, más de 10K imágenes de prueba todas ellas recopiladas por el National Institute of Standards an Technology (NIST de MNIST) en los años ochenta.\n",
        "- El conjunto de datos MNIST está precargado en Keras en la forma de un conjunto de cuatro matrices Numpy\n",
        "- Algunas muestras\n",
        "- Tenemos las siguientes categorías o **clases** del problema de clasificación de ropa: T-shirt/top, Trouser, Pullover, Dress, Coat, Sandal, Shirt, Sneaker, Bag, Ankle boot.\n",
        "- Los \"puntos de datos\" son **muestras**\n",
        "- La clase asociado a una muestra específica se llama **etiqueta**"
      ],
      "metadata": {
        "id": "eYK5LlXYszma"
      }
    },
    {
      "cell_type": "markdown",
      "source": [],
      "metadata": {
        "id": "AG-tW6-sy1AX"
      }
    },
    {
      "cell_type": "code",
      "execution_count": 1,
      "metadata": {
        "id": "_ZRjUdLDqlmt",
        "outputId": "2a7e2090-9a42-4c83-ed7f-82a41acfffb7",
        "colab": {
          "base_uri": "https://localhost:8080/"
        }
      },
      "outputs": [
        {
          "output_type": "execute_result",
          "data": {
            "text/plain": [
              "True"
            ]
          },
          "metadata": {},
          "execution_count": 1
        }
      ],
      "source": [
        "# 1._ IMPORTAMOS KERAS\n",
        "import tensorflow as tf\n",
        "tf.__version__ >= '2.0.0'"
      ]
    },
    {
      "cell_type": "code",
      "execution_count": 2,
      "metadata": {
        "id": "MA0GDH69qlmu",
        "outputId": "c5640b5b-43df-40fd-fdcf-3231ebbde13e",
        "colab": {
          "base_uri": "https://localhost:8080/"
        }
      },
      "outputs": [
        {
          "output_type": "stream",
          "name": "stdout",
          "text": [
            "Downloading data from https://storage.googleapis.com/tensorflow/tf-keras-datasets/train-labels-idx1-ubyte.gz\n",
            "29515/29515 [==============================] - 0s 0us/step\n",
            "Downloading data from https://storage.googleapis.com/tensorflow/tf-keras-datasets/train-images-idx3-ubyte.gz\n",
            "26421880/26421880 [==============================] - 0s 0us/step\n",
            "Downloading data from https://storage.googleapis.com/tensorflow/tf-keras-datasets/t10k-labels-idx1-ubyte.gz\n",
            "5148/5148 [==============================] - 0s 0us/step\n",
            "Downloading data from https://storage.googleapis.com/tensorflow/tf-keras-datasets/t10k-images-idx3-ubyte.gz\n",
            "4422102/4422102 [==============================] - 0s 0us/step\n"
          ]
        }
      ],
      "source": [
        "from keras.datasets import fashion_mnist\n",
        "(train_images, train_labels), (test_images, test_labels) = fashion_mnist.load_data()"
      ]
    },
    {
      "cell_type": "code",
      "execution_count": 3,
      "metadata": {
        "id": "j7MkuUAZqlmv",
        "outputId": "cbbc5025-b1ef-44ab-c4d0-d51963575558",
        "colab": {
          "base_uri": "https://localhost:8080/"
        }
      },
      "outputs": [
        {
          "output_type": "stream",
          "name": "stdout",
          "text": [
            "(60000, 28, 28)\n"
          ]
        }
      ],
      "source": [
        "print(train_images.shape)"
      ]
    },
    {
      "cell_type": "code",
      "execution_count": 4,
      "metadata": {
        "id": "Fi2DmUJ5qlmv",
        "outputId": "c6872a9b-d230-4c8b-cabf-ab71aa1fa243",
        "colab": {
          "base_uri": "https://localhost:8080/"
        }
      },
      "outputs": [
        {
          "output_type": "stream",
          "name": "stdout",
          "text": [
            "[[  0   0   0   0   0   0   0   0   0   0 118 204 181 175 213 199 168 197 111   0   0   0   0   0   0   0   0   0]\n",
            " [  0   0   0   0   0   0   0   0   0   0 173 225 185 179 225 158 142 227 173   0   0   0   0   0   0   0   0   0]\n",
            " [  0   0   0   0   0   0   0   0   0   0 170 229 226 226 233 151 167 234 158   0   0   0   0   0   0   0   0   0]\n",
            " [  0   0   0   0   0   0   0   0   0   0 194 222 212 226 222 240 218 230 163   0   0   0   0   0   0   0   0   0]\n",
            " [  0   0   0   0   0   0   0   0   0   0 198 222 210 207 211 207 208 231 147   0   0   0   0   0   0   0   0   0]\n",
            " [  0   0   0   0   0   0   0   0   0   0 188 220 209 210 211 215 208 230 144   0   1   0   0   0   0   0   0   0]\n",
            " [  0   0   0   0   0   0   0   0   0   0 183 232 214 220 212 220 213 239 158   0   1   0   0   0   0   0   0   0]\n",
            " [  0   0   0   0   0   0   0   0   0   0 183 232 217 216 215 219 216 238 160   0   1   0   0   0   0   0   0   0]\n",
            " [  0   0   0   0   0   0   0   0   0   0 185 231 218 221 215 218 214 238 170   0   1   0   0   0   0   0   0   0]\n",
            " [  0   0   0   0   0   0   0   0   0   0 188 233 215 220 219 219 216 238 169   0   2   0   0   0   0   0   0   0]\n",
            " [  0   0   0   0   0   0   0   0   0   0 169 240 219 221 222 228 214 243 114   0   1   0   0   0   0   0   0   0]\n",
            " [  0   0   0   0   0   0   0   0   0   0 128 255 214 218 206 205 225 233  53   0   0   0   0   0   0   0   0   0]\n",
            " [  0   0   0   0   0   0   0   0   0   0 200 229 218 221 219 211 217 228 204   0   0   0   0   0   0   0   0   0]\n",
            " [  0   0   0   0   0   0   0   0   0  34 230 214 217 216 218 218 220 217 231  42   0   0   0   0   0   0   0   0]\n",
            " [  0   0   0   0   0   0   0   0   0  94 236 213 219 219 218 215 219 213 234 110   0   0   0   0   0   0   0   0]\n",
            " [  0   0   0   0   0   0   0   0   0 167 234 212 218 218 219 212 225 215 231 170   0   0   0   0   0   0   0   0]\n",
            " [  0   0   0   0   0   0   0   0   0 200 230 213 216 218 221 211 224 214 228 213   0   0   0   0   0   0   0   0]\n",
            " [  0   0   0   0   0   0   0   0   0 192 228 213 216 218 222 213 224 215 221 200   0   0   0   0   0   0   0   0]\n",
            " [  0   0   0   0   0   0   0   0   0 202 225 216 214 219 215 219 225 215 219 208   0   0   0   0   0   0   0   0]\n",
            " [  0   0   0   0   0   0   0   0   0 215 224 214 215 221 213 217 220 215 216 216   0   0   0   0   0   0   0   0]\n",
            " [  0   0   0   0   0   0   0   0  26 232 214 218 213 226 212 216 225 215 211 224  27   0   0   0   0   0   0   0]\n",
            " [  0   0   0   0   0   0   0   0  59 234 214 220 214 225 211 213 227 216 212 228  51   0   0   0   0   0   0   0]\n",
            " [  0   0   0   0   0   0   0   0  67 233 214 221 213 227 209 215 228 216 211 228  56   0   0   0   0   0   0   0]\n",
            " [  0   0   0   0   0   0   0   0  92 234 215 219 215 226 208 214 227 215 211 225  42   0   0   0   0   0   0   0]\n",
            " [  0   0   0   0   0   0   0   0 116 236 215 218 211 230 213 212 229 215 211 228  64   0   0   0   0   0   0   0]\n",
            " [  0   0   0   0   0   0   0   0 140 231 218 221 221 236 204 219 224 221 219 227 132   0   0   0   0   0   0   0]\n",
            " [  0   0   0   0   0   0   0   0 107 200 193 205 194 217 213 218 248 202 172 227 105   0   0   0   0   0   0   0]\n",
            " [  0   0   0   0   0   0   0   0   0  21 108 142 146 125 173 141  94 152 154  89   0   0   0   0   0   0   0   0]]\n"
          ]
        }
      ],
      "source": [
        "import numpy as np\n",
        "# Vemos la matriz de la imagen número 30.000 (28x28)\n",
        "np.set_printoptions(precision=2, suppress=True, linewidth=145)\n",
        "print(np.matrix(train_images[30000]))"
      ]
    },
    {
      "cell_type": "code",
      "execution_count": 5,
      "metadata": {
        "id": "6a9GvqdTqlmv",
        "outputId": "2db8c9e5-b3c6-4d63-f5cd-9ac59c020bc5",
        "colab": {
          "base_uri": "https://localhost:8080/"
        }
      },
      "outputs": [
        {
          "output_type": "stream",
          "name": "stdout",
          "text": [
            "3\n"
          ]
        }
      ],
      "source": [
        "print(train_labels[30000])"
      ]
    },
    {
      "cell_type": "code",
      "execution_count": null,
      "metadata": {
        "id": "vq3OWBIgqlmv",
        "outputId": "153e1ace-39b0-45b1-8ccf-994ee54167f0"
      },
      "outputs": [
        {
          "data": {
            "image/png": "[encoded data removed]",
            "text/plain": [
              "<Figure size 640x480 with 1 Axes>"
            ]
          },
          "metadata": {},
          "output_type": "display_data"
        }
      ],
      "source": [
        "import matplotlib.pyplot as plt\n",
        "ropa = train_images[3000]\n",
        "plt.imshow(ropa, cmap=plt.cm.binary)\n",
        "plt.show()"
      ]
    },
    {
      "cell_type": "code",
      "execution_count": null,
      "metadata": {
        "id": "6YALZfZyqlmw",
        "outputId": "bec3d3f7-a41c-4aa0-d0b3-235a9c89bc10"
      },
      "outputs": [
        {
          "name": "stdout",
          "output_type": "stream",
          "text": [
            "(60000,)\n"
          ]
        }
      ],
      "source": [
        "print(train_labels.shape)"
      ]
    },
    {
      "cell_type": "code",
      "execution_count": null,
      "metadata": {
        "id": "F5SO_gD4qlmw",
        "outputId": "e9b71a5b-18f7-4a51-e5c6-0b8b848c768e"
      },
      "outputs": [
        {
          "name": "stdout",
          "output_type": "stream",
          "text": [
            "(10000, 28, 28)\n",
            "(10000,)\n"
          ]
        }
      ],
      "source": [
        "print(test_images.shape)\n",
        "print(test_labels.shape)"
      ]
    },
    {
      "cell_type": "code",
      "execution_count": null,
      "metadata": {
        "id": "ylVHZ8aYqlmw",
        "outputId": "6539247f-393f-4849-b449-cac4ca718c3b"
      },
      "outputs": [
        {
          "data": {
            "image/png": "[encoded data removed]",
            "text/plain": [
              "<Figure size 640x480 with 1 Axes>"
            ]
          },
          "metadata": {},
          "output_type": "display_data"
        }
      ],
      "source": [
        "# Veamos el elemento 0 de test (que vemos que es un zapato) y pintémoslo con matplotlib\n",
        "import matplotlib.pyplot as plt\n",
        "ropa = test_images[0]\n",
        "plt.imshow(ropa, cmap=plt.cm.binary)\n",
        "plt.show()"
      ]
    },
    {
      "cell_type": "code",
      "execution_count": null,
      "metadata": {
        "id": "TmJs2BINqlmw"
      },
      "outputs": [],
      "source": []
    }
  ],
  "metadata": {
    "kernelspec": {
      "display_name": ".venv",
      "language": "python",
      "name": "python3"
    },
    "language_info": {
      "codemirror_mode": {
        "name": "ipython",
        "version": 3
      },
      "file_extension": ".py",
      "mimetype": "text/x-python",
      "name": "python",
      "nbconvert_exporter": "python",
      "pygments_lexer": "ipython3",
      "version": "3.11.4"
    },
    "colab": {
      "provenance": []
    }
  },
  "nbformat": 4,
  "nbformat_minor": 0
}