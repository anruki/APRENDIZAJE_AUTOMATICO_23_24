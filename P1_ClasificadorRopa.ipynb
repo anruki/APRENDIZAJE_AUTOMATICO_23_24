{
  "cells": [
    {
      "cell_type": "markdown",
      "metadata": {
        "id": "cv0UorTVdUhz"
      },
      "source": [
        "### Grupo B04\n",
        "### Miguel Egido Morales, Alfredo Robledano Abasolo, Ana Robledano Abasolo\n"
      ]
    },
    {
      "cell_type": "markdown",
      "metadata": {
        "id": "uWbYb_Ejqlms"
      },
      "source": [
        "# P1 AA Configuración y Entrenamiento de una Red de Neuronas"
      ]
    },
    {
      "cell_type": "markdown",
      "metadata": {
        "id": "eYK5LlXYszma"
      },
      "source": [
        "Utilizaremos la **biblioteca Python Keras** para **clasificar** artículos de ropa.\n",
        "\n",
        "**PROBLEMA:**\n",
        "- Clasificación de imágenes en escala de grises de prendas de ropa (28 x 28 píxeles) en sus 10 categorías (de 0 a 9, guardadas en etiquetas).\n",
        "- Usaremos 60K imágenes de entrenamiento y más de 10K imágenes de prueba\n",
        "- El conjunto de datos MNIST está precargado en Keras en la forma de un conjunto de cuatro matrices Numpy\n",
        "- Algunas muestras\n",
        "- Tenemos las siguientes categorías o **clases** del problema de clasificación de ropa: T-shirt/top, Trouser, Pullover, Dress, Coat, Sandal, Shirt, Sneaker, Bag, Ankle boot.\n",
        "- Los \"puntos de datos\" son **muestras**\n",
        "- La clase asociado a una muestra específica se llama **etiqueta**"
      ]
    },
    {
      "cell_type": "markdown",
      "metadata": {
        "id": "Kt69U75udUh1"
      },
      "source": [
        "Importamos el paquete tensorflow que contiene a la librería keras"
      ]
    },
    {
      "cell_type": "code",
      "execution_count": null,
      "metadata": {
        "colab": {
          "base_uri": "https://localhost:8080/"
        },
        "id": "_ZRjUdLDqlmt",
        "outputId": "c308bae6-ab5a-46f0-e753-1b7b91fbd57d"
      },
      "outputs": [
        {
          "output_type": "execute_result",
          "data": {
            "text/plain": [
              "True"
            ]
          },
          "metadata": {},
          "execution_count": 363
        }
      ],
      "source": [
        "import tensorflow as tf\n",
        "tf.__version__ >= '2.0.0'  # Comprobamos que estamos usando al menos la versión 2.0.0"
      ]
    },
    {
      "cell_type": "markdown",
      "metadata": {
        "id": "ifOEj4QTFDju"
      },
      "source": [
        "El módulo keras.datasets contiene un dataset con imágenes de ropa que usaremos para este proyecto.\\\n",
        "Las imágenes se encuentran convenientemente etiquetadas y en formato mnist.\\\n",
        "A continuación almacenamos en memoria las imágenes de entrenamiento  e imágenes de test (junto con sus etiquetas)."
      ]
    },
    {
      "cell_type": "code",
      "execution_count": null,
      "metadata": {
        "colab": {
          "base_uri": "https://localhost:8080/"
        },
        "id": "MA0GDH69qlmu",
        "outputId": "3090878c-ed2b-4ea1-e3f8-69a983872ebc"
      },
      "outputs": [
        {
          "output_type": "stream",
          "name": "stdout",
          "text": [
            "<class 'numpy.ndarray'> (60000, 28, 28) (60000,)\n",
            "<class 'numpy.ndarray'> (10000, 28, 28) (10000,)\n"
          ]
        }
      ],
      "source": [
        "from keras.datasets import fashion_mnist\n",
        "(train_images, train_labels), (test_images, test_labels) = fashion_mnist.load_data()\n",
        "print(type(train_images), train_images.shape, train_labels.shape)\n",
        "print(type(test_images), test_images.shape, test_labels.shape)"
      ]
    },
    {
      "cell_type": "markdown",
      "metadata": {
        "id": "j7MkuUAZqlmv",
        "outputId": "cbbc5025-b1ef-44ab-c4d0-d51963575558"
      },
      "source": [
        "Observamos que train_images y test_images son numpy.arrays de 3 dimensiones.\\\n",
        "60_000 imágenes de 28x28 pixels para el entrenamiento (60_000 etiquetas).\\\n",
        "10_000 imágenes de 28x28 pixels para test (10_000 etiquetas)."
      ]
    },
    {
      "cell_type": "markdown",
      "metadata": {
        "id": "5lWXf4WHdUh3"
      },
      "source": [
        "Comprobamos que las etiquetas van de 0 a 9"
      ]
    },
    {
      "cell_type": "code",
      "execution_count": null,
      "metadata": {
        "colab": {
          "base_uri": "https://localhost:8080/"
        },
        "id": "fLk8C6abdUh3",
        "outputId": "1117ec35-bfb4-482b-d5c0-167a0946aa3e"
      },
      "outputs": [
        {
          "output_type": "stream",
          "name": "stdout",
          "text": [
            "{0, 1, 2, 3, 4, 5, 6, 7, 8, 9}\n",
            "{0, 1, 2, 3, 4, 5, 6, 7, 8, 9}\n"
          ]
        }
      ],
      "source": [
        "print(set(train_labels))\n",
        "print(set(test_labels))"
      ]
    },
    {
      "cell_type": "markdown",
      "metadata": {
        "id": "Rp_ygXtzdUh3"
      },
      "source": [
        "Echemos un vistazo a alguna imagen del set de entrenamiento (son numpy arrays 2D)\\\n",
        "Por ejemplo la número 30_000\\\n",
        "Para ello importamos numpy, de forma que podamos cambiar las opciones de impresión"
      ]
    },
    {
      "cell_type": "code",
      "execution_count": null,
      "metadata": {
        "colab": {
          "base_uri": "https://localhost:8080/"
        },
        "id": "Fi2DmUJ5qlmv",
        "outputId": "cc6ce79d-8eb6-4874-884c-933350b7a91f"
      },
      "outputs": [
        {
          "output_type": "stream",
          "name": "stdout",
          "text": [
            "[[  0   0   0   0   0   0   0   0   0   0 118 204 181 175 213 199 168 197 111   0   0   0   0   0   0   0   0   0]\n",
            " [  0   0   0   0   0   0   0   0   0   0 173 225 185 179 225 158 142 227 173   0   0   0   0   0   0   0   0   0]\n",
            " [  0   0   0   0   0   0   0   0   0   0 170 229 226 226 233 151 167 234 158   0   0   0   0   0   0   0   0   0]\n",
            " [  0   0   0   0   0   0   0   0   0   0 194 222 212 226 222 240 218 230 163   0   0   0   0   0   0   0   0   0]\n",
            " [  0   0   0   0   0   0   0   0   0   0 198 222 210 207 211 207 208 231 147   0   0   0   0   0   0   0   0   0]\n",
            " [  0   0   0   0   0   0   0   0   0   0 188 220 209 210 211 215 208 230 144   0   1   0   0   0   0   0   0   0]\n",
            " [  0   0   0   0   0   0   0   0   0   0 183 232 214 220 212 220 213 239 158   0   1   0   0   0   0   0   0   0]\n",
            " [  0   0   0   0   0   0   0   0   0   0 183 232 217 216 215 219 216 238 160   0   1   0   0   0   0   0   0   0]\n",
            " [  0   0   0   0   0   0   0   0   0   0 185 231 218 221 215 218 214 238 170   0   1   0   0   0   0   0   0   0]\n",
            " [  0   0   0   0   0   0   0   0   0   0 188 233 215 220 219 219 216 238 169   0   2   0   0   0   0   0   0   0]\n",
            " [  0   0   0   0   0   0   0   0   0   0 169 240 219 221 222 228 214 243 114   0   1   0   0   0   0   0   0   0]\n",
            " [  0   0   0   0   0   0   0   0   0   0 128 255 214 218 206 205 225 233  53   0   0   0   0   0   0   0   0   0]\n",
            " [  0   0   0   0   0   0   0   0   0   0 200 229 218 221 219 211 217 228 204   0   0   0   0   0   0   0   0   0]\n",
            " [  0   0   0   0   0   0   0   0   0  34 230 214 217 216 218 218 220 217 231  42   0   0   0   0   0   0   0   0]\n",
            " [  0   0   0   0   0   0   0   0   0  94 236 213 219 219 218 215 219 213 234 110   0   0   0   0   0   0   0   0]\n",
            " [  0   0   0   0   0   0   0   0   0 167 234 212 218 218 219 212 225 215 231 170   0   0   0   0   0   0   0   0]\n",
            " [  0   0   0   0   0   0   0   0   0 200 230 213 216 218 221 211 224 214 228 213   0   0   0   0   0   0   0   0]\n",
            " [  0   0   0   0   0   0   0   0   0 192 228 213 216 218 222 213 224 215 221 200   0   0   0   0   0   0   0   0]\n",
            " [  0   0   0   0   0   0   0   0   0 202 225 216 214 219 215 219 225 215 219 208   0   0   0   0   0   0   0   0]\n",
            " [  0   0   0   0   0   0   0   0   0 215 224 214 215 221 213 217 220 215 216 216   0   0   0   0   0   0   0   0]\n",
            " [  0   0   0   0   0   0   0   0  26 232 214 218 213 226 212 216 225 215 211 224  27   0   0   0   0   0   0   0]\n",
            " [  0   0   0   0   0   0   0   0  59 234 214 220 214 225 211 213 227 216 212 228  51   0   0   0   0   0   0   0]\n",
            " [  0   0   0   0   0   0   0   0  67 233 214 221 213 227 209 215 228 216 211 228  56   0   0   0   0   0   0   0]\n",
            " [  0   0   0   0   0   0   0   0  92 234 215 219 215 226 208 214 227 215 211 225  42   0   0   0   0   0   0   0]\n",
            " [  0   0   0   0   0   0   0   0 116 236 215 218 211 230 213 212 229 215 211 228  64   0   0   0   0   0   0   0]\n",
            " [  0   0   0   0   0   0   0   0 140 231 218 221 221 236 204 219 224 221 219 227 132   0   0   0   0   0   0   0]\n",
            " [  0   0   0   0   0   0   0   0 107 200 193 205 194 217 213 218 248 202 172 227 105   0   0   0   0   0   0   0]\n",
            " [  0   0   0   0   0   0   0   0   0  21 108 142 146 125 173 141  94 152 154  89   0   0   0   0   0   0   0   0]]\n"
          ]
        }
      ],
      "source": [
        "import numpy as np\n",
        "np.set_printoptions(precision=2, suppress=True, linewidth=145)\n",
        "print(np.matrix(train_images[30_000]))"
      ]
    },
    {
      "cell_type": "markdown",
      "metadata": {
        "id": "L_bUss0edUh4"
      },
      "source": [
        "A simple vista ningún problema\\\n",
        "Los valores de la matriz 2D asociada a la imagen están entre 0 y 255.\\\n",
        "Podemos ver su etiqueta asociada, 3."
      ]
    },
    {
      "cell_type": "code",
      "execution_count": null,
      "metadata": {
        "colab": {
          "base_uri": "https://localhost:8080/"
        },
        "id": "6a9GvqdTqlmv",
        "outputId": "ef2a9c0f-da1a-4f88-f127-e0496329d757"
      },
      "outputs": [
        {
          "output_type": "stream",
          "name": "stdout",
          "text": [
            "3\n"
          ]
        }
      ],
      "source": [
        "print(train_labels[30_000])"
      ]
    },
    {
      "cell_type": "markdown",
      "metadata": {
        "id": "7iUyaT4FdUh4"
      },
      "source": [
        "Viendo la documentación sabemos que se trata de un vestido por ser el valor 3. (3: Dress)\\\n",
        "No obstante podemos usar el paquete matplotlib para ver como es la imagen"
      ]
    },
    {
      "cell_type": "code",
      "execution_count": null,
      "metadata": {
        "colab": {
          "base_uri": "https://localhost:8080/",
          "height": 430
        },
        "id": "vq3OWBIgqlmv",
        "outputId": "b3c7327a-4e89-439a-8ee7-1f72979cb3b2"
      },
      "outputs": [
        {
          "output_type": "display_data",
          "data": {
            "text/plain": [
              "<Figure size 640x480 with 1 Axes>"
            ],
            "image/png": "[encoded data removed]"
          },
          "metadata": {}
        }
      ],
      "source": [
        "import matplotlib.pyplot as plt\n",
        "ropa = train_images[30000]\n",
        "plt.imshow(ropa, cmap=plt.cm.binary) # el num más bajo se pone en color blanco, y el más alto en negro\n",
        "plt.show()"
      ]
    },
    {
      "cell_type": "markdown",
      "metadata": {
        "id": "3cZYNDGzdUh4"
      },
      "source": [
        "Abrimos también una imagen del set de test."
      ]
    },
    {
      "cell_type": "code",
      "execution_count": null,
      "metadata": {
        "colab": {
          "base_uri": "https://localhost:8080/",
          "height": 430
        },
        "id": "ylVHZ8aYqlmw",
        "outputId": "b7fe3cf0-89e8-42bf-a5eb-65ebdea7529a"
      },
      "outputs": [
        {
          "output_type": "display_data",
          "data": {
            "text/plain": [
              "<Figure size 640x480 with 1 Axes>"
            ],
            "image/png": "[encoded data removed]"
          },
          "metadata": {}
        }
      ],
      "source": [
        "import matplotlib.pyplot as plt # TODO importar mnist, como lo hace el profe\n",
        "ropa = test_images[0]\n",
        "plt.imshow(ropa, cmap=plt.cm.binary) # Veamos el elemento 0 del set de tests y pintémoslo con matplotlib\n",
        "plt.show()\n"
      ]
    },
    {
      "cell_type": "markdown",
      "metadata": {
        "id": "QNu3uJWTdUh4"
      },
      "source": [
        "Un zapato, no cabe duda"
      ]
    },
    {
      "cell_type": "code",
      "execution_count": null,
      "metadata": {
        "colab": {
          "base_uri": "https://localhost:8080/"
        },
        "id": "TmJs2BINqlmw",
        "outputId": "77d84951-6952-4bcf-ab66-71438bbd6726"
      },
      "outputs": [
        {
          "output_type": "stream",
          "name": "stdout",
          "text": [
            "9\n"
          ]
        }
      ],
      "source": [
        "print(test_labels[0])"
      ]
    },
    {
      "cell_type": "markdown",
      "metadata": {
        "id": "CcVJhxOxdUh5"
      },
      "source": [
        "Así lo indica su etiqueta (9: shoe)\n"
      ]
    },
    {
      "cell_type": "markdown",
      "metadata": {
        "id": "VVDGHuPNvTqL"
      },
      "source": [
        "La función de keras keras.layers.Flatten() nos podría ser útil para aplanar la entrada .... (falta info)"
      ]
    },
    {
      "cell_type": "markdown",
      "metadata": {
        "id": "UzT5-LModUh5"
      },
      "source": [
        "## Cuestiones"
      ]
    },
    {
      "cell_type": "markdown",
      "metadata": {
        "id": "MU9pZNHbXARm"
      },
      "source": [
        "# Normalización de los datos\n",
        "para facilitar que converja el proceso de entrenamiento preparamos los datos de imagen con alguna transformación. Los tensores transformados tienen la misma cantidad de datos total que el tensor inicial.\n",
        "\n",
        "Utilizaremos la función flatten"
      ]
    },
    {
      "cell_type": "code",
      "execution_count": null,
      "metadata": {
        "colab": {
          "base_uri": "https://localhost:8080/"
        },
        "id": "xMMrQ03KXVpH",
        "outputId": "4656c266-8dd1-4528-9dba-ac9b37345a6d"
      },
      "outputs": [
        {
          "output_type": "stream",
          "name": "stdout",
          "text": [
            "(60000, 28, 28)\n",
            "[[  0   0   0   0   0   0   0   0   1   1   0   0 120 131  91 147  30   0   0   1   1   0   0   0   0   0   0   0]\n",
            " [  0   0   0   0   0   0   1   3   0   0   0   0 251 199 172 195 152   0   0   0   0   3   1   0   0   0   0   0]\n",
            " [  0   0   0   0   0   0   0   0   0  43 124 193 166 239 255 216 172 228 126  61   0   0   0   0   0   0   0   0]\n",
            " [  0   0   0   0   0   0   0  96 167 155 159 171 178 211 215 210 196 189 158 164 159 108   0   0   0   0   0   0]\n",
            " [  0   0   0   0   0   0  83 157 131 117 120 148 148 145 178 159 174 160 123 132 142 172  38   0   0   0   0   0]\n",
            " [  0   0   0   0   0   0 159 128 118 120 122 112  93 124 161 109 128 128 129 146 138 167 122   0   0   0   0   0]\n",
            " [  0   0   0   0   0   0 171 135 120 114 118 119 107 125 123 117 124 124 119 145 147 166 148   0   0   0   0   0]\n",
            " [  0   0   0   0   0   4 171 138 126 120 117 118 102 122 145 111 120 122 120 152 154 155 170   0   0   0   0   0]\n",
            " [  0   0   0   0   0  31 170 129 138 125 113 106 103 118 137 108 135 130 158 182 138 143 186   0   0   0   0   0]\n",
            " [  0   0   0   0   0  58 163 114 137 143 119 103 100 109 118 109 129 134 172 181 131 136 190   0   0   0   0   0]\n",
            " [  0   0   0   0   0  76 160 113 141 148 128 111 101 116 137 111 131 142 167 183 136 120 186  12   0   0   0   0]\n",
            " [  0   0   0   0   0 100 148 108 147 147 134 120 105 116 131 116 136 137 165 192 137 113 187  30   0   0   0   0]\n",
            " [  0   0   0   0   0 114 143 108 158 147 130 125 106 114 122 119 129 134 160 196 136 109 182  51   0   0   0   0]\n",
            " [  0   0   0   0   0 120 140 117 151 148 131 124 109 120 143 120 130 128 159 188 111 108 178  66   0   0   0   0]\n",
            " [  0   0   0   0   0 125 129 128 112 145 140 122 113 118 134 117 132 128 166 157  91 120 170  74   0   0   0   0]\n",
            " [  0   0   0   0   0 126 123 138  74 140 143 124 111 112 126 120 130 129 175 120  88 128 164  91   0   0   0   0]\n",
            " [  0   0   0   0   0 124 123 157  45 145 143 124 113 119 148 122 131 129 183  90  73 137 155  99   0   0   0   0]\n",
            " [  0   0   0   0   0 118 122 167   0 143 149 122 112 118 137 116 132 126 183  73  50 152 147 101   0   0   0   0]\n",
            " [  0   0   0   0   0 111 128 164   0 142 151 122 111 117 132 120 136 125 182  90  18 164 145 107   0   0   0   0]\n",
            " [  0   0   0   0   0 109 132 158   0 146 148 120 108 125 157 120 136 131 176 111   0 164 143 118   0   0   0   0]\n",
            " [  0   0   0   0   0 111 141 140   0 148 149 120 114 123 137 124 137 131 171 135   0 157 147 125   0   0   0   0]\n",
            " [  0   0   0   0   0 111 154 111   0 155 148 118 116 124 143 123 131 129 167 155   0 129 157 129   0   0   0   0]\n",
            " [  0   0   0   0   0 109 155  87   0 157 145 119 117 126 154 126 130 123 161 160   0  97 163 130   0   0   0   0]\n",
            " [  0   0   0   0   0 124 142  54   0 149 141 119 119 124 136 129 126 120 153 175   0  76 145 137   0   0   0   0]\n",
            " [  0   0   0   0   0 136 151  47   0 149 137 119 118 126 143 132 130 123 153 172   0  66 148 154   0   0   0   0]\n",
            " [  0   0   0   0   0 109 174  48   0 154 138 119 117 124 138 130 129 125 159 167   0  58 174 128   0   0   0   0]\n",
            " [  0   0   0   0   0   0   0   0   0  85 182 147 136 143 158 146 148 153 199  70   0   0   0   0   0   0   0   0]\n",
            " [  0   0   0   0   0   0   0   0   0   0  26  54  72  83  96  85  80  61  14   0   0   0   0   0   0   0   0   0]]\n"
          ]
        }
      ],
      "source": [
        "# train_images = train_images.reshape((60000, 28 * 28))  # TODO: eliminar esta linea\n",
        "print(train_images.shape)\n",
        "np.set_printoptions(precision=2, suppress=True, linewidth=145)\n",
        "print(np.matrix(train_images[3000]))"
      ]
    },
    {
      "cell_type": "code",
      "execution_count": null,
      "metadata": {
        "colab": {
          "base_uri": "https://localhost:8080/"
        },
        "id": "J2THPuJzYi0S",
        "outputId": "9d44fb78-97b9-4b55-91d9-c338ca90f196"
      },
      "outputs": [
        {
          "output_type": "stream",
          "name": "stdout",
          "text": [
            "[[0.   0.   0.   0.   0.   0.   0.   0.   0.   0.   0.   0.   0.47 0.51 0.36 0.58 0.12 0.   0.   0.   0.   0.   0.   0.   0.   0.   0.   0.  ]\n",
            " [0.   0.   0.   0.   0.   0.   0.   0.01 0.   0.   0.   0.   0.98 0.78 0.67 0.76 0.6  0.   0.   0.   0.   0.01 0.   0.   0.   0.   0.   0.  ]\n",
            " [0.   0.   0.   0.   0.   0.   0.   0.   0.   0.17 0.49 0.76 0.65 0.94 1.   0.85 0.67 0.89 0.49 0.24 0.   0.   0.   0.   0.   0.   0.   0.  ]\n",
            " [0.   0.   0.   0.   0.   0.   0.   0.38 0.65 0.61 0.62 0.67 0.7  0.83 0.84 0.82 0.77 0.74 0.62 0.64 0.62 0.42 0.   0.   0.   0.   0.   0.  ]\n",
            " [0.   0.   0.   0.   0.   0.   0.33 0.62 0.51 0.46 0.47 0.58 0.58 0.57 0.7  0.62 0.68 0.63 0.48 0.52 0.56 0.67 0.15 0.   0.   0.   0.   0.  ]\n",
            " [0.   0.   0.   0.   0.   0.   0.62 0.5  0.46 0.47 0.48 0.44 0.36 0.49 0.63 0.43 0.5  0.5  0.51 0.57 0.54 0.65 0.48 0.   0.   0.   0.   0.  ]\n",
            " [0.   0.   0.   0.   0.   0.   0.67 0.53 0.47 0.45 0.46 0.47 0.42 0.49 0.48 0.46 0.49 0.49 0.47 0.57 0.58 0.65 0.58 0.   0.   0.   0.   0.  ]\n",
            " [0.   0.   0.   0.   0.   0.02 0.67 0.54 0.49 0.47 0.46 0.46 0.4  0.48 0.57 0.44 0.47 0.48 0.47 0.6  0.6  0.61 0.67 0.   0.   0.   0.   0.  ]\n",
            " [0.   0.   0.   0.   0.   0.12 0.67 0.51 0.54 0.49 0.44 0.42 0.4  0.46 0.54 0.42 0.53 0.51 0.62 0.71 0.54 0.56 0.73 0.   0.   0.   0.   0.  ]\n",
            " [0.   0.   0.   0.   0.   0.23 0.64 0.45 0.54 0.56 0.47 0.4  0.39 0.43 0.46 0.43 0.51 0.53 0.67 0.71 0.51 0.53 0.75 0.   0.   0.   0.   0.  ]\n",
            " [0.   0.   0.   0.   0.   0.3  0.63 0.44 0.55 0.58 0.5  0.44 0.4  0.45 0.54 0.44 0.51 0.56 0.65 0.72 0.53 0.47 0.73 0.05 0.   0.   0.   0.  ]\n",
            " [0.   0.   0.   0.   0.   0.39 0.58 0.42 0.58 0.58 0.53 0.47 0.41 0.45 0.51 0.45 0.53 0.54 0.65 0.75 0.54 0.44 0.73 0.12 0.   0.   0.   0.  ]\n",
            " [0.   0.   0.   0.   0.   0.45 0.56 0.42 0.62 0.58 0.51 0.49 0.42 0.45 0.48 0.47 0.51 0.53 0.63 0.77 0.53 0.43 0.71 0.2  0.   0.   0.   0.  ]\n",
            " [0.   0.   0.   0.   0.   0.47 0.55 0.46 0.59 0.58 0.51 0.49 0.43 0.47 0.56 0.47 0.51 0.5  0.62 0.74 0.44 0.42 0.7  0.26 0.   0.   0.   0.  ]\n",
            " [0.   0.   0.   0.   0.   0.49 0.51 0.5  0.44 0.57 0.55 0.48 0.44 0.46 0.53 0.46 0.52 0.5  0.65 0.62 0.36 0.47 0.67 0.29 0.   0.   0.   0.  ]\n",
            " [0.   0.   0.   0.   0.   0.49 0.48 0.54 0.29 0.55 0.56 0.49 0.44 0.44 0.49 0.47 0.51 0.51 0.69 0.47 0.35 0.5  0.64 0.36 0.   0.   0.   0.  ]\n",
            " [0.   0.   0.   0.   0.   0.49 0.48 0.62 0.18 0.57 0.56 0.49 0.44 0.47 0.58 0.48 0.51 0.51 0.72 0.35 0.29 0.54 0.61 0.39 0.   0.   0.   0.  ]\n",
            " [0.   0.   0.   0.   0.   0.46 0.48 0.65 0.   0.56 0.58 0.48 0.44 0.46 0.54 0.45 0.52 0.49 0.72 0.29 0.2  0.6  0.58 0.4  0.   0.   0.   0.  ]\n",
            " [0.   0.   0.   0.   0.   0.44 0.5  0.64 0.   0.56 0.59 0.48 0.44 0.46 0.52 0.47 0.53 0.49 0.71 0.35 0.07 0.64 0.57 0.42 0.   0.   0.   0.  ]\n",
            " [0.   0.   0.   0.   0.   0.43 0.52 0.62 0.   0.57 0.58 0.47 0.42 0.49 0.62 0.47 0.53 0.51 0.69 0.44 0.   0.64 0.56 0.46 0.   0.   0.   0.  ]\n",
            " [0.   0.   0.   0.   0.   0.44 0.55 0.55 0.   0.58 0.58 0.47 0.45 0.48 0.54 0.49 0.54 0.51 0.67 0.53 0.   0.62 0.58 0.49 0.   0.   0.   0.  ]\n",
            " [0.   0.   0.   0.   0.   0.44 0.6  0.44 0.   0.61 0.58 0.46 0.45 0.49 0.56 0.48 0.51 0.51 0.65 0.61 0.   0.51 0.62 0.51 0.   0.   0.   0.  ]\n",
            " [0.   0.   0.   0.   0.   0.43 0.61 0.34 0.   0.62 0.57 0.47 0.46 0.49 0.6  0.49 0.51 0.48 0.63 0.63 0.   0.38 0.64 0.51 0.   0.   0.   0.  ]\n",
            " [0.   0.   0.   0.   0.   0.49 0.56 0.21 0.   0.58 0.55 0.47 0.47 0.49 0.53 0.51 0.49 0.47 0.6  0.69 0.   0.3  0.57 0.54 0.   0.   0.   0.  ]\n",
            " [0.   0.   0.   0.   0.   0.53 0.59 0.18 0.   0.58 0.54 0.47 0.46 0.49 0.56 0.52 0.51 0.48 0.6  0.67 0.   0.26 0.58 0.6  0.   0.   0.   0.  ]\n",
            " [0.   0.   0.   0.   0.   0.43 0.68 0.19 0.   0.6  0.54 0.47 0.46 0.49 0.54 0.51 0.51 0.49 0.62 0.65 0.   0.23 0.68 0.5  0.   0.   0.   0.  ]\n",
            " [0.   0.   0.   0.   0.   0.   0.   0.   0.   0.33 0.71 0.58 0.53 0.56 0.62 0.57 0.58 0.6  0.78 0.27 0.   0.   0.   0.   0.   0.   0.   0.  ]\n",
            " [0.   0.   0.   0.   0.   0.   0.   0.   0.   0.   0.1  0.21 0.28 0.33 0.38 0.33 0.31 0.24 0.05 0.   0.   0.   0.   0.   0.   0.   0.   0.  ]]\n"
          ]
        }
      ],
      "source": [
        "train_images = train_images.astype('float32') / 255\n",
        "print(np.matrix(train_images[3000]))"
      ]
    },
    {
      "cell_type": "code",
      "execution_count": null,
      "metadata": {
        "id": "alIAz6yMYjcU"
      },
      "outputs": [],
      "source": [
        "test_images = test_images.astype('float32') / 255"
      ]
    },
    {
      "cell_type": "markdown",
      "metadata": {
        "id": "7tTSAqxNYhY3"
      },
      "source": [
        "Codificaremos categoricamente las etiquetas en one-hot encoding, transformando las etiquetas en un vector de tantos ceros como el número de etiquetas distinta, y que contiene el valor de 1 en el índice que le corresponde al valor de la etiqueta:"
      ]
    },
    {
      "cell_type": "code",
      "execution_count": null,
      "metadata": {
        "colab": {
          "base_uri": "https://localhost:8080/"
        },
        "id": "HGqy5GUBYw9r",
        "outputId": "e08229ed-25a1-42df-a2c2-2317fe2726a4"
      },
      "outputs": [
        {
          "output_type": "execute_result",
          "data": {
            "text/plain": [
              "array([0., 0., 0., 1., 0., 0., 0., 0., 0., 0.], dtype=float32)"
            ]
          },
          "metadata": {},
          "execution_count": 374
        }
      ],
      "source": [
        "# Preparación de las etiquetas\n",
        "import numpy as np\n",
        "from keras import utils\n",
        "from keras.utils import to_categorical\n",
        "\n",
        "train_labels = to_categorical(train_labels)\n",
        "test_labels = to_categorical(test_labels)\n",
        "train_labels[30000] # Posición 0 a 9 donde solo la 3 tiene probabilidad 1.\n",
        "# El número 30000 de entrenamiento es un 3"
      ]
    },
    {
      "cell_type": "markdown",
      "metadata": {
        "id": "fmYxDHVEZEUI"
      },
      "source": [
        "En el array de la etiqueta 30000, el 1 está en la posición 3 ya que se trata del índice 3 (Dress)."
      ]
    },
    {
      "cell_type": "markdown",
      "metadata": {
        "id": "g7SvF5s6dUh5"
      },
      "source": [
        "# 1. Configurar y entrenar los siguientes modelos de red de neuronas"
      ]
    },
    {
      "cell_type": "markdown",
      "metadata": {
        "id": "CBIhnqmcdUh5"
      },
      "source": [
        "A continuación establecemos los parámetros de configuración solicitados\\\n",
        "Utilizaremos namedtuples como contenedores de las configuraciones\\\n",
        "Nota: Las configuraciones de este tipo recomendaríamos tenerlas en un script aparte"
      ]
    },
    {
      "cell_type": "code",
      "execution_count": null,
      "metadata": {
        "colab": {
          "base_uri": "https://localhost:8080/"
        },
        "id": "nGe7bDl5dUh5",
        "outputId": "7acd246d-aa21-4cfe-b06d-ad13b5683f31"
      },
      "outputs": [
        {
          "output_type": "stream",
          "name": "stdout",
          "text": [
            "Param_RN(neuronas_capa1=10, funcion_activacion='relu', optimizador='sgd')\n"
          ]
        }
      ],
      "source": [
        "from collections import namedtuple\n",
        "\n",
        "# Guardamos las configuraciones en tuplas\n",
        "neuronas_capa1 = (10, 10, 10, 10, 512, 512, 512, 512)\n",
        "funcion_activacion = (\"relu\", \"relu\", \"sigmoid\", \"sigmoid\", \"relu\", \"relu\", \"sigmoid\", \"sigmoid\")\n",
        "optimizador = (\"sgd\", \"rmsprop\", \"sgd\", \"rmsprop\", \"sgd\", \"rmsprop\", \"sgd\", \"rmsprop\")\n",
        "\n",
        "# Usaremos namedtuples como contenedores de las configuraciones anteriores\n",
        "param_rn = namedtuple(\"Param_RN\",\n",
        "                      [\"neuronas_capa1\",\"funcion_activacion\",\"optimizador\"])\n",
        "\n",
        "# Guardamos en una lista las namedtuples\n",
        "rn_configs = [param_rn(*params) for params in zip(neuronas_capa1,\n",
        "                                                  funcion_activacion,\n",
        "                                                  optimizador)]\n",
        "print(rn_configs[0])  # Vemos un ejemplo de que el formato es correcto"
      ]
    },
    {
      "cell_type": "markdown",
      "source": [
        "Como queremos obtener los mismos resultados para cualquier usuario que ejecute el programa, usamos una seed para inicializar los pesos posteriormente."
      ],
      "metadata": {
        "id": "8XEkTpV-ZPzR"
      }
    },
    {
      "cell_type": "code",
      "source": [
        "# Establecer la semilla global\n",
        "seed_value = 42\n",
        "tf.random.set_seed(seed_value)"
      ],
      "metadata": {
        "id": "ZT_tQ9VkZWXk"
      },
      "execution_count": null,
      "outputs": []
    },
    {
      "cell_type": "markdown",
      "metadata": {
        "id": "LEc03ZbRdUh5"
      },
      "source": [
        "Adicionalmente se utilizará:\n",
        "* función de perdida 'categorical_crossentropy'\n",
        "* métrica de precisión\n",
        "* 5 épocas"
      ]
    },
    {
      "cell_type": "markdown",
      "metadata": {
        "id": "lkAsMhuXdUh5"
      },
      "source": [
        "**CONSTRUIMOS LA RNA**\n",
        "- **Capa** (**layers**) es el **componente básico de las redes neuronales**. => Es un **filtro** de datos (módulo de procesamiento de datos).Entran datos y salen con una forma más útil para el objetivo del problema a resolver. => **Destilación de datos**\n",
        "\n",
        "El tipo de modelo para nuestras redes será secuencial y utilizaremos 2 capas densas (cada neurona está conectada a todas las demás de esa capa).\n",
        "Las redes constarán de dos capas densas:\n",
        "* **Capa 0** es una capa que convierte el input que son matrices 28x28 a un vector (aplana la matriz a un vector).\n",
        "* **Capa 1** contiene el número de neuronas y su función de activación (ambos especificados en el enunciado)\n",
        "* **Capa 2** contiene 10 neuronas (una para cada tipo de ropa) y función de activación softmax.\n",
        "Esta última capa nos servirá para saber como de bien lo ha hecho la red, al devolvernos una matriz de 10 puntuaciones de probabilidad (sumando 1)\n",
        "\n",
        "La puntuación será la probabilidad de que la imagen pertenezca a una de nuestras clases de 10 tipos de prendas.\n",
        "\n"
      ]
    },
    {
      "cell_type": "code",
      "execution_count": null,
      "metadata": {
        "colab": {
          "base_uri": "https://localhost:8080/"
        },
        "id": "mzV0Wi66AGug",
        "outputId": "e196edbf-3b46-4ac9-c2f6-be834a48e1de"
      },
      "outputs": [
        {
          "output_type": "stream",
          "name": "stdout",
          "text": [
            "Model: \"sequential_185\"\n",
            "_________________________________________________________________\n",
            " Layer (type)                Output Shape              Param #   \n",
            "=================================================================\n",
            " Capa_0 (Flatten)            (None, 784)               0         \n",
            "                                                                 \n",
            " Capa_1 (Dense)              (None, 10)                7850      \n",
            "                                                                 \n",
            " Capa_2 (Dense)              (None, 10)                110       \n",
            "                                                                 \n",
            "=================================================================\n",
            "Total params: 7960 (31.09 KB)\n",
            "Trainable params: 7960 (31.09 KB)\n",
            "Non-trainable params: 0 (0.00 Byte)\n",
            "_________________________________________________________________\n"
          ]
        }
      ],
      "source": [
        "# 3.- CONSTRUIMOS LA ARQUITECTURA DE LA RED\n",
        "from keras import models  # importamos de keras las librerías de modelos y de capas (layers)\n",
        "from keras import layers\n",
        "\n",
        "img_shape = train_images.shape[1:]  # Dimensiones entradas (28, 28)\n",
        "networks = []\n",
        "weights_initializer = tf.keras.initializers.GlorotUniform(seed=seed_value) # inicialización de pesos usando GlorotUniform\n",
        "for config in rn_configs:\n",
        "  network = models.Sequential()\n",
        "  # Capa 0 (Convertir el input en 1D)\n",
        "  network.add(layers.Flatten(input_shape=img_shape,\n",
        "                             name='Capa_0'))\n",
        "\n",
        "  # Capa 1 (configuración enunciado)\n",
        "  network.add(layers.Dense(units=config.neuronas_capa1,\n",
        "                           activation=config.funcion_activacion,\n",
        "                           kernel_initializer=weights_initializer, # inicialización de pesos\n",
        "                           name='Capa_1'))\n",
        "\n",
        "  # Capa 2 (10 neuronas y softmax)\n",
        "  network.add(layers.Dense(units=10,\n",
        "                           activation='softmax',\n",
        "                           kernel_initializer=weights_initializer,\n",
        "                           name='Capa_2'))\n",
        "  networks.append(network)\n",
        "\n",
        "# Por ejemplo, vemos la primera network de nuestra lista de networks\n",
        "networks[0].summary()\n",
        "\n",
        "# guardamos los pesos iniciales en una variable\n",
        "initial_weights = [network.get_weights() for network in networks]"
      ]
    },
    {
      "cell_type": "markdown",
      "source": [
        "Hemos inicializado los pesos aleatoriamente usando Glorot uniform y la seed que hemos definido anteriormente.\n",
        "Para conseguir una convergencia sustancialmente más rápida y una mayor precisión en los resultados, la mejor forma es inicializar los pesos con un inicializador de pesos GlorotNormal o GlorotUniform."
      ],
      "metadata": {
        "id": "n39nSQlgefeq"
      }
    },
    {
      "cell_type": "markdown",
      "metadata": {
        "id": "LGNdAEL_EKvg"
      },
      "source": [
        "Observamos que para la primera red neuronal (networks[0]), tenemos un total de 7960 parámetros que se obtienen como resultado de *nº de neuronas x nº de entradas + sesgos* de cada capa ya que las capas son densas.\n",
        "\n",
        "*   **Capa 1:** 10 x 784 + 10 = 7850\n",
        "*   **Capa 2:** 10 x 10 + 10 = 110\n",
        "*   **TOTAL:** 7850 + 110 = 7960"
      ]
    },
    {
      "cell_type": "markdown",
      "metadata": {
        "id": "k5s8MCtJRYCz"
      },
      "source": [
        "Para terminar de preparar la red, debemos elegir:\n",
        "- Una **función de pérdida**: utilizaremos la función de pérdida `categorical_crossentropy` que mide la discrepancia entre las predicciones de un modelo y las respuestas reales en problemas de clasificación con múltiples categorías. Calcula la diferencia entre las distribuciones de probabilidad predichas y las verdaderas, utilizando la entropía cruzada como métrica.\n",
        "\n",
        "- Un **optimizador**: dependiendo del caso usaremos los optimizadores `sgd` o `rmsprop`.\n",
        "  \n",
        "\n",
        "1.   SGD (Descenso de Gradiente Estocástico): Actualiza los pesos en dirección opuesta al gradiente de la función de pérdida. \"Estocástico\" significa que utiliza muestras de datos de manera aleatoria para calcular el gradiente, lo que puede ayudar a evitar mínimos locales.\n",
        "2.   RMSprop (Root Mean Square Propagation): Modifica el SGD para adaptarse a tasas de aprendizaje diferentes para cada parámetro. Almacena una media móvil ponderada de los cuadrados de los gradientes anteriores y utiliza esta información para normalizar la tasa de aprendizaje.\n",
        "\n",
        "\n",
        "- **Métricas** para monitorizar durante el entrenamiento y las pruebas. Solo nos preocuparemos por la **precisión** `accuracy` (la fracción de las imágenes que fueron clasificado)."
      ]
    },
    {
      "cell_type": "code",
      "execution_count": null,
      "metadata": {
        "id": "FZFKNvdaLKnY"
      },
      "outputs": [],
      "source": [
        "# Cargamos el optimizador, la función de pérdida y las métricas\n",
        "for i, config in enumerate(rn_configs):\n",
        "  networks[i].compile(optimizer=config.optimizador,\n",
        "                  loss='categorical_crossentropy',\n",
        "                  metrics=['accuracy']) # si de cada 10 imágenes acierta 8, tiene un accuracy del 80%"
      ]
    },
    {
      "cell_type": "markdown",
      "metadata": {
        "id": "RrjL3Y6AVfAx"
      },
      "source": [
        "La función de pérdida crossentropy se utiliza como señal\n",
        "de retroalimentación para aprender los tensores de peso y que la fase de\n",
        "entrenamiento intentará minimizar.\\\n",
        "La reducción de la pérdida se produce mediante el descenso de gradiente\n",
        "estocástico minilote, cuyas reglas exactas están gobernadas por el optimizador\n",
        "'rmsprop'."
      ]
    },
    {
      "cell_type": "markdown",
      "metadata": {
        "id": "0viqnuRkZV57"
      },
      "source": [
        "# Entrenamiento de las redes neuronales\n",
        "\n",
        "\n",
        "*   Nº de épocas: Usaremos 5 épocas (la red pasará 5 veces por el conjunto de datos) para\n",
        "separar el entrenamiento en 5 fases, dividir el entrenamiento en épocas es útil para el registro y la evaluación periódica\n",
        "*   Tamaño del lote (batch size): tomamos paquetes de 128 imágenes, para calcular la media de las pérdidas y ajustar los parámetros cada 128 imágenes.\n",
        "\n"
      ]
    },
    {
      "cell_type": "markdown",
      "source": [
        "Ya que el tiempo de compilación es alto, hemos creado carpetas con las redes neuronales entrenadas (en `trained_networks`) para no tener que entrenarlas cada vez que se abra el documento. En su lugar, las cargaremos entrenadas con la función load_model y trabajaremos con los resultados obtenidos"
      ],
      "metadata": {
        "id": "9ettHc6yoD0c"
      }
    },
    {
      "cell_type": "code",
      "source": [
        "from keras.src.engine.functional import network_serialization\n",
        "from keras.models import load_model\n",
        "\n",
        "# Especifica la ruta al archivo del modelo\n",
        "networks_path = 'trained_networks'\n",
        "networks = [] # TODO: revisar tener q inicializar networks o añadir if len(networks) < 9:\n",
        "# Carga el modelo\n",
        "for i in range(8):\n",
        "    model_path = \"/\".join([networks_path, f\"network_{i}\"])\n",
        "    networks.append(load_model(model_path))"
      ],
      "metadata": {
        "id": "OMd0ZI5roPJQ"
      },
      "execution_count": null,
      "outputs": []
    },
    {
      "cell_type": "markdown",
      "source": [
        "Obtenemos un vector de networks con los 8 casos."
      ],
      "metadata": {
        "id": "FD7YebGsPBE6"
      }
    },
    {
      "cell_type": "code",
      "source": [
        "len(networks)"
      ],
      "metadata": {
        "id": "SWxyhQ59PAkG",
        "outputId": "6b93c643-6928-4339-8cbc-d75e4596d551",
        "colab": {
          "base_uri": "https://localhost:8080/"
        }
      },
      "execution_count": null,
      "outputs": [
        {
          "output_type": "execute_result",
          "data": {
            "text/plain": [
              "8"
            ]
          },
          "metadata": {},
          "execution_count": 380
        }
      ]
    },
    {
      "cell_type": "markdown",
      "source": [
        "Opcionalmente se podría ejecutar y continuar con el programa."
      ],
      "metadata": {
        "id": "wxr7WgWLp1HL"
      }
    },
    {
      "cell_type": "code",
      "execution_count": null,
      "metadata": {
        "colab": {
          "base_uri": "https://localhost:8080/",
          "height": 459
        },
        "id": "vMFjaqJLCU7u",
        "outputId": "4b61cffe-a001-4e16-9592-02708e5dc5ab"
      },
      "outputs": [
        {
          "output_type": "stream",
          "name": "stdout",
          "text": [
            "Epoch 1/5\n",
            "469/469 [==============================] - 2s 2ms/step - loss: 1.4794 - accuracy: 0.4973\n",
            "Epoch 2/5\n",
            "469/469 [==============================] - 2s 4ms/step - loss: 0.8596 - accuracy: 0.6940\n",
            "Epoch 3/5\n",
            "214/469 [============>.................] - ETA: 1s - loss: 0.7448 - accuracy: 0.7369"
          ]
        },
        {
          "output_type": "error",
          "ename": "KeyboardInterrupt",
          "evalue": "ignored",
          "traceback": [
            "\u001b[0;31m---------------------------------------------------------------------------\u001b[0m",
            "\u001b[0;31mKeyboardInterrupt\u001b[0m                         Traceback (most recent call last)",
            "\u001b[0;32m<ipython-input-340-ceeb416cabff>\u001b[0m in \u001b[0;36m<cell line: 1>\u001b[0;34m()\u001b[0m\n\u001b[1;32m      1\u001b[0m \u001b[0;32mfor\u001b[0m \u001b[0mi\u001b[0m\u001b[0;34m,\u001b[0m \u001b[0mnetwork\u001b[0m \u001b[0;32min\u001b[0m \u001b[0menumerate\u001b[0m\u001b[0;34m(\u001b[0m\u001b[0mnetworks\u001b[0m\u001b[0;34m)\u001b[0m\u001b[0;34m:\u001b[0m\u001b[0;34m\u001b[0m\u001b[0;34m\u001b[0m\u001b[0m\n\u001b[1;32m      2\u001b[0m   \u001b[0mnetwork\u001b[0m\u001b[0;34m.\u001b[0m\u001b[0mset_weights\u001b[0m\u001b[0;34m(\u001b[0m\u001b[0minitial_weights\u001b[0m\u001b[0;34m[\u001b[0m\u001b[0mi\u001b[0m\u001b[0;34m]\u001b[0m\u001b[0;34m)\u001b[0m \u001b[0;31m# esta linea es para entrenar por primera vez para los pesos iniciales\u001b[0m\u001b[0;34m\u001b[0m\u001b[0;34m\u001b[0m\u001b[0m\n\u001b[0;32m----> 3\u001b[0;31m   \u001b[0mnetwork\u001b[0m\u001b[0;34m.\u001b[0m\u001b[0mfit\u001b[0m\u001b[0;34m(\u001b[0m\u001b[0mtrain_images\u001b[0m\u001b[0;34m,\u001b[0m \u001b[0mtrain_labels\u001b[0m\u001b[0;34m,\u001b[0m \u001b[0mepochs\u001b[0m\u001b[0;34m=\u001b[0m\u001b[0;36m5\u001b[0m\u001b[0;34m,\u001b[0m \u001b[0mbatch_size\u001b[0m\u001b[0;34m=\u001b[0m\u001b[0;36m128\u001b[0m\u001b[0;34m)\u001b[0m\u001b[0;34m\u001b[0m\u001b[0;34m\u001b[0m\u001b[0m\n\u001b[0m",
            "\u001b[0;32m/usr/local/lib/python3.10/dist-packages/keras/src/utils/traceback_utils.py\u001b[0m in \u001b[0;36merror_handler\u001b[0;34m(*args, **kwargs)\u001b[0m\n\u001b[1;32m     63\u001b[0m         \u001b[0mfiltered_tb\u001b[0m \u001b[0;34m=\u001b[0m \u001b[0;32mNone\u001b[0m\u001b[0;34m\u001b[0m\u001b[0;34m\u001b[0m\u001b[0m\n\u001b[1;32m     64\u001b[0m         \u001b[0;32mtry\u001b[0m\u001b[0;34m:\u001b[0m\u001b[0;34m\u001b[0m\u001b[0;34m\u001b[0m\u001b[0m\n\u001b[0;32m---> 65\u001b[0;31m             \u001b[0;32mreturn\u001b[0m \u001b[0mfn\u001b[0m\u001b[0;34m(\u001b[0m\u001b[0;34m*\u001b[0m\u001b[0margs\u001b[0m\u001b[0;34m,\u001b[0m \u001b[0;34m**\u001b[0m\u001b[0mkwargs\u001b[0m\u001b[0;34m)\u001b[0m\u001b[0;34m\u001b[0m\u001b[0;34m\u001b[0m\u001b[0m\n\u001b[0m\u001b[1;32m     66\u001b[0m         \u001b[0;32mexcept\u001b[0m \u001b[0mException\u001b[0m \u001b[0;32mas\u001b[0m \u001b[0me\u001b[0m\u001b[0;34m:\u001b[0m\u001b[0;34m\u001b[0m\u001b[0;34m\u001b[0m\u001b[0m\n\u001b[1;32m     67\u001b[0m             \u001b[0mfiltered_tb\u001b[0m \u001b[0;34m=\u001b[0m \u001b[0m_process_traceback_frames\u001b[0m\u001b[0;34m(\u001b[0m\u001b[0me\u001b[0m\u001b[0;34m.\u001b[0m\u001b[0m__traceback__\u001b[0m\u001b[0;34m)\u001b[0m\u001b[0;34m\u001b[0m\u001b[0;34m\u001b[0m\u001b[0m\n",
            "\u001b[0;32m/usr/local/lib/python3.10/dist-packages/keras/src/engine/training.py\u001b[0m in \u001b[0;36mfit\u001b[0;34m(self, x, y, batch_size, epochs, verbose, callbacks, validation_split, validation_data, shuffle, class_weight, sample_weight, initial_epoch, steps_per_epoch, validation_steps, validation_batch_size, validation_freq, max_queue_size, workers, use_multiprocessing)\u001b[0m\n\u001b[1;32m   1740\u001b[0m                         ):\n\u001b[1;32m   1741\u001b[0m                             \u001b[0mcallbacks\u001b[0m\u001b[0;34m.\u001b[0m\u001b[0mon_train_batch_begin\u001b[0m\u001b[0;34m(\u001b[0m\u001b[0mstep\u001b[0m\u001b[0;34m)\u001b[0m\u001b[0;34m\u001b[0m\u001b[0;34m\u001b[0m\u001b[0m\n\u001b[0;32m-> 1742\u001b[0;31m                             \u001b[0mtmp_logs\u001b[0m \u001b[0;34m=\u001b[0m \u001b[0mself\u001b[0m\u001b[0;34m.\u001b[0m\u001b[0mtrain_function\u001b[0m\u001b[0;34m(\u001b[0m\u001b[0miterator\u001b[0m\u001b[0;34m)\u001b[0m\u001b[0;34m\u001b[0m\u001b[0;34m\u001b[0m\u001b[0m\n\u001b[0m\u001b[1;32m   1743\u001b[0m                             \u001b[0;32mif\u001b[0m \u001b[0mdata_handler\u001b[0m\u001b[0;34m.\u001b[0m\u001b[0mshould_sync\u001b[0m\u001b[0;34m:\u001b[0m\u001b[0;34m\u001b[0m\u001b[0;34m\u001b[0m\u001b[0m\n\u001b[1;32m   1744\u001b[0m                                 \u001b[0mcontext\u001b[0m\u001b[0;34m.\u001b[0m\u001b[0masync_wait\u001b[0m\u001b[0;34m(\u001b[0m\u001b[0;34m)\u001b[0m\u001b[0;34m\u001b[0m\u001b[0;34m\u001b[0m\u001b[0m\n",
            "\u001b[0;32m/usr/local/lib/python3.10/dist-packages/tensorflow/python/util/traceback_utils.py\u001b[0m in \u001b[0;36merror_handler\u001b[0;34m(*args, **kwargs)\u001b[0m\n\u001b[1;32m    148\u001b[0m     \u001b[0mfiltered_tb\u001b[0m \u001b[0;34m=\u001b[0m \u001b[0;32mNone\u001b[0m\u001b[0;34m\u001b[0m\u001b[0;34m\u001b[0m\u001b[0m\n\u001b[1;32m    149\u001b[0m     \u001b[0;32mtry\u001b[0m\u001b[0;34m:\u001b[0m\u001b[0;34m\u001b[0m\u001b[0;34m\u001b[0m\u001b[0m\n\u001b[0;32m--> 150\u001b[0;31m       \u001b[0;32mreturn\u001b[0m \u001b[0mfn\u001b[0m\u001b[0;34m(\u001b[0m\u001b[0;34m*\u001b[0m\u001b[0margs\u001b[0m\u001b[0;34m,\u001b[0m \u001b[0;34m**\u001b[0m\u001b[0mkwargs\u001b[0m\u001b[0;34m)\u001b[0m\u001b[0;34m\u001b[0m\u001b[0;34m\u001b[0m\u001b[0m\n\u001b[0m\u001b[1;32m    151\u001b[0m     \u001b[0;32mexcept\u001b[0m \u001b[0mException\u001b[0m \u001b[0;32mas\u001b[0m \u001b[0me\u001b[0m\u001b[0;34m:\u001b[0m\u001b[0;34m\u001b[0m\u001b[0;34m\u001b[0m\u001b[0m\n\u001b[1;32m    152\u001b[0m       \u001b[0mfiltered_tb\u001b[0m \u001b[0;34m=\u001b[0m \u001b[0m_process_traceback_frames\u001b[0m\u001b[0;34m(\u001b[0m\u001b[0me\u001b[0m\u001b[0;34m.\u001b[0m\u001b[0m__traceback__\u001b[0m\u001b[0;34m)\u001b[0m\u001b[0;34m\u001b[0m\u001b[0;34m\u001b[0m\u001b[0m\n",
            "\u001b[0;32m/usr/local/lib/python3.10/dist-packages/tensorflow/python/eager/polymorphic_function/polymorphic_function.py\u001b[0m in \u001b[0;36m__call__\u001b[0;34m(self, *args, **kwds)\u001b[0m\n\u001b[1;32m    823\u001b[0m \u001b[0;34m\u001b[0m\u001b[0m\n\u001b[1;32m    824\u001b[0m       \u001b[0;32mwith\u001b[0m \u001b[0mOptionalXlaContext\u001b[0m\u001b[0;34m(\u001b[0m\u001b[0mself\u001b[0m\u001b[0;34m.\u001b[0m\u001b[0m_jit_compile\u001b[0m\u001b[0;34m)\u001b[0m\u001b[0;34m:\u001b[0m\u001b[0;34m\u001b[0m\u001b[0;34m\u001b[0m\u001b[0m\n\u001b[0;32m--> 825\u001b[0;31m         \u001b[0mresult\u001b[0m \u001b[0;34m=\u001b[0m \u001b[0mself\u001b[0m\u001b[0;34m.\u001b[0m\u001b[0m_call\u001b[0m\u001b[0;34m(\u001b[0m\u001b[0;34m*\u001b[0m\u001b[0margs\u001b[0m\u001b[0;34m,\u001b[0m \u001b[0;34m**\u001b[0m\u001b[0mkwds\u001b[0m\u001b[0;34m)\u001b[0m\u001b[0;34m\u001b[0m\u001b[0;34m\u001b[0m\u001b[0m\n\u001b[0m\u001b[1;32m    826\u001b[0m \u001b[0;34m\u001b[0m\u001b[0m\n\u001b[1;32m    827\u001b[0m       \u001b[0mnew_tracing_count\u001b[0m \u001b[0;34m=\u001b[0m \u001b[0mself\u001b[0m\u001b[0;34m.\u001b[0m\u001b[0mexperimental_get_tracing_count\u001b[0m\u001b[0;34m(\u001b[0m\u001b[0;34m)\u001b[0m\u001b[0;34m\u001b[0m\u001b[0;34m\u001b[0m\u001b[0m\n",
            "\u001b[0;32m/usr/local/lib/python3.10/dist-packages/tensorflow/python/eager/polymorphic_function/polymorphic_function.py\u001b[0m in \u001b[0;36m_call\u001b[0;34m(self, *args, **kwds)\u001b[0m\n\u001b[1;32m    855\u001b[0m       \u001b[0;31m# In this case we have created variables on the first call, so we run the\u001b[0m\u001b[0;34m\u001b[0m\u001b[0;34m\u001b[0m\u001b[0m\n\u001b[1;32m    856\u001b[0m       \u001b[0;31m# defunned version which is guaranteed to never create variables.\u001b[0m\u001b[0;34m\u001b[0m\u001b[0;34m\u001b[0m\u001b[0m\n\u001b[0;32m--> 857\u001b[0;31m       \u001b[0;32mreturn\u001b[0m \u001b[0mself\u001b[0m\u001b[0;34m.\u001b[0m\u001b[0m_no_variable_creation_fn\u001b[0m\u001b[0;34m(\u001b[0m\u001b[0;34m*\u001b[0m\u001b[0margs\u001b[0m\u001b[0;34m,\u001b[0m \u001b[0;34m**\u001b[0m\u001b[0mkwds\u001b[0m\u001b[0;34m)\u001b[0m  \u001b[0;31m# pylint: disable=not-callable\u001b[0m\u001b[0;34m\u001b[0m\u001b[0;34m\u001b[0m\u001b[0m\n\u001b[0m\u001b[1;32m    858\u001b[0m     \u001b[0;32melif\u001b[0m \u001b[0mself\u001b[0m\u001b[0;34m.\u001b[0m\u001b[0m_variable_creation_fn\u001b[0m \u001b[0;32mis\u001b[0m \u001b[0;32mnot\u001b[0m \u001b[0;32mNone\u001b[0m\u001b[0;34m:\u001b[0m\u001b[0;34m\u001b[0m\u001b[0;34m\u001b[0m\u001b[0m\n\u001b[1;32m    859\u001b[0m       \u001b[0;31m# Release the lock early so that multiple threads can perform the call\u001b[0m\u001b[0;34m\u001b[0m\u001b[0;34m\u001b[0m\u001b[0m\n",
            "\u001b[0;32m/usr/local/lib/python3.10/dist-packages/tensorflow/python/eager/polymorphic_function/tracing_compiler.py\u001b[0m in \u001b[0;36m__call__\u001b[0;34m(self, *args, **kwargs)\u001b[0m\n\u001b[1;32m    146\u001b[0m       (concrete_function,\n\u001b[1;32m    147\u001b[0m        filtered_flat_args) = self._maybe_define_function(args, kwargs)\n\u001b[0;32m--> 148\u001b[0;31m     return concrete_function._call_flat(\n\u001b[0m\u001b[1;32m    149\u001b[0m         filtered_flat_args, captured_inputs=concrete_function.captured_inputs)  # pylint: disable=protected-access\n\u001b[1;32m    150\u001b[0m \u001b[0;34m\u001b[0m\u001b[0m\n",
            "\u001b[0;32m/usr/local/lib/python3.10/dist-packages/tensorflow/python/eager/polymorphic_function/monomorphic_function.py\u001b[0m in \u001b[0;36m_call_flat\u001b[0;34m(self, args, captured_inputs)\u001b[0m\n\u001b[1;32m   1347\u001b[0m         and executing_eagerly):\n\u001b[1;32m   1348\u001b[0m       \u001b[0;31m# No tape is watching; skip to running the function.\u001b[0m\u001b[0;34m\u001b[0m\u001b[0;34m\u001b[0m\u001b[0m\n\u001b[0;32m-> 1349\u001b[0;31m       \u001b[0;32mreturn\u001b[0m \u001b[0mself\u001b[0m\u001b[0;34m.\u001b[0m\u001b[0m_build_call_outputs\u001b[0m\u001b[0;34m(\u001b[0m\u001b[0mself\u001b[0m\u001b[0;34m.\u001b[0m\u001b[0m_inference_function\u001b[0m\u001b[0;34m(\u001b[0m\u001b[0;34m*\u001b[0m\u001b[0margs\u001b[0m\u001b[0;34m)\u001b[0m\u001b[0;34m)\u001b[0m\u001b[0;34m\u001b[0m\u001b[0;34m\u001b[0m\u001b[0m\n\u001b[0m\u001b[1;32m   1350\u001b[0m     forward_backward = self._select_forward_and_backward_functions(\n\u001b[1;32m   1351\u001b[0m         \u001b[0margs\u001b[0m\u001b[0;34m,\u001b[0m\u001b[0;34m\u001b[0m\u001b[0;34m\u001b[0m\u001b[0m\n",
            "\u001b[0;32m/usr/local/lib/python3.10/dist-packages/tensorflow/python/eager/polymorphic_function/atomic_function.py\u001b[0m in \u001b[0;36m__call__\u001b[0;34m(self, *args)\u001b[0m\n\u001b[1;32m    194\u001b[0m         \u001b[0;32mwith\u001b[0m \u001b[0mrecord\u001b[0m\u001b[0;34m.\u001b[0m\u001b[0mstop_recording\u001b[0m\u001b[0;34m(\u001b[0m\u001b[0;34m)\u001b[0m\u001b[0;34m:\u001b[0m\u001b[0;34m\u001b[0m\u001b[0;34m\u001b[0m\u001b[0m\n\u001b[1;32m    195\u001b[0m           \u001b[0;32mif\u001b[0m \u001b[0mself\u001b[0m\u001b[0;34m.\u001b[0m\u001b[0m_bound_context\u001b[0m\u001b[0;34m.\u001b[0m\u001b[0mexecuting_eagerly\u001b[0m\u001b[0;34m(\u001b[0m\u001b[0;34m)\u001b[0m\u001b[0;34m:\u001b[0m\u001b[0;34m\u001b[0m\u001b[0;34m\u001b[0m\u001b[0m\n\u001b[0;32m--> 196\u001b[0;31m             outputs = self._bound_context.call_function(\n\u001b[0m\u001b[1;32m    197\u001b[0m                 \u001b[0mself\u001b[0m\u001b[0;34m.\u001b[0m\u001b[0mname\u001b[0m\u001b[0;34m,\u001b[0m\u001b[0;34m\u001b[0m\u001b[0;34m\u001b[0m\u001b[0m\n\u001b[1;32m    198\u001b[0m                 \u001b[0mlist\u001b[0m\u001b[0;34m(\u001b[0m\u001b[0margs\u001b[0m\u001b[0;34m)\u001b[0m\u001b[0;34m,\u001b[0m\u001b[0;34m\u001b[0m\u001b[0;34m\u001b[0m\u001b[0m\n",
            "\u001b[0;32m/usr/local/lib/python3.10/dist-packages/tensorflow/python/eager/context.py\u001b[0m in \u001b[0;36mcall_function\u001b[0;34m(self, name, tensor_inputs, num_outputs)\u001b[0m\n\u001b[1;32m   1455\u001b[0m     \u001b[0mcancellation_context\u001b[0m \u001b[0;34m=\u001b[0m \u001b[0mcancellation\u001b[0m\u001b[0;34m.\u001b[0m\u001b[0mcontext\u001b[0m\u001b[0;34m(\u001b[0m\u001b[0;34m)\u001b[0m\u001b[0;34m\u001b[0m\u001b[0;34m\u001b[0m\u001b[0m\n\u001b[1;32m   1456\u001b[0m     \u001b[0;32mif\u001b[0m \u001b[0mcancellation_context\u001b[0m \u001b[0;32mis\u001b[0m \u001b[0;32mNone\u001b[0m\u001b[0;34m:\u001b[0m\u001b[0;34m\u001b[0m\u001b[0;34m\u001b[0m\u001b[0m\n\u001b[0;32m-> 1457\u001b[0;31m       outputs = execute.execute(\n\u001b[0m\u001b[1;32m   1458\u001b[0m           \u001b[0mname\u001b[0m\u001b[0;34m.\u001b[0m\u001b[0mdecode\u001b[0m\u001b[0;34m(\u001b[0m\u001b[0;34m\"utf-8\"\u001b[0m\u001b[0;34m)\u001b[0m\u001b[0;34m,\u001b[0m\u001b[0;34m\u001b[0m\u001b[0;34m\u001b[0m\u001b[0m\n\u001b[1;32m   1459\u001b[0m           \u001b[0mnum_outputs\u001b[0m\u001b[0;34m=\u001b[0m\u001b[0mnum_outputs\u001b[0m\u001b[0;34m,\u001b[0m\u001b[0;34m\u001b[0m\u001b[0;34m\u001b[0m\u001b[0m\n",
            "\u001b[0;32m/usr/local/lib/python3.10/dist-packages/tensorflow/python/eager/execute.py\u001b[0m in \u001b[0;36mquick_execute\u001b[0;34m(op_name, num_outputs, inputs, attrs, ctx, name)\u001b[0m\n\u001b[1;32m     51\u001b[0m   \u001b[0;32mtry\u001b[0m\u001b[0;34m:\u001b[0m\u001b[0;34m\u001b[0m\u001b[0;34m\u001b[0m\u001b[0m\n\u001b[1;32m     52\u001b[0m     \u001b[0mctx\u001b[0m\u001b[0;34m.\u001b[0m\u001b[0mensure_initialized\u001b[0m\u001b[0;34m(\u001b[0m\u001b[0;34m)\u001b[0m\u001b[0;34m\u001b[0m\u001b[0;34m\u001b[0m\u001b[0m\n\u001b[0;32m---> 53\u001b[0;31m     tensors = pywrap_tfe.TFE_Py_Execute(ctx._handle, device_name, op_name,\n\u001b[0m\u001b[1;32m     54\u001b[0m                                         inputs, attrs, num_outputs)\n\u001b[1;32m     55\u001b[0m   \u001b[0;32mexcept\u001b[0m \u001b[0mcore\u001b[0m\u001b[0;34m.\u001b[0m\u001b[0m_NotOkStatusException\u001b[0m \u001b[0;32mas\u001b[0m \u001b[0me\u001b[0m\u001b[0;34m:\u001b[0m\u001b[0;34m\u001b[0m\u001b[0;34m\u001b[0m\u001b[0m\n",
            "\u001b[0;31mKeyboardInterrupt\u001b[0m: "
          ]
        }
      ],
      "source": [
        "for i, network in enumerate(networks):\n",
        "  network.set_weights(initial_weights[i]) # esta linea es para entrenar por primera vez para los pesos iniciales\n",
        "  network.fit(train_images, train_labels, epochs=5, batch_size=128)"
      ]
    },
    {
      "cell_type": "markdown",
      "metadata": {
        "id": "KBKPt5CNbWR8"
      },
      "source": [
        "La red empezará a iterar por lo datos de entrenamiento en minilotes de 128 muestras, 5 veces. En cada iteración, la red computará los gradientes de los pesos en relación con la pérdida en el lote y ajustará los pesos en\n",
        "consecuencia. Tras estas 5 repeticiones, la red habrá realizado 2.345 ajustes de gradiente (469 por repetición), la pérdida será lo bastante baja como para que la red sea capaz de clasificar números escritos a mano con gran exactitud.\n",
        "\n"
      ]
    },
    {
      "cell_type": "markdown",
      "metadata": {
        "id": "7yEdnkcjdy3l"
      },
      "source": [
        "# 2. Explicar la salida de la llamada model.summary() de cada uno de los 8 casos"
      ]
    },
    {
      "cell_type": "code",
      "execution_count": null,
      "metadata": {
        "colab": {
          "base_uri": "https://localhost:8080/"
        },
        "id": "YjFsCJv_Nop3",
        "outputId": "c59932b1-53f9-40c3-8e01-f89e89ab1818"
      },
      "outputs": [
        {
          "output_type": "stream",
          "name": "stdout",
          "text": [
            "\n",
            "PARÁMETROS DE LA RED NEURONAL 0:\n",
            "Model: \"sequential_97\"\n",
            "_________________________________________________________________\n",
            " Layer (type)                Output Shape              Param #   \n",
            "=================================================================\n",
            " Capa_0 (Flatten)            (None, 784)               0         \n",
            "                                                                 \n",
            " Capa_1 (Dense)              (None, 10)                7850      \n",
            "                                                                 \n",
            " Capa_2 (Dense)              (None, 10)                110       \n",
            "                                                                 \n",
            "=================================================================\n",
            "Total params: 7960 (31.09 KB)\n",
            "Trainable params: 7960 (31.09 KB)\n",
            "Non-trainable params: 0 (0.00 Byte)\n",
            "_________________________________________________________________\n",
            "\n",
            "\n",
            "\n",
            "PARÁMETROS DE LA RED NEURONAL 1:\n",
            "Model: \"sequential_98\"\n",
            "_________________________________________________________________\n",
            " Layer (type)                Output Shape              Param #   \n",
            "=================================================================\n",
            " Capa_0 (Flatten)            (None, 784)               0         \n",
            "                                                                 \n",
            " Capa_1 (Dense)              (None, 10)                7850      \n",
            "                                                                 \n",
            " Capa_2 (Dense)              (None, 10)                110       \n",
            "                                                                 \n",
            "=================================================================\n",
            "Total params: 7960 (31.09 KB)\n",
            "Trainable params: 7960 (31.09 KB)\n",
            "Non-trainable params: 0 (0.00 Byte)\n",
            "_________________________________________________________________\n",
            "\n",
            "\n",
            "\n",
            "PARÁMETROS DE LA RED NEURONAL 2:\n",
            "Model: \"sequential_99\"\n",
            "_________________________________________________________________\n",
            " Layer (type)                Output Shape              Param #   \n",
            "=================================================================\n",
            " Capa_0 (Flatten)            (None, 784)               0         \n",
            "                                                                 \n",
            " Capa_1 (Dense)              (None, 10)                7850      \n",
            "                                                                 \n",
            " Capa_2 (Dense)              (None, 10)                110       \n",
            "                                                                 \n",
            "=================================================================\n",
            "Total params: 7960 (31.09 KB)\n",
            "Trainable params: 7960 (31.09 KB)\n",
            "Non-trainable params: 0 (0.00 Byte)\n",
            "_________________________________________________________________\n",
            "\n",
            "\n",
            "\n",
            "PARÁMETROS DE LA RED NEURONAL 3:\n",
            "Model: \"sequential_100\"\n",
            "_________________________________________________________________\n",
            " Layer (type)                Output Shape              Param #   \n",
            "=================================================================\n",
            " Capa_0 (Flatten)            (None, 784)               0         \n",
            "                                                                 \n",
            " Capa_1 (Dense)              (None, 10)                7850      \n",
            "                                                                 \n",
            " Capa_2 (Dense)              (None, 10)                110       \n",
            "                                                                 \n",
            "=================================================================\n",
            "Total params: 7960 (31.09 KB)\n",
            "Trainable params: 7960 (31.09 KB)\n",
            "Non-trainable params: 0 (0.00 Byte)\n",
            "_________________________________________________________________\n",
            "\n",
            "\n",
            "\n",
            "PARÁMETROS DE LA RED NEURONAL 4:\n",
            "Model: \"sequential_101\"\n",
            "_________________________________________________________________\n",
            " Layer (type)                Output Shape              Param #   \n",
            "=================================================================\n",
            " Capa_0 (Flatten)            (None, 784)               0         \n",
            "                                                                 \n",
            " Capa_1 (Dense)              (None, 512)               401920    \n",
            "                                                                 \n",
            " Capa_2 (Dense)              (None, 10)                5130      \n",
            "                                                                 \n",
            "=================================================================\n",
            "Total params: 407050 (1.55 MB)\n",
            "Trainable params: 407050 (1.55 MB)\n",
            "Non-trainable params: 0 (0.00 Byte)\n",
            "_________________________________________________________________\n",
            "\n",
            "\n",
            "\n",
            "PARÁMETROS DE LA RED NEURONAL 5:\n",
            "Model: \"sequential_102\"\n",
            "_________________________________________________________________\n",
            " Layer (type)                Output Shape              Param #   \n",
            "=================================================================\n",
            " Capa_0 (Flatten)            (None, 784)               0         \n",
            "                                                                 \n",
            " Capa_1 (Dense)              (None, 512)               401920    \n",
            "                                                                 \n",
            " Capa_2 (Dense)              (None, 10)                5130      \n",
            "                                                                 \n",
            "=================================================================\n",
            "Total params: 407050 (1.55 MB)\n",
            "Trainable params: 407050 (1.55 MB)\n",
            "Non-trainable params: 0 (0.00 Byte)\n",
            "_________________________________________________________________\n",
            "\n",
            "\n",
            "\n",
            "PARÁMETROS DE LA RED NEURONAL 6:\n",
            "Model: \"sequential_103\"\n",
            "_________________________________________________________________\n",
            " Layer (type)                Output Shape              Param #   \n",
            "=================================================================\n",
            " Capa_0 (Flatten)            (None, 784)               0         \n",
            "                                                                 \n",
            " Capa_1 (Dense)              (None, 512)               401920    \n",
            "                                                                 \n",
            " Capa_2 (Dense)              (None, 10)                5130      \n",
            "                                                                 \n",
            "=================================================================\n",
            "Total params: 407050 (1.55 MB)\n",
            "Trainable params: 407050 (1.55 MB)\n",
            "Non-trainable params: 0 (0.00 Byte)\n",
            "_________________________________________________________________\n",
            "\n",
            "\n",
            "\n",
            "PARÁMETROS DE LA RED NEURONAL 7:\n",
            "Model: \"sequential_104\"\n",
            "_________________________________________________________________\n",
            " Layer (type)                Output Shape              Param #   \n",
            "=================================================================\n",
            " Capa_0 (Flatten)            (None, 784)               0         \n",
            "                                                                 \n",
            " Capa_1 (Dense)              (None, 512)               401920    \n",
            "                                                                 \n",
            " Capa_2 (Dense)              (None, 10)                5130      \n",
            "                                                                 \n",
            "=================================================================\n",
            "Total params: 407050 (1.55 MB)\n",
            "Trainable params: 407050 (1.55 MB)\n",
            "Non-trainable params: 0 (0.00 Byte)\n",
            "_________________________________________________________________\n",
            "\n",
            "\n"
          ]
        }
      ],
      "source": [
        "for i, network in enumerate(networks):\n",
        "  print(f\"\\nPARÁMETROS DE LA RED NEURONAL {i}:\")\n",
        "  network.summary()\n",
        "  print(\"\\n\")\n"
      ]
    },
    {
      "cell_type": "markdown",
      "source": [
        "## EXPLICACIONES."
      ],
      "metadata": {
        "id": "XHp9AgPs0Abj"
      }
    },
    {
      "cell_type": "markdown",
      "source": [
        "*PRIMERA RED NEURONAL*\n",
        "\n",
        "Observamos que para la primera red neuronal (networks[0]), tenemos un total de 7960 parámetros que se obtienen como resultado de nº de neuronas x nº de entradas + sesgos de cada capa ya que las capas son densas.\n",
        "\n",
        "Capa 1: 10 x 784 + 10 = 7850\n",
        "\n",
        "Capa 2: 10 x 10 + 10 = 110\n",
        "\n",
        "TOTAL: 7850 + 110 = 7960\n",
        "\n",
        "*SEGUNDA RED NEURONAL*\n",
        "\n",
        "En la segunda red neuronal (networks[1]), tenemos un total de 7960 parámetros.\n",
        "\n",
        "Capa 1: 10 x 784 + 10 = 7850\n",
        "\n",
        "Capa 2: 10 x 10 + 10 = 110\n",
        "\n",
        "TOTAL: 7850 + 110 = 7960\n",
        "\n",
        "*TERCERA RED NEURONAL*\n",
        "\n",
        "En la tercera red neuronal (networks[2]), tenemos un total de 7960 parámetros.\n",
        "\n",
        "Capa 1: 10 x 784 + 10 = 7850\n",
        "\n",
        "Capa 2: 10 x 10 + 10 = 110\n",
        "\n",
        "TOTAL: 7850 + 110 = 7960\n",
        "\n",
        "*CUARTA RED NEURONAL*\n",
        "\n",
        "En la cuarta red neuronal (networks[3]), tenemos un total de 7960 parámetros.\n",
        "\n",
        "Capa 1: 10 x 784 + 10 = 7850\n",
        "\n",
        "Capa 2: 10 x 10 + 10 = 110\n",
        "\n",
        "TOTAL: 7850 + 110 = 7960\n",
        "\n",
        "*QUINTA RED NEURONAL*\n",
        "\n",
        "En la quinta red neuronal (networks[4]), tenemos un total de 407050 parámetros.\n",
        "\n",
        "Capa 1: 512 x 784 + 512 = 401920\n",
        "\n",
        "Capa 2: 512 x 10 + 512 = 5130\n",
        "\n",
        "TOTAL: 401920 + 5130 = 407050\n",
        "\n",
        "*SEXTA RED NEURONAL*\n",
        "\n",
        "En la sexta red neuronal (networks[5]), tenemos un total de 407050 parámetros.\n",
        "\n",
        "Capa 1: 512 x 784 + 512 = 401920\n",
        "\n",
        "Capa 2: 512 x 10 + 512 = 5130\n",
        "\n",
        "TOTAL: 401920 + 5130 = 407050\n",
        "\n",
        "*SÉPTIMA RED NEURONAL*\n",
        "\n",
        "En la séptima red neuronal (networks[6]), tenemos un total de 407050 parámetros.\n",
        "\n",
        "Capa 1: 512 x 784 + 512 = 401920\n",
        "\n",
        "Capa 2: 512 x 10 + 512 = 5130\n",
        "\n",
        "TOTAL: 401920 + 5130 = 407050\n",
        "\n",
        "*OCTAVA RED NEURONAL*\n",
        "\n",
        "En la octava red neuronal (networks[7]), tenemos un total de 407050 parámetros.\n",
        "\n",
        "Capa 1: 512 x 784 + 512 = 401920\n",
        "\n",
        "Capa 2: 512 x 10 + 512 = 5130\n",
        "\n",
        "TOTAL: 401920 + 5130 = 407050"
      ],
      "metadata": {
        "id": "ZZ4lHsBgz54O"
      }
    },
    {
      "cell_type": "markdown",
      "metadata": {
        "id": "pPwy8WFkKaMw"
      },
      "source": [
        "# 3. Analizar e interpretar los resultados del caso 2 y el 7 frente a sus originales si se multiplica por 5 las épocas de entrenamiento (25)"
      ]
    },
    {
      "cell_type": "markdown",
      "metadata": {
        "id": "sXJwaXDwV1XR"
      },
      "source": [
        "Imprimimos los resultados del caso 2 y 7 (con 5 épocas tal y como están programados originalmente)."
      ]
    },
    {
      "cell_type": "code",
      "execution_count": null,
      "metadata": {
        "colab": {
          "base_uri": "https://localhost:8080/"
        },
        "id": "A8_0o6pTQ8ks",
        "outputId": "afad493d-c38f-43d4-cca0-d4c50e18b4fc"
      },
      "outputs": [
        {
          "output_type": "stream",
          "name": "stdout",
          "text": [
            "Datos red 2\n",
            "313/313 [==============================] - 1s 2ms/step - loss: 0.4555 - accuracy: 0.8392\n",
            "test_loss: 0.4554958939552307\n",
            "test_acc: 0.8392000198364258\n",
            "\n",
            "Datos red 7\n",
            "313/313 [==============================] - 1s 3ms/step - loss: 0.7499 - accuracy: 0.7488\n",
            "test_loss: 0.7499193549156189\n",
            "test_acc: 0.7487999796867371\n",
            "\n"
          ]
        }
      ],
      "source": [
        "v = [1, 6]\n",
        "for i in v:\n",
        "  print(f'Datos red {i+1}')\n",
        "  test_loss, test_acc = networks[i].evaluate(test_images, test_labels) # la precisión es menor, pq ha perdido generalidad (sobreentrenamiento)\n",
        "  print('test_loss:', test_loss)\n",
        "  print('test_acc:', test_acc)\n",
        "  print()"
      ]
    },
    {
      "cell_type": "markdown",
      "metadata": {
        "id": "9Qd87L85WBR2"
      },
      "source": [
        "Obtenemos una 'accuracy' del 83.92% en el caso 2, y del 74.80% para el caso 7."
      ]
    },
    {
      "cell_type": "markdown",
      "metadata": {
        "id": "hHFvUHW0QIOR"
      },
      "source": [
        "Multiplicamos por 5 las épocas de entrenamiento y volvemos a entrenar las redes 2 y 7 con el nuevo número de épocas.\n",
        "\n",
        "De nuevo, podemos usar la función load_model para cargar las redes neuronales ya entrenadas con esas modificaciones para ahorrar tiempo."
      ]
    },
    {
      "cell_type": "code",
      "source": [
        "from keras.src.engine.functional import network_serialization\n",
        "from keras.models import load_model\n",
        "networks_modificadas = []\n",
        "# Especifica la ruta al archivo del modelo\n",
        "networks_path = 'trained_networks'\n",
        "# Carga el modelo\n",
        "for i in v:\n",
        "    model_path = \"/\".join([networks_path, f\"network_{i}_25_epochs\"])\n",
        "    networks_modificadas.append(load_model(model_path))"
      ],
      "metadata": {
        "id": "MJgduTht4sGS"
      },
      "execution_count": null,
      "outputs": []
    },
    {
      "cell_type": "markdown",
      "source": [
        "Hemos creado un vector de networks modificadas, con los casos 2 y 7 modificados en cada elemento del vector."
      ],
      "metadata": {
        "id": "jNvNeOQrNYpx"
      }
    },
    {
      "cell_type": "code",
      "source": [
        "len(networks_modificadas)"
      ],
      "metadata": {
        "colab": {
          "base_uri": "https://localhost:8080/"
        },
        "id": "mLUhKPB8JVWR",
        "outputId": "8e863885-c982-42f9-ebbe-6e8ac25b166c"
      },
      "execution_count": null,
      "outputs": [
        {
          "output_type": "execute_result",
          "data": {
            "text/plain": [
              "2"
            ]
          },
          "metadata": {},
          "execution_count": 384
        }
      ]
    },
    {
      "cell_type": "markdown",
      "source": [
        "Opcionalmente las podemos entrenar para comprobar que se entrenan correctamente."
      ],
      "metadata": {
        "id": "gGL3DvrK45rU"
      }
    },
    {
      "cell_type": "code",
      "execution_count": null,
      "metadata": {
        "colab": {
          "base_uri": "https://localhost:8080/"
        },
        "id": "hxO9sZQpWAcf",
        "outputId": "425e4efe-da67-4a7c-8f66-a451dce90c66"
      },
      "outputs": [
        {
          "output_type": "stream",
          "name": "stdout",
          "text": [
            "Epoch 1/25\n",
            "469/469 [==============================] - 2s 3ms/step - loss: 0.8250 - accuracy: 0.7237\n",
            "Epoch 2/25\n",
            "469/469 [==============================] - 1s 2ms/step - loss: 0.5043 - accuracy: 0.8266\n",
            "Epoch 3/25\n",
            "469/469 [==============================] - 2s 4ms/step - loss: 0.4593 - accuracy: 0.8405\n",
            "Epoch 4/25\n",
            "469/469 [==============================] - 2s 4ms/step - loss: 0.4365 - accuracy: 0.8476\n",
            "Epoch 5/25\n",
            "469/469 [==============================] - 1s 3ms/step - loss: 0.4216 - accuracy: 0.8528\n",
            "Epoch 6/25\n",
            "469/469 [==============================] - 1s 2ms/step - loss: 0.4106 - accuracy: 0.8560\n",
            "Epoch 7/25\n",
            "469/469 [==============================] - 2s 4ms/step - loss: 0.4026 - accuracy: 0.8592\n",
            "Epoch 8/25\n",
            "469/469 [==============================] - 1s 3ms/step - loss: 0.3954 - accuracy: 0.8614\n",
            "Epoch 9/25\n",
            "469/469 [==============================] - 1s 3ms/step - loss: 0.3891 - accuracy: 0.8637\n",
            "Epoch 10/25\n",
            "469/469 [==============================] - 1s 2ms/step - loss: 0.3849 - accuracy: 0.8645\n",
            "Epoch 11/25\n",
            "469/469 [==============================] - 1s 3ms/step - loss: 0.3800 - accuracy: 0.8658\n",
            "Epoch 12/25\n",
            "469/469 [==============================] - 2s 4ms/step - loss: 0.3766 - accuracy: 0.8679\n",
            "Epoch 13/25\n",
            "469/469 [==============================] - 2s 5ms/step - loss: 0.3724 - accuracy: 0.8686\n",
            "Epoch 14/25\n",
            "469/469 [==============================] - 1s 3ms/step - loss: 0.3699 - accuracy: 0.8696\n",
            "Epoch 15/25\n",
            "469/469 [==============================] - 1s 3ms/step - loss: 0.3668 - accuracy: 0.8710\n",
            "Epoch 16/25\n",
            "469/469 [==============================] - 1s 3ms/step - loss: 0.3653 - accuracy: 0.8705\n",
            "Epoch 17/25\n",
            "469/469 [==============================] - 1s 3ms/step - loss: 0.3625 - accuracy: 0.8720\n",
            "Epoch 18/25\n",
            "469/469 [==============================] - 1s 3ms/step - loss: 0.3603 - accuracy: 0.8720\n",
            "Epoch 19/25\n",
            "469/469 [==============================] - 1s 3ms/step - loss: 0.3580 - accuracy: 0.8736\n",
            "Epoch 20/25\n",
            "469/469 [==============================] - 1s 3ms/step - loss: 0.3562 - accuracy: 0.8734\n",
            "Epoch 21/25\n",
            "469/469 [==============================] - 2s 3ms/step - loss: 0.3544 - accuracy: 0.8746\n",
            "Epoch 22/25\n",
            "469/469 [==============================] - 2s 4ms/step - loss: 0.3525 - accuracy: 0.8751\n",
            "Epoch 23/25\n",
            "469/469 [==============================] - 2s 3ms/step - loss: 0.3508 - accuracy: 0.8763\n",
            "Epoch 24/25\n",
            "469/469 [==============================] - 1s 3ms/step - loss: 0.3494 - accuracy: 0.8762\n",
            "Epoch 25/25\n",
            "469/469 [==============================] - 1s 2ms/step - loss: 0.3482 - accuracy: 0.8757\n",
            "Epoch 1/25\n",
            "469/469 [==============================] - 5s 9ms/step - loss: 1.7085 - accuracy: 0.5800\n",
            "Epoch 2/25\n",
            "469/469 [==============================] - 7s 14ms/step - loss: 1.1315 - accuracy: 0.7124\n",
            "Epoch 3/25\n",
            "469/469 [==============================] - 5s 10ms/step - loss: 0.9246 - accuracy: 0.7328\n",
            "Epoch 4/25\n",
            "469/469 [==============================] - 6s 13ms/step - loss: 0.8220 - accuracy: 0.7436\n",
            "Epoch 5/25\n",
            "469/469 [==============================] - 5s 10ms/step - loss: 0.7605 - accuracy: 0.7539\n",
            "Epoch 6/25\n",
            "469/469 [==============================] - 4s 9ms/step - loss: 0.7185 - accuracy: 0.7611\n",
            "Epoch 7/25\n",
            "469/469 [==============================] - 5s 10ms/step - loss: 0.6876 - accuracy: 0.7679\n",
            "Epoch 8/25\n",
            "469/469 [==============================] - 5s 11ms/step - loss: 0.6631 - accuracy: 0.7743\n",
            "Epoch 9/25\n",
            "469/469 [==============================] - 4s 9ms/step - loss: 0.6429 - accuracy: 0.7795\n",
            "Epoch 10/25\n",
            "469/469 [==============================] - 5s 11ms/step - loss: 0.6261 - accuracy: 0.7848\n",
            "Epoch 11/25\n",
            "469/469 [==============================] - 5s 10ms/step - loss: 0.6115 - accuracy: 0.7897\n",
            "Epoch 12/25\n",
            "469/469 [==============================] - 4s 10ms/step - loss: 0.5986 - accuracy: 0.7935\n",
            "Epoch 13/25\n",
            "469/469 [==============================] - 5s 11ms/step - loss: 0.5874 - accuracy: 0.7975\n",
            "Epoch 14/25\n",
            "469/469 [==============================] - 4s 9ms/step - loss: 0.5770 - accuracy: 0.8009\n",
            "Epoch 15/25\n",
            "469/469 [==============================] - 4s 9ms/step - loss: 0.5680 - accuracy: 0.8048\n",
            "Epoch 16/25\n",
            "469/469 [==============================] - 5s 12ms/step - loss: 0.5598 - accuracy: 0.8069\n",
            "Epoch 17/25\n",
            "469/469 [==============================] - 4s 9ms/step - loss: 0.5523 - accuracy: 0.8092\n",
            "Epoch 18/25\n",
            "469/469 [==============================] - 4s 9ms/step - loss: 0.5455 - accuracy: 0.8117\n",
            "Epoch 19/25\n",
            "469/469 [==============================] - 5s 12ms/step - loss: 0.5392 - accuracy: 0.8135\n",
            "Epoch 20/25\n",
            "469/469 [==============================] - 4s 9ms/step - loss: 0.5334 - accuracy: 0.8157\n",
            "Epoch 21/25\n",
            "469/469 [==============================] - 4s 9ms/step - loss: 0.5280 - accuracy: 0.8171\n",
            "Epoch 22/25\n",
            "469/469 [==============================] - 5s 12ms/step - loss: 0.5227 - accuracy: 0.8190\n",
            "Epoch 23/25\n",
            "469/469 [==============================] - 4s 9ms/step - loss: 0.5184 - accuracy: 0.8208\n",
            "Epoch 24/25\n",
            "469/469 [==============================] - 4s 9ms/step - loss: 0.5142 - accuracy: 0.8225\n",
            "Epoch 25/25\n",
            "469/469 [==============================] - 5s 11ms/step - loss: 0.5101 - accuracy: 0.8237\n"
          ]
        }
      ],
      "source": [
        "from keras.src.saving.saving_lib import save_model\n",
        "networks_modificadas = []\n",
        "cont=0\n",
        "for i in v:\n",
        "  networks_modificadas.append(networks[i].set_weights(initial_weights[i])) # esta linea es para entrenar por primera vez para los pesos iniciales\n",
        "  networks_modificadas[cont].fit(train_images, train_labels, epochs=25, batch_size=128)\n",
        "  cont++"
      ]
    },
    {
      "cell_type": "markdown",
      "metadata": {
        "id": "qVy3FXlKXVko"
      },
      "source": [
        "Imprimimos los nuevos resultados de los casos 2 y 3"
      ]
    },
    {
      "cell_type": "code",
      "execution_count": null,
      "metadata": {
        "colab": {
          "base_uri": "https://localhost:8080/"
        },
        "id": "BL-emTN9XfoA",
        "outputId": "8f116256-3d74-4737-b4f6-d84cd5c6de84"
      },
      "outputs": [
        {
          "output_type": "stream",
          "name": "stdout",
          "text": [
            "313/313 [==============================] - 1s 3ms/step - loss: 0.4247 - accuracy: 0.8535\n",
            "test_loss: 0.4246588349342346\n",
            "test_acc: 0.8535000085830688\n",
            "313/313 [==============================] - 1s 3ms/step - loss: 0.5326 - accuracy: 0.8110\n",
            "test_loss: 0.5325948596000671\n",
            "test_acc: 0.8109999895095825\n"
          ]
        }
      ],
      "source": [
        "for network_m in networks_modificadas:\n",
        "  test_loss, test_acc = network_m.evaluate(test_images, test_labels)\n",
        "  print('test_loss:', test_loss)\n",
        "  print('test_acc:', test_acc)"
      ]
    },
    {
      "cell_type": "markdown",
      "metadata": {
        "id": "UqNe3IfLZJjc"
      },
      "source": [
        "Observamos que la precisión ha mejorado, al añadir más épocas, las redes neuronales se han ajustado más al set de datos."
      ]
    },
    {
      "cell_type": "markdown",
      "metadata": {
        "id": "oYje0MGTZdZm"
      },
      "source": [
        "# 4. Evaluar cada uno de los 8 modelos comparando el rendimiento del modelo en el conjunto de datos de prueba"
      ]
    },
    {
      "cell_type": "code",
      "execution_count": null,
      "metadata": {
        "colab": {
          "base_uri": "https://localhost:8080/"
        },
        "id": "xXKlVmprZ0J7",
        "outputId": "88231284-ca84-4e31-fa7d-acc861c2c4b5"
      },
      "outputs": [
        {
          "output_type": "stream",
          "name": "stdout",
          "text": [
            "313/313 [==============================] - 1s 2ms/step - loss: 0.6203 - accuracy: 0.7817\n",
            "\n",
            "PARÁMETROS DE LA RED NEURONAL 0:\n",
            "test_loss: 0.6203047037124634\n",
            "test_acc: 0.7817000150680542\n",
            "313/313 [==============================] - 81s 259ms/step - loss: 0.4555 - accuracy: 0.8392\n",
            "\n",
            "PARÁMETROS DE LA RED NEURONAL 1:\n",
            "test_loss: 0.4554958939552307\n",
            "test_acc: 0.8392000198364258\n",
            "313/313 [==============================] - 1s 4ms/step - loss: 1.2684 - accuracy: 0.6435\n",
            "\n",
            "PARÁMETROS DE LA RED NEURONAL 2:\n",
            "test_loss: 1.2684481143951416\n",
            "test_acc: 0.6434999704360962\n",
            "313/313 [==============================] - 1s 4ms/step - loss: 0.5101 - accuracy: 0.8248\n",
            "\n",
            "PARÁMETROS DE LA RED NEURONAL 3:\n",
            "test_loss: 0.5100712180137634\n",
            "test_acc: 0.8248000144958496\n",
            "313/313 [==============================] - 2s 7ms/step - loss: 0.5239 - accuracy: 0.8247\n",
            "\n",
            "PARÁMETROS DE LA RED NEURONAL 4:\n",
            "test_loss: 0.5239430665969849\n",
            "test_acc: 0.8246999979019165\n",
            "313/313 [==============================] - 3s 9ms/step - loss: 0.3543 - accuracy: 0.8742\n",
            "\n",
            "PARÁMETROS DE LA RED NEURONAL 5:\n",
            "test_loss: 0.35428786277770996\n",
            "test_acc: 0.8741999864578247\n",
            "313/313 [==============================] - 3s 9ms/step - loss: 0.7499 - accuracy: 0.7488\n",
            "\n",
            "PARÁMETROS DE LA RED NEURONAL 6:\n",
            "test_loss: 0.7499193549156189\n",
            "test_acc: 0.7487999796867371\n",
            "313/313 [==============================] - 1s 4ms/step - loss: 0.4093 - accuracy: 0.8512\n",
            "\n",
            "PARÁMETROS DE LA RED NEURONAL 7:\n",
            "test_loss: 0.4092528820037842\n",
            "test_acc: 0.8511999845504761\n"
          ]
        }
      ],
      "source": [
        "for i, network in enumerate(networks):\n",
        "  test_loss, test_acc = network.evaluate(test_images, test_labels) # la precisión es menor, pq ha perdido generalidad (sobreentrenamiento)\n",
        "  print(f\"\\nPARÁMETROS DE LA RED NEURONAL {i}:\")\n",
        "  print('test_loss:', test_loss)\n",
        "  print('test_acc:', test_acc)"
      ]
    },
    {
      "cell_type": "markdown",
      "metadata": {
        "id": "c3HA9sqGaj3h"
      },
      "source": [
        "# 5. Usar cada uno de los 8 modelos para hacer predicciones sobre la 6ª imagen de test (test_images[5])"
      ]
    },
    {
      "cell_type": "markdown",
      "source": [
        "Veamos el elemento de test nº 5 (el 6 comenzando desde el 0):"
      ],
      "metadata": {
        "id": "YHyHhgQSgxUc"
      }
    },
    {
      "cell_type": "code",
      "source": [
        "import matplotlib.pyplot as plt # TODO importar mnist, como lo hace el profe\n",
        "ropa = test_images[5]\n",
        "plt.imshow(ropa, cmap=plt.cm.binary) # Veamos el elemento 0 del set de tests y pintémoslo con matplotlib\n",
        "plt.show()"
      ],
      "metadata": {
        "id": "7cN2iMjtg3pE",
        "colab": {
          "base_uri": "https://localhost:8080/",
          "height": 430
        },
        "outputId": "afd3a3c8-f6ab-4655-ad40-f151c6d012a0"
      },
      "execution_count": 392,
      "outputs": [
        {
          "output_type": "display_data",
          "data": {
            "text/plain": [
              "<Figure size 640x480 with 1 Axes>"
            ],
            "image/png": "[encoded data removed]"
          },
          "metadata": {}
        }
      ]
    },
    {
      "cell_type": "code",
      "source": [
        "test_labels[5]"
      ],
      "metadata": {
        "colab": {
          "base_uri": "https://localhost:8080/"
        },
        "id": "mC9M1dYXlA87",
        "outputId": "3e7f2a50-bb3b-4bd4-b2a9-130adb17d9ea"
      },
      "execution_count": 393,
      "outputs": [
        {
          "output_type": "execute_result",
          "data": {
            "text/plain": [
              "array([0., 1., 0., 0., 0., 0., 0., 0., 0., 0.], dtype=float32)"
            ]
          },
          "metadata": {},
          "execution_count": 393
        }
      ]
    },
    {
      "cell_type": "markdown",
      "source": [
        "Se trata de un pantalón (asociado a la etiqueta 1).\n",
        "A continuación probamos la imagen de test en las 8 redes neuronales."
      ],
      "metadata": {
        "id": "tH6AqcAilGo3"
      }
    },
    {
      "cell_type": "markdown",
      "metadata": {
        "id": "1dQ0NtqROkRm"
      },
      "source": [
        "Las redes esperan un set de datos en la forma np.array de tres dimensiones, por tanto no le puedo pasar test_images[5] que es un np.array de (28, 28), es decir, dos dimensiones.\\\n",
        "En palabras simples la red espera un vector con imágenes dentro, en total espera vectores con 3 dimensiones.\\\n",
        "Para pasarle una sola imagen la tenemos que meter en un vector, que equivale a añadir una dimensión en la componente 0 (axis=0).\\"
      ]
    },
    {
      "cell_type": "code",
      "execution_count": null,
      "metadata": {
        "id": "-8HT1eF77ZqN",
        "colab": {
          "base_uri": "https://localhost:8080/"
        },
        "outputId": "aa9cd499-0a9b-4497-d39e-59d96c3902f2"
      },
      "outputs": [
        {
          "output_type": "stream",
          "name": "stdout",
          "text": [
            "1/1 [==============================] - 0s 130ms/step\n",
            "RED NEURONAL 0\n",
            "Vector de probabilidades:\n",
            "[[0.   0.97 0.   0.01 0.01 0.   0.01 0.   0.   0.  ]]\n",
            "Predicción:\n",
            "1\n",
            "\n",
            "1/1 [==============================] - 0s 120ms/step\n",
            "RED NEURONAL 1\n",
            "Vector de probabilidades:\n",
            "[[0.   0.99 0.   0.   0.   0.   0.   0.   0.   0.  ]]\n",
            "Predicción:\n",
            "1\n",
            "\n",
            "1/1 [==============================] - 0s 149ms/step\n",
            "RED NEURONAL 2\n",
            "Vector de probabilidades:\n",
            "[[0.06 0.45 0.1  0.13 0.07 0.02 0.11 0.02 0.03 0.01]]\n",
            "Predicción:\n",
            "1\n",
            "\n",
            "1/1 [==============================] - 0s 257ms/step\n",
            "RED NEURONAL 3\n",
            "Vector de probabilidades:\n",
            "[[0.   0.95 0.01 0.02 0.01 0.   0.   0.   0.   0.  ]]\n",
            "Predicción:\n",
            "1\n",
            "\n",
            "1/1 [==============================] - 0s 114ms/step\n",
            "RED NEURONAL 4\n",
            "Vector de probabilidades:\n",
            "[[0.   0.98 0.   0.   0.01 0.   0.   0.   0.   0.  ]]\n",
            "Predicción:\n",
            "1\n",
            "\n",
            "1/1 [==============================] - 0s 234ms/step\n",
            "RED NEURONAL 5\n",
            "Vector de probabilidades:\n",
            "[[0. 1. 0. 0. 0. 0. 0. 0. 0. 0.]]\n",
            "Predicción:\n",
            "1\n",
            "\n",
            "1/1 [==============================] - 0s 171ms/step\n",
            "RED NEURONAL 6\n",
            "Vector de probabilidades:\n",
            "[[0.05 0.83 0.01 0.06 0.03 0.   0.03 0.   0.   0.  ]]\n",
            "Predicción:\n",
            "1\n",
            "\n",
            "1/1 [==============================] - 0s 66ms/step\n",
            "RED NEURONAL 7\n",
            "Vector de probabilidades:\n",
            "[[0. 1. 0. 0. 0. 0. 0. 0. 0. 0.]]\n",
            "Predicción:\n",
            "1\n",
            "\n"
          ]
        }
      ],
      "source": [
        "target = np.expand_dims(test_images[5], axis=0)  # Añadimos una dimensión al np.array\n",
        "for i,network in enumerate(networks):\n",
        "  probability = networks[i].predict(target)  # Obtenemos los resultados de la capa de salida (probabilidad en cada componente)\n",
        "  prediction = np.argmax(probability)  # Tomamos como salida de la red el índice de la categoría con mayor probabilidad\n",
        "  print(f'RED NEURONAL {i}')\n",
        "  print('Vector de probabilidades:')\n",
        "  print(probability)\n",
        "  print('Predicción:')\n",
        "  print(prediction)\n",
        "  print()"
      ]
    },
    {
      "cell_type": "markdown",
      "source": [
        "De acuerdo con la etiqueta, obtenemos que todas las redes predicen que la imagen introducida es un pantalón (etiqueta 1)."
      ],
      "metadata": {
        "id": "0dUxWz3allKw"
      }
    },
    {
      "cell_type": "markdown",
      "source": [
        "# 6. Gráficas de los 8 modelos"
      ],
      "metadata": {
        "id": "AKzZ8KOdc8-t"
      }
    },
    {
      "cell_type": "markdown",
      "source": [
        "graficamos cómo de bien o de mal se comporta el\n",
        "modelo para cada uno de los 8 casos."
      ],
      "metadata": {
        "id": "E1j5KLHSdHS1"
      }
    },
    {
      "cell_type": "code",
      "source": [
        "def plot_image(i, predictions_array, true_label, img):\n",
        "  predictions_array, true_label, img = predictions_array, true_label[i], img[i]\n",
        "  plt.grid(False)\n",
        "  plt.xticks([])\n",
        "  plt.yticks([])\n",
        "\n",
        "  plt.imshow(img, cmap=plt.cm.binary)\n",
        "\n",
        "  predicted_label = np.argmax(predictions_array)\n",
        "  if predicted_label.all() == true_label.all():\n",
        "    color = 'blue'\n",
        "  else:\n",
        "    color = 'red'\n",
        "\n",
        "  plt.xlabel(\"{} {:2.0f}% ({})\".format(predicted_label,\n",
        "                                100*np.max(predictions_array),\n",
        "                                true_label),\n",
        "                                color=color)\n",
        "\n",
        "def plot_value_array(i, predictions_array, true_label):\n",
        "  predictions_array, true_label = predictions_array, true_label[i]\n",
        "  plt.grid(False)\n",
        "  plt.xticks(range(10))\n",
        "  plt.yticks([])\n",
        "  thisplot = plt.bar(range(10), predictions_array, color=\"#7777777\")\n",
        "  plt.ylim([0, 1])\n",
        "  predicted_label = np.argmax(predictions_array)\n",
        "\n",
        "  thisplot[predicted_label].set_color('red')\n",
        "  thisplot[true_label].set_color('blue')"
      ],
      "metadata": {
        "id": "brN84uRvdvR4"
      },
      "execution_count": 394,
      "outputs": []
    },
    {
      "cell_type": "code",
      "source": [
        "from keras.datasets import mnist\n",
        "import numpy as np\n",
        "import matplotlib.pyplot as plt\n",
        "\n",
        "(train_images, train_labels), (test_images, test_labels) = mnist.load_data()\n",
        "train_images = train_images.reshape((60000, 28 * 28))\n",
        "test_images = test_images.reshape((10000, 28 * 28))\n",
        "\n",
        "train_images = train_images.astype('float32') / 255\n",
        "test_images = test_images.astype('float32') / 255\n",
        "\n",
        "predictions = network.predict(test_images)\n",
        "\n",
        "for i in range(20):\n",
        "  plt.figure(figsize=(6,3))\n",
        "  plt.subplot(1,2,1)\n",
        "  plot_image(i, predictions[i], test_labels, test_images.reshape(10000,28,28))\n",
        "  plt.subplot(1,2,2)\n",
        "  plot_value_array(i, predictions[i],  test_labels)\n",
        "  plt.show()\n",
        "  plt.clf()"
      ],
      "metadata": {
        "id": "Fo0-zM-vmNgr",
        "outputId": "edeb57c9-4a82-461b-b45c-430ffcc25889",
        "colab": {
          "base_uri": "https://localhost:8080/",
          "height": 718
        }
      },
      "execution_count": 395,
      "outputs": [
        {
          "output_type": "stream",
          "name": "stdout",
          "text": [
            "Downloading data from https://storage.googleapis.com/tensorflow/tf-keras-datasets/mnist.npz\n",
            "11490434/11490434 [==============================] - 0s 0us/step\n",
            "313/313 [==============================] - 2s 5ms/step\n"
          ]
        },
        {
          "output_type": "error",
          "ename": "ValueError",
          "evalue": "ignored",
          "traceback": [
            "\u001b[0;31m---------------------------------------------------------------------------\u001b[0m",
            "\u001b[0;31mValueError\u001b[0m                                Traceback (most recent call last)",
            "\u001b[0;32m<ipython-input-395-1e5d34fd6b3c>\u001b[0m in \u001b[0;36m<cell line: 14>\u001b[0;34m()\u001b[0m\n\u001b[1;32m     17\u001b[0m   \u001b[0mplot_image\u001b[0m\u001b[0;34m(\u001b[0m\u001b[0mi\u001b[0m\u001b[0;34m,\u001b[0m \u001b[0mpredictions\u001b[0m\u001b[0;34m[\u001b[0m\u001b[0mi\u001b[0m\u001b[0;34m]\u001b[0m\u001b[0;34m,\u001b[0m \u001b[0mtest_labels\u001b[0m\u001b[0;34m,\u001b[0m \u001b[0mtest_images\u001b[0m\u001b[0;34m.\u001b[0m\u001b[0mreshape\u001b[0m\u001b[0;34m(\u001b[0m\u001b[0;36m10000\u001b[0m\u001b[0;34m,\u001b[0m\u001b[0;36m28\u001b[0m\u001b[0;34m,\u001b[0m\u001b[0;36m28\u001b[0m\u001b[0;34m)\u001b[0m\u001b[0;34m)\u001b[0m\u001b[0;34m\u001b[0m\u001b[0;34m\u001b[0m\u001b[0m\n\u001b[1;32m     18\u001b[0m   \u001b[0mplt\u001b[0m\u001b[0;34m.\u001b[0m\u001b[0msubplot\u001b[0m\u001b[0;34m(\u001b[0m\u001b[0;36m1\u001b[0m\u001b[0;34m,\u001b[0m\u001b[0;36m2\u001b[0m\u001b[0;34m,\u001b[0m\u001b[0;36m2\u001b[0m\u001b[0;34m)\u001b[0m\u001b[0;34m\u001b[0m\u001b[0;34m\u001b[0m\u001b[0m\n\u001b[0;32m---> 19\u001b[0;31m   \u001b[0mplot_value_array\u001b[0m\u001b[0;34m(\u001b[0m\u001b[0mi\u001b[0m\u001b[0;34m,\u001b[0m \u001b[0mpredictions\u001b[0m\u001b[0;34m[\u001b[0m\u001b[0mi\u001b[0m\u001b[0;34m]\u001b[0m\u001b[0;34m,\u001b[0m  \u001b[0mtest_labels\u001b[0m\u001b[0;34m)\u001b[0m\u001b[0;34m\u001b[0m\u001b[0;34m\u001b[0m\u001b[0m\n\u001b[0m\u001b[1;32m     20\u001b[0m   \u001b[0mplt\u001b[0m\u001b[0;34m.\u001b[0m\u001b[0mshow\u001b[0m\u001b[0;34m(\u001b[0m\u001b[0;34m)\u001b[0m\u001b[0;34m\u001b[0m\u001b[0;34m\u001b[0m\u001b[0m\n\u001b[1;32m     21\u001b[0m   \u001b[0mplt\u001b[0m\u001b[0;34m.\u001b[0m\u001b[0mclf\u001b[0m\u001b[0;34m(\u001b[0m\u001b[0;34m)\u001b[0m\u001b[0;34m\u001b[0m\u001b[0;34m\u001b[0m\u001b[0m\n",
            "\u001b[0;32m<ipython-input-394-f4b04c17438d>\u001b[0m in \u001b[0;36mplot_value_array\u001b[0;34m(i, predictions_array, true_label)\u001b[0m\n\u001b[1;32m     23\u001b[0m   \u001b[0mplt\u001b[0m\u001b[0;34m.\u001b[0m\u001b[0mxticks\u001b[0m\u001b[0;34m(\u001b[0m\u001b[0mrange\u001b[0m\u001b[0;34m(\u001b[0m\u001b[0;36m10\u001b[0m\u001b[0;34m)\u001b[0m\u001b[0;34m)\u001b[0m\u001b[0;34m\u001b[0m\u001b[0;34m\u001b[0m\u001b[0m\n\u001b[1;32m     24\u001b[0m   \u001b[0mplt\u001b[0m\u001b[0;34m.\u001b[0m\u001b[0myticks\u001b[0m\u001b[0;34m(\u001b[0m\u001b[0;34m[\u001b[0m\u001b[0;34m]\u001b[0m\u001b[0;34m)\u001b[0m\u001b[0;34m\u001b[0m\u001b[0;34m\u001b[0m\u001b[0m\n\u001b[0;32m---> 25\u001b[0;31m   \u001b[0mthisplot\u001b[0m \u001b[0;34m=\u001b[0m \u001b[0mplt\u001b[0m\u001b[0;34m.\u001b[0m\u001b[0mbar\u001b[0m\u001b[0;34m(\u001b[0m\u001b[0mrange\u001b[0m\u001b[0;34m(\u001b[0m\u001b[0;36m10\u001b[0m\u001b[0;34m)\u001b[0m\u001b[0;34m,\u001b[0m \u001b[0mpredictions_array\u001b[0m\u001b[0;34m,\u001b[0m \u001b[0mcolor\u001b[0m\u001b[0;34m=\u001b[0m\u001b[0;34m\"#7777777\"\u001b[0m\u001b[0;34m)\u001b[0m\u001b[0;34m\u001b[0m\u001b[0;34m\u001b[0m\u001b[0m\n\u001b[0m\u001b[1;32m     26\u001b[0m   \u001b[0mplt\u001b[0m\u001b[0;34m.\u001b[0m\u001b[0mylim\u001b[0m\u001b[0;34m(\u001b[0m\u001b[0;34m[\u001b[0m\u001b[0;36m0\u001b[0m\u001b[0;34m,\u001b[0m \u001b[0;36m1\u001b[0m\u001b[0;34m]\u001b[0m\u001b[0;34m)\u001b[0m\u001b[0;34m\u001b[0m\u001b[0;34m\u001b[0m\u001b[0m\n\u001b[1;32m     27\u001b[0m   \u001b[0mpredicted_label\u001b[0m \u001b[0;34m=\u001b[0m \u001b[0mnp\u001b[0m\u001b[0;34m.\u001b[0m\u001b[0margmax\u001b[0m\u001b[0;34m(\u001b[0m\u001b[0mpredictions_array\u001b[0m\u001b[0;34m)\u001b[0m\u001b[0;34m\u001b[0m\u001b[0;34m\u001b[0m\u001b[0m\n",
            "\u001b[0;32m/usr/local/lib/python3.10/dist-packages/matplotlib/pyplot.py\u001b[0m in \u001b[0;36mbar\u001b[0;34m(x, height, width, bottom, align, data, **kwargs)\u001b[0m\n\u001b[1;32m   2437\u001b[0m         \u001b[0mx\u001b[0m\u001b[0;34m,\u001b[0m \u001b[0mheight\u001b[0m\u001b[0;34m,\u001b[0m \u001b[0mwidth\u001b[0m\u001b[0;34m=\u001b[0m\u001b[0;36m0.8\u001b[0m\u001b[0;34m,\u001b[0m \u001b[0mbottom\u001b[0m\u001b[0;34m=\u001b[0m\u001b[0;32mNone\u001b[0m\u001b[0;34m,\u001b[0m \u001b[0;34m*\u001b[0m\u001b[0;34m,\u001b[0m \u001b[0malign\u001b[0m\u001b[0;34m=\u001b[0m\u001b[0;34m'center'\u001b[0m\u001b[0;34m,\u001b[0m\u001b[0;34m\u001b[0m\u001b[0;34m\u001b[0m\u001b[0m\n\u001b[1;32m   2438\u001b[0m         data=None, **kwargs):\n\u001b[0;32m-> 2439\u001b[0;31m     return gca().bar(\n\u001b[0m\u001b[1;32m   2440\u001b[0m         \u001b[0mx\u001b[0m\u001b[0;34m,\u001b[0m \u001b[0mheight\u001b[0m\u001b[0;34m,\u001b[0m \u001b[0mwidth\u001b[0m\u001b[0;34m=\u001b[0m\u001b[0mwidth\u001b[0m\u001b[0;34m,\u001b[0m \u001b[0mbottom\u001b[0m\u001b[0;34m=\u001b[0m\u001b[0mbottom\u001b[0m\u001b[0;34m,\u001b[0m \u001b[0malign\u001b[0m\u001b[0;34m=\u001b[0m\u001b[0malign\u001b[0m\u001b[0;34m,\u001b[0m\u001b[0;34m\u001b[0m\u001b[0;34m\u001b[0m\u001b[0m\n\u001b[1;32m   2441\u001b[0m         **({\"data\": data} if data is not None else {}), **kwargs)\n",
            "\u001b[0;32m/usr/local/lib/python3.10/dist-packages/matplotlib/__init__.py\u001b[0m in \u001b[0;36minner\u001b[0;34m(ax, data, *args, **kwargs)\u001b[0m\n\u001b[1;32m   1440\u001b[0m     \u001b[0;32mdef\u001b[0m \u001b[0minner\u001b[0m\u001b[0;34m(\u001b[0m\u001b[0max\u001b[0m\u001b[0;34m,\u001b[0m \u001b[0;34m*\u001b[0m\u001b[0margs\u001b[0m\u001b[0;34m,\u001b[0m \u001b[0mdata\u001b[0m\u001b[0;34m=\u001b[0m\u001b[0;32mNone\u001b[0m\u001b[0;34m,\u001b[0m \u001b[0;34m**\u001b[0m\u001b[0mkwargs\u001b[0m\u001b[0;34m)\u001b[0m\u001b[0;34m:\u001b[0m\u001b[0;34m\u001b[0m\u001b[0;34m\u001b[0m\u001b[0m\n\u001b[1;32m   1441\u001b[0m         \u001b[0;32mif\u001b[0m \u001b[0mdata\u001b[0m \u001b[0;32mis\u001b[0m \u001b[0;32mNone\u001b[0m\u001b[0;34m:\u001b[0m\u001b[0;34m\u001b[0m\u001b[0;34m\u001b[0m\u001b[0m\n\u001b[0;32m-> 1442\u001b[0;31m             \u001b[0;32mreturn\u001b[0m \u001b[0mfunc\u001b[0m\u001b[0;34m(\u001b[0m\u001b[0max\u001b[0m\u001b[0;34m,\u001b[0m \u001b[0;34m*\u001b[0m\u001b[0mmap\u001b[0m\u001b[0;34m(\u001b[0m\u001b[0msanitize_sequence\u001b[0m\u001b[0;34m,\u001b[0m \u001b[0margs\u001b[0m\u001b[0;34m)\u001b[0m\u001b[0;34m,\u001b[0m \u001b[0;34m**\u001b[0m\u001b[0mkwargs\u001b[0m\u001b[0;34m)\u001b[0m\u001b[0;34m\u001b[0m\u001b[0;34m\u001b[0m\u001b[0m\n\u001b[0m\u001b[1;32m   1443\u001b[0m \u001b[0;34m\u001b[0m\u001b[0m\n\u001b[1;32m   1444\u001b[0m         \u001b[0mbound\u001b[0m \u001b[0;34m=\u001b[0m \u001b[0mnew_sig\u001b[0m\u001b[0;34m.\u001b[0m\u001b[0mbind\u001b[0m\u001b[0;34m(\u001b[0m\u001b[0max\u001b[0m\u001b[0;34m,\u001b[0m \u001b[0;34m*\u001b[0m\u001b[0margs\u001b[0m\u001b[0;34m,\u001b[0m \u001b[0;34m**\u001b[0m\u001b[0mkwargs\u001b[0m\u001b[0;34m)\u001b[0m\u001b[0;34m\u001b[0m\u001b[0;34m\u001b[0m\u001b[0m\n",
            "\u001b[0;32m/usr/local/lib/python3.10/dist-packages/matplotlib/axes/_axes.py\u001b[0m in \u001b[0;36mbar\u001b[0;34m(self, x, height, width, bottom, align, **kwargs)\u001b[0m\n\u001b[1;32m   2439\u001b[0m         \u001b[0mlinewidth\u001b[0m \u001b[0;34m=\u001b[0m \u001b[0mitertools\u001b[0m\u001b[0;34m.\u001b[0m\u001b[0mcycle\u001b[0m\u001b[0;34m(\u001b[0m\u001b[0mnp\u001b[0m\u001b[0;34m.\u001b[0m\u001b[0matleast_1d\u001b[0m\u001b[0;34m(\u001b[0m\u001b[0mlinewidth\u001b[0m\u001b[0;34m)\u001b[0m\u001b[0;34m)\u001b[0m\u001b[0;34m\u001b[0m\u001b[0;34m\u001b[0m\u001b[0m\n\u001b[1;32m   2440\u001b[0m         \u001b[0mhatch\u001b[0m \u001b[0;34m=\u001b[0m \u001b[0mitertools\u001b[0m\u001b[0;34m.\u001b[0m\u001b[0mcycle\u001b[0m\u001b[0;34m(\u001b[0m\u001b[0mnp\u001b[0m\u001b[0;34m.\u001b[0m\u001b[0matleast_1d\u001b[0m\u001b[0;34m(\u001b[0m\u001b[0mhatch\u001b[0m\u001b[0;34m)\u001b[0m\u001b[0;34m)\u001b[0m\u001b[0;34m\u001b[0m\u001b[0;34m\u001b[0m\u001b[0m\n\u001b[0;32m-> 2441\u001b[0;31m         color = itertools.chain(itertools.cycle(mcolors.to_rgba_array(color)),\n\u001b[0m\u001b[1;32m   2442\u001b[0m                                 \u001b[0;31m# Fallback if color == \"none\".\u001b[0m\u001b[0;34m\u001b[0m\u001b[0;34m\u001b[0m\u001b[0m\n\u001b[1;32m   2443\u001b[0m                                 itertools.repeat('none'))\n",
            "\u001b[0;32m/usr/local/lib/python3.10/dist-packages/matplotlib/colors.py\u001b[0m in \u001b[0;36mto_rgba_array\u001b[0;34m(c, alpha)\u001b[0m\n\u001b[1;32m    469\u001b[0m \u001b[0;34m\u001b[0m\u001b[0m\n\u001b[1;32m    470\u001b[0m     \u001b[0;32mif\u001b[0m \u001b[0misinstance\u001b[0m\u001b[0;34m(\u001b[0m\u001b[0mc\u001b[0m\u001b[0;34m,\u001b[0m \u001b[0mstr\u001b[0m\u001b[0;34m)\u001b[0m\u001b[0;34m:\u001b[0m\u001b[0;34m\u001b[0m\u001b[0;34m\u001b[0m\u001b[0m\n\u001b[0;32m--> 471\u001b[0;31m         \u001b[0;32mraise\u001b[0m \u001b[0mValueError\u001b[0m\u001b[0;34m(\u001b[0m\u001b[0;34mf\"{c!r} is not a valid color value.\"\u001b[0m\u001b[0;34m)\u001b[0m\u001b[0;34m\u001b[0m\u001b[0;34m\u001b[0m\u001b[0m\n\u001b[0m\u001b[1;32m    472\u001b[0m \u001b[0;34m\u001b[0m\u001b[0m\n\u001b[1;32m    473\u001b[0m     \u001b[0;32mif\u001b[0m \u001b[0mlen\u001b[0m\u001b[0;34m(\u001b[0m\u001b[0mc\u001b[0m\u001b[0;34m)\u001b[0m \u001b[0;34m==\u001b[0m \u001b[0;36m0\u001b[0m\u001b[0;34m:\u001b[0m\u001b[0;34m\u001b[0m\u001b[0;34m\u001b[0m\u001b[0m\n",
            "\u001b[0;31mValueError\u001b[0m: '#7777777' is not a valid color value."
          ]
        },
        {
          "output_type": "display_data",
          "data": {
            "text/plain": [
              "<Figure size 600x300 with 2 Axes>"
            ],
            "image/png": "[encoded data removed]"
          },
          "metadata": {}
        }
      ]
    },
    {
      "cell_type": "markdown",
      "metadata": {
        "id": "XJ-feL8CbK2I"
      },
      "source": [
        "# 7. Mejoras al modelo"
      ]
    },
    {
      "cell_type": "markdown",
      "metadata": {
        "id": "5cfuHEA2cAJu"
      },
      "source": [
        "Usando el de la configuración del caso 3, pero cambiando el\n",
        "optimizador por ‘adam’ y la función de pérdida ‘sparse_categorical_crossentropy’. Buscar en internet las bases de dicho optimizador y función de pérdida, explícalos con tus propias palabras y plantea tus reflexiones respecto al resultado"
      ]
    },
    {
      "cell_type": "markdown",
      "metadata": {
        "id": "nK2s2NamcU24"
      },
      "source": [
        "Usaremos la red neuronal 2 (la 3 empezando a contar desde 0), pero con cambios en optimizador y la función de pérdida.\n",
        "* `adam`\n",
        "* `sparse_categorical_crossentropy`\n",
        "\n",
        "**Adam** es un optimizador que combina conceptos de RMSprop y Momentum, manteniendo dos momentos para cada parámetro. Estos momentos permiten que Adam ajuste dinámicamente la tasa de aprendizaje para cada parámetro, adaptándose bien a diferentes conjuntos de datos y arquitecturas de red. La capacidad de Adam para adaptarse automáticamente y su eficiencia en la práctica lo hacen ampliamente utilizado en la optimización de redes neuronales.\n",
        "\n",
        "**sparse_categorical_crossentropy** es una función de pérdida utilizada comúnmente en problemas de clasificación donde las etiquetas son enteros en lugar de codificación one-hot. En lugar de requerir que las etiquetas de destino sean un vector categórico, como en categorical_crossentropy, esta función acepta enteros que representan las clases. Es eficiente y evita la necesidad de convertir las etiquetas en codificación one-hot, simplificando así el proceso. La función calcula la pérdida entre las distribuciones de probabilidad predichas y las etiquetas, siendo adecuada para problemas de clasificación con varias clases donde cada instancia pertenece a una única clase."
      ]
    },
    {
      "cell_type": "code",
      "execution_count": null,
      "metadata": {
        "id": "dYetFV6YdbHA"
      },
      "outputs": [],
      "source": [
        "networks[2].compile(optimizer='adam',\n",
        "                    loss='sparse_categorical_crossentropy',\n",
        "                    metrics=['accuracy'])"
      ]
    },
    {
      "cell_type": "markdown",
      "metadata": {
        "id": "ARJIFLX16_4c"
      },
      "source": [
        "Entrenamos la red con los nuevos cambios:"
      ]
    },
    {
      "cell_type": "code",
      "execution_count": null,
      "metadata": {
        "colab": {
          "base_uri": "https://localhost:8080/"
        },
        "id": "iPwkGqwg7EQs",
        "outputId": "84869fa4-ada1-4b44-dfd8-b78e2f401e8a"
      },
      "outputs": [
        {
          "output_type": "stream",
          "name": "stdout",
          "text": [
            "Epoch 1/5\n",
            "469/469 [==============================] - 1s 3ms/step - loss: 2.1152 - accuracy: 0.3309\n",
            "Epoch 2/5\n",
            "469/469 [==============================] - 2s 4ms/step - loss: 1.8197 - accuracy: 0.5405\n",
            "Epoch 3/5\n",
            "469/469 [==============================] - 2s 4ms/step - loss: 1.6128 - accuracy: 0.5920\n",
            "Epoch 4/5\n",
            "469/469 [==============================] - 2s 4ms/step - loss: 1.4494 - accuracy: 0.6216\n",
            "Epoch 5/5\n",
            "469/469 [==============================] - 1s 2ms/step - loss: 1.3178 - accuracy: 0.6395\n"
          ]
        },
        {
          "output_type": "execute_result",
          "data": {
            "text/plain": [
              "<keras.src.callbacks.History at 0x7c04de9ea6e0>"
            ]
          },
          "metadata": {},
          "execution_count": 391
        }
      ],
      "source": [
        "networks[2].set_weights(initial_weights[2])                           # inicializamos los pesos, para no reutilizar los del entrenamiento anterior\n",
        "networks[2].fit(train_images, train_labels, epochs=5, batch_size=128)"
      ]
    }
  ],
  "metadata": {
    "colab": {
      "provenance": []
    },
    "kernelspec": {
      "display_name": ".venv",
      "language": "python",
      "name": "python3"
    },
    "language_info": {
      "codemirror_mode": {
        "name": "ipython",
        "version": 3
      },
      "file_extension": ".py",
      "mimetype": "text/x-python",
      "name": "python",
      "nbconvert_exporter": "python",
      "pygments_lexer": "ipython3",
      "version": "3.11.4"
    }
  },
  "nbformat": 4,
  "nbformat_minor": 0
}