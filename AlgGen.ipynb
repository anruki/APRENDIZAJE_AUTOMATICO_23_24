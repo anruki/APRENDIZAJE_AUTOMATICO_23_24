{
  "nbformat": 4,
  "nbformat_minor": 0,
  "metadata": {
    "colab": {
      "provenance": [],
      "authorship_tag": "ABX9TyOdmoChOzg4W5J0LGLOmOQ7",
      "include_colab_link": true
    },
    "kernelspec": {
      "name": "python3",
      "display_name": "Python 3"
    },
    "language_info": {
      "name": "python"
    }
  },
  "cells": [
    {
      "cell_type": "markdown",
      "metadata": {
        "id": "view-in-github",
        "colab_type": "text"
      },
      "source": [
        "<a href=\"https://colab.research.google.com/github/anruki/APRENDIZAJE_AUTOMATICO_23_24/blob/main/AlgGen.ipynb\" target=\"_parent\"><img src=\"https://colab.research.google.com/assets/colab-badge.svg\" alt=\"Open In Colab\"/></a>"
      ]
    },
    {
      "cell_type": "code",
      "execution_count": null,
      "metadata": {
        "colab": {
          "base_uri": "https://localhost:8080/"
        },
        "id": "kUSBW9i3HpSN",
        "outputId": "cc32dbc9-0dfc-4e89-f941-e9b4a8816e73"
      },
      "outputs": [
        {
          "output_type": "stream",
          "name": "stdout",
          "text": [
            "Genotipos:\n",
            "[[0 0 0 1 0 1]\n",
            " [0 1 1 0 1 1]\n",
            " [1 1 0 0 0 0]\n",
            " [0 1 0 0 0 1]\n",
            " [1 0 0 0 0 1]\n",
            " [1 1 1 1 1 1]]\n",
            "Fenotipos: [5, 27, -16, 17, -31, -1]\n",
            "\n",
            "El resultado de f(x) para cada fenotipo es:\n",
            "2226.197386538649\n",
            "43095907488745.69\n",
            "-5.401688386524437e-06\n",
            "1231902590.4323401\n",
            "-3.2015037108770783e-12\n",
            "-1.103638323514327\n",
            "Suma total: 43097139393561.21\n",
            "Valor mínimo: -1.103638323514327\n",
            "Media: 7182856565593.535\n"
          ]
        }
      ],
      "source": [
        "import numpy as np\n",
        "import math\n",
        "def binary_matrix_to_decimal_signed(binary_matrix):\n",
        "    \"\"\"\n",
        "    Converts a binary matrix to its signed decimal equivalents using two's complement.\n",
        "\n",
        "    Parameters:\n",
        "    - binary_matrix: 2D NumPy array or list of lists where each row represents a binary vector.\n",
        "\n",
        "    Returns:\n",
        "    - decimal_values: List of signed decimal equivalents for each binary vector.\n",
        "    \"\"\"\n",
        "    binary_matrix = np.array(binary_matrix)\n",
        "    num_vectors, vector_length = binary_matrix.shape\n",
        "\n",
        "    decimal_values = []\n",
        "\n",
        "    for vector_index in range(num_vectors):\n",
        "        decimal_value = 0\n",
        "\n",
        "        # Check if the binary vector is negative (MSB is 1)\n",
        "        if binary_matrix[vector_index, 0] == 1:\n",
        "            # Convert the binary vector to its signed decimal equivalent using two's complement\n",
        "            binary_vector = binary_matrix[vector_index]\n",
        "            inverted_vector = 1 - binary_vector\n",
        "            decimal_value = -1 * (int(''.join(map(str, inverted_vector)), 2) + 1)\n",
        "        else:\n",
        "            # Convert the positive binary vector to decimal\n",
        "            for bit_index in range(vector_length):\n",
        "                decimal_value += binary_matrix[vector_index, bit_index] * (2 ** (vector_length - 1 - bit_index))\n",
        "\n",
        "        decimal_values.append(decimal_value)\n",
        "\n",
        "    return decimal_values\n",
        "\n",
        "def calcular_estadisticas(resultados):\n",
        "    \"\"\"\n",
        "    Calcula la suma, el mínimo y la media de un vector de resultados.\n",
        "\n",
        "    Parámetros:\n",
        "    - resultados: NumPy array o lista de resultados.\n",
        "\n",
        "    Retorna:\n",
        "    - suma_total: Suma de todos los resultados.\n",
        "    - valor_minimo: Valor mínimo en el vector de resultados.\n",
        "    - media: Media de los resultados.\n",
        "    \"\"\"\n",
        "    resultados = np.array(resultados)\n",
        "    suma_total = np.sum(resultados)\n",
        "    valor_minimo = np.min(resultados)\n",
        "    media = np.mean(resultados)\n",
        "\n",
        "    return suma_total, valor_minimo, media\n",
        "\n",
        "\n",
        "\n",
        "def f(x_vector):\n",
        "    \"\"\"\n",
        "    Calculates the result of the expression 3 * x * exp(x) for each element in the input vector.\n",
        "\n",
        "    Parameters:\n",
        "    - x_vector: NumPy array or Python list of input values.\n",
        "\n",
        "    Returns:\n",
        "    - result_vector: NumPy array of results for each element in the input vector.\n",
        "    \"\"\"\n",
        "    x_vector = np.array(x_vector)\n",
        "    result_vector = 3 * x_vector * np.exp(x_vector)\n",
        "    return result_vector\n",
        "\n",
        "# Given matrix\n",
        "genotipos = np.array([[0, 0, 0, 1, 0, 1],\n",
        "                         [0, 1, 1, 0, 1, 1],\n",
        "                         [1, 1, 0, 0, 0, 0],\n",
        "                         [0, 1, 0, 0, 0, 1],\n",
        "                         [1, 0, 0, 0, 0, 1],\n",
        "                         [1, 1, 1, 1, 1, 1]])\n",
        "\n",
        "fenotipos = binary_matrix_to_decimal_signed(genotipos)\n",
        "resultados = f(fenotipos)\n",
        "suma, minimo, media = calcular_estadisticas(resultados)\n",
        "\n",
        "print(f\"Genotipos:\\n{genotipos}\")\n",
        "print(f\"Fenotipos: {fenotipos}\\n\")\n",
        "print(\"El resultado de f(x) para cada fenotipo es:\")\n",
        "for x, result in zip(fenotipos, resultados):\n",
        "    print(f\"{result}\")\n",
        "\n",
        "\n",
        "\n",
        "print(f\"Suma total: {suma}\")\n",
        "print(f\"Valor mínimo: {minimo}\")\n",
        "print(f\"Media: {media}\")"
      ]
    }
  ]
}