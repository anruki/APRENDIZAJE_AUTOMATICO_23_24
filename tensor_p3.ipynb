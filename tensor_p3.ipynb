{
  "cells": [
    {
      "cell_type": "code",
      "execution_count": 3,
      "metadata": {
        "id": "9Eb5WNQc73hw"
      },
      "outputs": [],
      "source": [
        "classes = ['apple', 'aquarium_fish', 'baby', 'bear', 'beaver', 'bed', 'bee', 'beetle', 'bicycle', 'bottle', 'bowl', 'boy', 'bridge', 'bus', 'butterfly', 'camel', 'can', 'castle', 'caterpillar', 'cattle', 'chair', 'chimpanzee', 'clock', 'cloud', 'cockroach', 'couch', 'crab', 'crocodile', 'cup', 'dinosaur', 'dolphin', 'elephant', 'flatfish', 'forest', 'fox', 'girl', 'hamster', 'house', 'kangaroo', 'keyboard', 'lamp', 'lawn_mower', 'leopard', 'lion', 'lizard', 'lobster', 'man', 'maple_tree', 'motorcycle', 'mountain', 'mouse', 'mushroom', 'oak_tree', 'orange', 'orchid', 'otter', 'palm_tree', 'pear', 'pickup_truck', 'pine_tree', 'plain', 'plate', 'poppy', 'porcupine', 'possum', 'rabbit', 'raccoon', 'ray', 'road', 'rocket', 'rose', 'sea', 'seal', 'shark', 'shrew', 'skunk', 'skyscraper', 'snail', 'snake', 'spider', 'squirrel', 'streetcar', 'sunflower', 'sweet_pepper', 'table', 'tank', 'telephone', 'television', 'tiger', 'tractor', 'train', 'trout', 'tulip', 'turtle', 'wardrobe', 'whale', 'willow_tree', 'wolf', 'woman', 'worm']\n",
        "super_classes = ['aquatic_mammals', 'fish', 'flowers', 'food_containers', 'fruit_and_vegetables', 'household_electrical_devices', 'household_furniture', 'insects', 'large_carnivores', 'large_man-made_outdoor_things', 'large_natural_outdoor_scenes', 'large_omnivores_and_herbivores', 'medium_mammals', 'non-insect_invertebrates', 'people', 'reptiles', 'small_mammals', 'trees', 'vehicles_1', 'vehicles_2']\n",
        "\n",
        "num_classes = len(classes)\n",
        "num_super_classes = len(super_classes)"
      ]
    },
    {
      "cell_type": "code",
      "execution_count": 4,
      "metadata": {
        "id": "XX8kipzT73hy",
        "colab": {
          "base_uri": "https://localhost:8080/"
        },
        "outputId": "3aef42be-c93e-4560-c12d-046bbbad4359"
      },
      "outputs": [
        {
          "output_type": "stream",
          "name": "stdout",
          "text": [
            "Downloading data from https://www.cs.toronto.edu/~kriz/cifar-100-python.tar.gz\n",
            "169001437/169001437 [==============================] - 4s 0us/step\n"
          ]
        },
        {
          "output_type": "execute_result",
          "data": {
            "text/plain": [
              "(tensorflow.python.data.ops.from_tensor_slices_op._TensorSliceDataset,\n",
              " tensorflow.python.data.ops.from_tensor_slices_op._TensorSliceDataset)"
            ]
          },
          "metadata": {},
          "execution_count": 4
        }
      ],
      "source": [
        "import tensorflow as tf\n",
        "\n",
        "ds_train, ds_test = tf.keras.datasets.cifar100.load_data()\n",
        "\n",
        "ds_train = tf.data.Dataset.from_tensor_slices(ds_train)\n",
        "ds_test = tf.data.Dataset.from_tensor_slices(ds_test)\n",
        "\n",
        "type(ds_train), type(ds_test)"
      ]
    },
    {
      "cell_type": "markdown",
      "source": [
        "En el siguiente bloque de código, se realiza un análisis detallado de las dimensiones del dataset y de sus elementos. Este proceso es fundamental para comprender la estructura de los datos de entrada y garantizar una manipulación adecuada durante el desarrollo del proyecto de inteligencia artificial."
      ],
      "metadata": {
        "id": "B4dkjOm0pKjs"
      }
    },
    {
      "cell_type": "code",
      "source": [
        "num_train = len(ds_train)\n",
        "num_test = len(ds_test)\n",
        "print(f'Train dataset size: {num_train}')\n",
        "print(f'Test dataset size: {num_test}')\n",
        "\n",
        "train_image_spec, train_label_spec = ds_train.element_spec\n",
        "test_image_spec, test_label_spec = ds_train.element_spec\n",
        "\n",
        "print(f'Train elements shape: {train_image_spec.shape}, {train_label_spec.shape}')\n",
        "print(f'Test elements shape: {test_image_spec.shape}, {test_label_spec.shape}')\n",
        "\n",
        "print(f'Train elements type: {train_image_spec.dtype}, {train_label_spec.dtype}')\n",
        "print(f'Test elements type: {train_image_spec.dtype}, {train_label_spec.dtype}')"
      ],
      "metadata": {
        "colab": {
          "base_uri": "https://localhost:8080/"
        },
        "id": "oRCNrwF3ozeR",
        "outputId": "1d521488-070a-4ba9-83cd-767919a4674a"
      },
      "execution_count": 5,
      "outputs": [
        {
          "output_type": "stream",
          "name": "stdout",
          "text": [
            "Train dataset size: 50000\n",
            "Test dataset size: 10000\n",
            "Train elements shape: (32, 32, 3), (1,)\n",
            "Test elements shape: (32, 32, 3), (1,)\n",
            "Train elements type: <dtype: 'uint8'>, <dtype: 'int64'>\n",
            "Test elements type: <dtype: 'uint8'>, <dtype: 'int64'>\n"
          ]
        }
      ]
    },
    {
      "cell_type": "markdown",
      "source": [
        "Nos fijamos que en los datasets resultantes las imágenes tienen un formato adecuado de 32x32 pixels en 3 canales (RGB), pero las etiquetas deberían ser escalares. Convertimos las etiquetas para que tengan dimensión ()."
      ],
      "metadata": {
        "id": "8Izw-UyjlYfI"
      }
    },
    {
      "cell_type": "code",
      "source": [
        "# Las etiquetas son tensores de dimensión (1,) convertimos a ()\n",
        "def reshape_label(image, label):\n",
        "  return image, tf.reshape(label, ())\n",
        "\n",
        "ds_train = ds_train.map(reshape_label)\n",
        "ds_test = ds_test.map(reshape_label)"
      ],
      "metadata": {
        "id": "Cl-q0O7RlDzB"
      },
      "execution_count": 6,
      "outputs": []
    },
    {
      "cell_type": "markdown",
      "source": [
        "A continuación podemos echar un vistazo a 4 imágenes del dataset y comprobar que las etiquetas se adecuan a su imagen asociada."
      ],
      "metadata": {
        "id": "1spLLLv6maS8"
      }
    },
    {
      "cell_type": "code",
      "source": [
        "import matplotlib.pyplot as plt\n",
        "\n",
        "fig = plt.figure(figsize=(8, 8))\n",
        "# Mostramos 4 imágenes del dataset de entrenamiento\n",
        "for i, x in enumerate(ds_train.take(4)):\n",
        "  image, label = x\n",
        "  plt.subplot(2, 2, i+1)\n",
        "  plt.imshow(image)\n",
        "  plt.title(f\"{classes[label]}: {label}\")"
      ],
      "metadata": {
        "colab": {
          "base_uri": "https://localhost:8080/",
          "height": 699
        },
        "id": "rtRtbZyrdSqW",
        "outputId": "edd4e618-ed8d-45de-ada5-f109996901ae"
      },
      "execution_count": 7,
      "outputs": [
        {
          "output_type": "display_data",
          "data": {
            "text/plain": [
              "<Figure size 800x800 with 4 Axes>"
            ],
            "image/png": "[encoded data removed]"
          },
          "metadata": {}
        }
      ]
    },
    {
      "cell_type": "markdown",
      "source": [
        "Todo parece correcto, realizamos ahora, un preprocesamiento de las imágenes y etiquetas, para convertirlas en inputs adecuados para nuestros modelos. Definimos la función preprocessing, que aplicaremos a los elementos de los dataset de entrenamiento y test."
      ],
      "metadata": {
        "id": "9YZOE1xfmrB9"
      }
    },
    {
      "cell_type": "code",
      "execution_count": 8,
      "metadata": {
        "id": "LnGK2r5K73hz"
      },
      "outputs": [],
      "source": [
        "def preprocessing(image, label):\n",
        "  image = tf.cast(image, tf.float32) / 255.0\n",
        "  label = tf.one_hot(label, depth=num_classes)\n",
        "  return image, label\n",
        "\n",
        "ds_train = ds_train.map(preprocessing, num_parallel_calls=tf.data.AUTOTUNE)\n",
        "ds_test = ds_test.map(preprocessing, num_parallel_calls=tf.data.AUTOTUNE)"
      ]
    },
    {
      "cell_type": "markdown",
      "source": [
        "Vemos que la normalización ha tenido éxito"
      ],
      "metadata": {
        "id": "0BiLwZR6Culz"
      }
    },
    {
      "cell_type": "code",
      "source": [
        "for elem in ds_train.take(1):\n",
        "  print(elem)"
      ],
      "metadata": {
        "colab": {
          "base_uri": "https://localhost:8080/"
        },
        "id": "Di9eWfZnCi6p",
        "outputId": "fa2619c0-d7c1-4697-dacc-f6bddcd7dbae"
      },
      "execution_count": 9,
      "outputs": [
        {
          "output_type": "stream",
          "name": "stdout",
          "text": [
            "(<tf.Tensor: shape=(32, 32, 3), dtype=float32, numpy=\n",
            "array([[[1.        , 1.        , 1.        ],\n",
            "        [1.        , 1.        , 1.        ],\n",
            "        [1.        , 1.        , 1.        ],\n",
            "        ...,\n",
            "        [0.7647059 , 0.8039216 , 0.75686276],\n",
            "        [0.83137256, 0.8784314 , 0.8       ],\n",
            "        [0.7137255 , 0.7607843 , 0.654902  ]],\n",
            "\n",
            "       [[1.        , 1.        , 1.        ],\n",
            "        [0.99607843, 0.99607843, 0.99607843],\n",
            "        [0.99607843, 0.99607843, 0.99607843],\n",
            "        ...,\n",
            "        [0.6666667 , 0.6901961 , 0.5882353 ],\n",
            "        [0.6313726 , 0.65882355, 0.50980395],\n",
            "        [0.57254905, 0.6039216 , 0.44313726]],\n",
            "\n",
            "       [[1.        , 1.        , 1.        ],\n",
            "        [0.99607843, 0.99607843, 0.99607843],\n",
            "        [1.        , 1.        , 1.        ],\n",
            "        ...,\n",
            "        [0.7411765 , 0.78039217, 0.6627451 ],\n",
            "        [0.6509804 , 0.69803923, 0.50980395],\n",
            "        [0.4745098 , 0.52156866, 0.34117648]],\n",
            "\n",
            "       ...,\n",
            "\n",
            "       [[0.5803922 , 0.7254902 , 0.30980393],\n",
            "        [0.5568628 , 0.7137255 , 0.22352941],\n",
            "        [0.54901963, 0.7019608 , 0.23529412],\n",
            "        ...,\n",
            "        [0.11764706, 0.06666667, 0.00392157],\n",
            "        [0.25490198, 0.24313726, 0.05882353],\n",
            "        [0.29803923, 0.3019608 , 0.07843138]],\n",
            "\n",
            "       [[0.47843137, 0.6156863 , 0.25882354],\n",
            "        [0.47058824, 0.60784316, 0.22745098],\n",
            "        [0.49411765, 0.627451  , 0.2784314 ],\n",
            "        ...,\n",
            "        [0.08627451, 0.0627451 , 0.01176471],\n",
            "        [0.38039216, 0.4392157 , 0.21960784],\n",
            "        [0.5529412 , 0.6313726 , 0.34117648]],\n",
            "\n",
            "       [[0.34117648, 0.47843137, 0.16078432],\n",
            "        [0.34509805, 0.47843137, 0.15294118],\n",
            "        [0.39607844, 0.5254902 , 0.21960784],\n",
            "        ...,\n",
            "        [0.13333334, 0.14117648, 0.03921569],\n",
            "        [0.4117647 , 0.52156866, 0.23137255],\n",
            "        [0.5411765 , 0.6784314 , 0.30980393]]], dtype=float32)>, <tf.Tensor: shape=(100,), dtype=float32, numpy=\n",
            "array([0., 0., 0., 0., 0., 0., 0., 0., 0., 0., 0., 0., 0., 0., 0., 0., 0.,\n",
            "       0., 0., 1., 0., 0., 0., 0., 0., 0., 0., 0., 0., 0., 0., 0., 0., 0.,\n",
            "       0., 0., 0., 0., 0., 0., 0., 0., 0., 0., 0., 0., 0., 0., 0., 0., 0.,\n",
            "       0., 0., 0., 0., 0., 0., 0., 0., 0., 0., 0., 0., 0., 0., 0., 0., 0.,\n",
            "       0., 0., 0., 0., 0., 0., 0., 0., 0., 0., 0., 0., 0., 0., 0., 0., 0.,\n",
            "       0., 0., 0., 0., 0., 0., 0., 0., 0., 0., 0., 0., 0., 0., 0.],\n",
            "      dtype=float32)>)\n"
          ]
        }
      ]
    },
    {
      "cell_type": "markdown",
      "source": [
        "Definimos como datos de validación parte de los datos de entrenamiento, contamos con 50_000 muestras utilizaremos un 20% para validación (10_000 imágenes para validación y 40_000 para ajustar los pesos durante cada época)"
      ],
      "metadata": {
        "id": "e1PMPbP3A0_T"
      }
    },
    {
      "cell_type": "code",
      "source": [
        "ratio = 0.2\n",
        "validation_size = int(ratio * num_train) # 10_000\n",
        "base_ds_val = ds_train.take(validation_size)\n",
        "base_ds_fit = ds_train.skip(validation_size)\n",
        "\n",
        "len(base_ds_val), len(base_ds_fit)"
      ],
      "metadata": {
        "colab": {
          "base_uri": "https://localhost:8080/"
        },
        "id": "StrPy_VuAyv6",
        "outputId": "a871b37e-7f5c-4ed0-9d4e-ff410c82f65c"
      },
      "execution_count": 10,
      "outputs": [
        {
          "output_type": "execute_result",
          "data": {
            "text/plain": [
              "(10000, 40000)"
            ]
          },
          "metadata": {},
          "execution_count": 10
        }
      ]
    },
    {
      "cell_type": "markdown",
      "source": [
        "Los inputs a la red serán lotes de 64 imágenes del dataset para ajuste ds_fit.\\\n",
        "Utilizamos .cache() para guardar en caché las transformaciones realizadas con .map(), usamos .shuffle() y .batch() para mezclar los elementos antes de formar los lotes, consiguiendo así lotes únicos para cada época. Finalmente con .prefetch() especificamos que el siguientes lotes se carguen de manera paralela mientras se entrena una época."
      ],
      "metadata": {
        "id": "0yWdMWIxIy6K"
      }
    },
    {
      "cell_type": "code",
      "source": [
        "batch_size = 128 # multiplo de 32\n",
        "ds_fit = base_ds_fit.cache()\n",
        "ds_fit = ds_fit.shuffle(buffer_size=len(ds_fit))\n",
        "ds_fit = ds_fit.batch(batch_size)\n",
        "ds_fit = ds_fit.prefetch(tf.data.experimental.AUTOTUNE)"
      ],
      "metadata": {
        "id": "YEnMtPuzEGFJ"
      },
      "execution_count": 11,
      "outputs": []
    },
    {
      "cell_type": "markdown",
      "source": [
        "Para el dataset de validación ds_val, no mezclamos ya que no influye en los ajustes de pesos. Aunque si que tendrá influencia el detener las épocas en función de los datos de validación."
      ],
      "metadata": {
        "id": "KuYhibuAJwvT"
      }
    },
    {
      "cell_type": "code",
      "source": [
        "batch_size = 128\n",
        "ds_val = base_ds_val.cache()\n",
        "ds_val = ds_val.batch(batch_size)\n",
        "ds_val = ds_val.prefetch(tf.data.experimental.AUTOTUNE)"
      ],
      "metadata": {
        "id": "jNJFaDpWJsGh"
      },
      "execution_count": 12,
      "outputs": []
    },
    {
      "cell_type": "markdown",
      "source": [
        "Preparamos el learning rate adaptativo a usar en el callback"
      ],
      "metadata": {
        "id": "ZKHc8FyPssbB"
      }
    },
    {
      "cell_type": "code",
      "source": [
        "from tensorflow.keras.callbacks import LearningRateScheduler, EarlyStopping, ReduceLROnPlateau\n",
        "\n",
        "# Define a function to adjust the learning rate\n",
        "def lr_schedule(epoch):\n",
        "    if epoch < 5:\n",
        "        return 0.001  # First 5 epochs\n",
        "    elif epoch < 10:\n",
        "        return 0.0005  # Next 5 epochs\n",
        "    else:\n",
        "        return 0.0001  # Rest of the epochs\n",
        "\n",
        "# Create the LearningRateScheduler callback\n",
        "lr_scheduler = LearningRateScheduler(lr_schedule)\n",
        "\n",
        "reduce_lr = ReduceLROnPlateau(monitor='val_loss', factor=0.2, patience=3, min_lr=0.0001)\n",
        "\n",
        "# Crear el EarlyStopping callback con la función on_train_end\n",
        "early_stopping = EarlyStopping(monitor='val_loss', mode='min', verbose=1, patience=10, restore_best_weights=True)\n",
        "\n",
        "\n",
        "# Define your callbacks\n",
        "callbacks = [early_stopping, lr_scheduler, reduce_lr]"
      ],
      "metadata": {
        "id": "W07pk5CZswyV"
      },
      "execution_count": 13,
      "outputs": []
    },
    {
      "cell_type": "markdown",
      "source": [
        "Añadimos un random flip y rotación a las imágenes (data augmentation)"
      ],
      "metadata": {
        "id": "9qpgC8c9JSNL"
      }
    },
    {
      "cell_type": "code",
      "source": [
        "\"\"\"import matplotlib.pyplot as plt\n",
        "import numpy as np\n",
        "import tensorflow as tf\n",
        "import tensorflow_datasets as tfds\n",
        "\n",
        "from tensorflow.keras import layers\n",
        "\n",
        "# Define the data augmentation layer\n",
        "data_augmentation = tf.keras.Sequential([\n",
        "    layers.RandomFlip(\"horizontal_and_vertical\"),\n",
        "    layers.RandomRotation(0.2),\n",
        "])\"\"\"\n",
        "\n"
      ],
      "metadata": {
        "id": "lV1uIMl2JXKh",
        "colab": {
          "base_uri": "https://localhost:8080/",
          "height": 53
        },
        "outputId": "7380c4e1-4948-4263-8c8f-a6f4a5259ca7"
      },
      "execution_count": 14,
      "outputs": [
        {
          "output_type": "execute_result",
          "data": {
            "text/plain": [
              "'import matplotlib.pyplot as plt\\nimport numpy as np\\nimport tensorflow as tf\\nimport tensorflow_datasets as tfds\\n\\nfrom tensorflow.keras import layers\\n\\n# Define the data augmentation layer\\ndata_augmentation = tf.keras.Sequential([\\n    layers.RandomFlip(\"horizontal_and_vertical\"),\\n    layers.RandomRotation(0.2),\\n])'"
            ],
            "application/vnd.google.colaboratory.intrinsic+json": {
              "type": "string"
            }
          },
          "metadata": {},
          "execution_count": 14
        }
      ]
    },
    {
      "cell_type": "markdown",
      "source": [
        "Como queremos obtener los mismos resultados para cualquier usuario que ejecute el programa, usamos una seed para inicializar los pesos posteriormente."
      ],
      "metadata": {
        "id": "3NT9Sh3MssB8"
      }
    },
    {
      "cell_type": "code",
      "source": [
        "# Establecer la semilla global\n",
        "seed_value = 42\n",
        "tf.random.set_seed(seed_value)"
      ],
      "metadata": {
        "id": "5-BHhgORsscj"
      },
      "execution_count": 15,
      "outputs": []
    },
    {
      "cell_type": "markdown",
      "source": [
        "Arquitectura de la red"
      ],
      "metadata": {
        "id": "n-_9Hinb2z9u"
      }
    },
    {
      "cell_type": "code",
      "source": [
        "from tensorflow.keras.models import Sequential\n",
        "from tensorflow.keras.layers import Conv2D, MaxPooling2D, Flatten, Dense, BatchNormalization, Dropout\n",
        "from tensorflow.keras import regularizers\n",
        "\n",
        "# Specify the regularization strength\n",
        "l2_reg_strength = 0.01\n",
        "\n",
        "# Build the model\n",
        "model = Sequential([\n",
        "    Conv2D(32, (3, 3), activation='relu', input_shape=(32, 32, 3), kernel_regularizer=regularizers.l2(l2_reg_strength)),\n",
        "    BatchNormalization(),\n",
        "\n",
        "    Conv2D(64, (3, 3), activation='relu', kernel_regularizer=regularizers.l2(l2_reg_strength)),\n",
        "    MaxPooling2D((2, 2)),\n",
        "    Dropout(0.25),\n",
        "\n",
        "    Conv2D(128, (3, 3), activation='relu', kernel_regularizer=regularizers.l2(l2_reg_strength)),\n",
        "    BatchNormalization(),\n",
        "\n",
        "    Conv2D(128, (3, 3), activation='relu', kernel_regularizer=regularizers.l2(l2_reg_strength)),\n",
        "    MaxPooling2D((2, 2)),\n",
        "    Dropout(0.25),\n",
        "\n",
        "    Flatten(),\n",
        "    Dense(512, activation='relu', kernel_regularizer=regularizers.l2(l2_reg_strength)),\n",
        "    BatchNormalization(),\n",
        "    Dropout(0.5),\n",
        "    Dense(num_classes, activation='softmax')\n",
        "])\n",
        "\n",
        "\n",
        "# Hacemos una copia del modelo, con los mismos pesos y la misma arquitectura\n",
        "model_test = tf.keras.models.clone_model(model)\n",
        "\n",
        "# Compilar el modelo\n",
        "model.compile(optimizer='adam',\n",
        "              loss='categorical_crossentropy',\n",
        "              metrics=['accuracy'])\n",
        "\n",
        "# Entrenar el modelo utilizando el conjunto de datos\n",
        "history = model.fit(ds_fit, epochs=40, validation_data=ds_val, callbacks=callbacks)\n",
        "\n",
        "last_epoch = len(history.history['val_loss'])"
      ],
      "metadata": {
        "colab": {
          "base_uri": "https://localhost:8080/"
        },
        "id": "IqSermaUAOuz",
        "outputId": "f7d525b7-6545-4d5a-f3f7-682909f2243f"
      },
      "execution_count": 17,
      "outputs": [
        {
          "output_type": "stream",
          "name": "stdout",
          "text": [
            "Epoch 1/40\n",
            "313/313 [==============================] - 25s 25ms/step - loss: 8.6931 - accuracy: 0.1190 - val_loss: 7.7013 - val_accuracy: 0.0196 - lr: 0.0010\n",
            "Epoch 2/40\n",
            "313/313 [==============================] - 7s 21ms/step - loss: 4.5624 - accuracy: 0.2303 - val_loss: 4.7161 - val_accuracy: 0.1641 - lr: 0.0010\n",
            "Epoch 3/40\n",
            "313/313 [==============================] - 7s 21ms/step - loss: 3.9384 - accuracy: 0.2979 - val_loss: 4.1581 - val_accuracy: 0.2451 - lr: 0.0010\n",
            "Epoch 4/40\n",
            "313/313 [==============================] - 6s 21ms/step - loss: 3.7520 - accuracy: 0.3301 - val_loss: 3.7843 - val_accuracy: 0.3201 - lr: 0.0010\n",
            "Epoch 5/40\n",
            "313/313 [==============================] - 7s 22ms/step - loss: 3.6783 - accuracy: 0.3440 - val_loss: 3.7135 - val_accuracy: 0.3394 - lr: 0.0010\n",
            "Epoch 6/40\n",
            "313/313 [==============================] - 7s 21ms/step - loss: 3.1491 - accuracy: 0.4130 - val_loss: 3.1980 - val_accuracy: 0.3897 - lr: 5.0000e-04\n",
            "Epoch 7/40\n",
            "313/313 [==============================] - 7s 22ms/step - loss: 3.0242 - accuracy: 0.4301 - val_loss: 3.2083 - val_accuracy: 0.3882 - lr: 5.0000e-04\n",
            "Epoch 8/40\n",
            "313/313 [==============================] - 6s 20ms/step - loss: 2.9960 - accuracy: 0.4444 - val_loss: 3.1523 - val_accuracy: 0.4065 - lr: 5.0000e-04\n",
            "Epoch 9/40\n",
            "313/313 [==============================] - 7s 21ms/step - loss: 2.9541 - accuracy: 0.4563 - val_loss: 3.2394 - val_accuracy: 0.4048 - lr: 5.0000e-04\n",
            "Epoch 10/40\n",
            "313/313 [==============================] - 6s 20ms/step - loss: 2.9275 - accuracy: 0.4669 - val_loss: 3.2678 - val_accuracy: 0.4019 - lr: 5.0000e-04\n",
            "Epoch 11/40\n",
            "313/313 [==============================] - 7s 21ms/step - loss: 2.5314 - accuracy: 0.5475 - val_loss: 2.5683 - val_accuracy: 0.5268 - lr: 1.0000e-04\n",
            "Epoch 12/40\n",
            "313/313 [==============================] - 6s 20ms/step - loss: 2.2466 - accuracy: 0.5841 - val_loss: 2.4284 - val_accuracy: 0.5309 - lr: 1.0000e-04\n",
            "Epoch 13/40\n",
            "313/313 [==============================] - 7s 23ms/step - loss: 2.0841 - accuracy: 0.6079 - val_loss: 2.3474 - val_accuracy: 0.5360 - lr: 1.0000e-04\n",
            "Epoch 14/40\n",
            "313/313 [==============================] - 7s 21ms/step - loss: 1.9662 - accuracy: 0.6230 - val_loss: 2.2787 - val_accuracy: 0.5357 - lr: 1.0000e-04\n",
            "Epoch 15/40\n",
            "313/313 [==============================] - 7s 21ms/step - loss: 1.8771 - accuracy: 0.6402 - val_loss: 2.2733 - val_accuracy: 0.5374 - lr: 1.0000e-04\n",
            "Epoch 16/40\n",
            "313/313 [==============================] - 6s 21ms/step - loss: 1.8028 - accuracy: 0.6515 - val_loss: 2.2101 - val_accuracy: 0.5459 - lr: 1.0000e-04\n",
            "Epoch 17/40\n",
            "313/313 [==============================] - 7s 22ms/step - loss: 1.7454 - accuracy: 0.6626 - val_loss: 2.2045 - val_accuracy: 0.5479 - lr: 1.0000e-04\n",
            "Epoch 18/40\n",
            "313/313 [==============================] - 7s 22ms/step - loss: 1.6894 - accuracy: 0.6724 - val_loss: 2.1790 - val_accuracy: 0.5489 - lr: 1.0000e-04\n",
            "Epoch 19/40\n",
            "313/313 [==============================] - 7s 22ms/step - loss: 1.6484 - accuracy: 0.6806 - val_loss: 2.2031 - val_accuracy: 0.5426 - lr: 1.0000e-04\n",
            "Epoch 20/40\n",
            "313/313 [==============================] - 7s 22ms/step - loss: 1.6150 - accuracy: 0.6875 - val_loss: 2.1964 - val_accuracy: 0.5454 - lr: 1.0000e-04\n",
            "Epoch 21/40\n",
            "313/313 [==============================] - 7s 21ms/step - loss: 1.5774 - accuracy: 0.6964 - val_loss: 2.1802 - val_accuracy: 0.5476 - lr: 1.0000e-04\n",
            "Epoch 22/40\n",
            "313/313 [==============================] - 7s 21ms/step - loss: 1.5492 - accuracy: 0.7051 - val_loss: 2.1898 - val_accuracy: 0.5427 - lr: 1.0000e-04\n",
            "Epoch 23/40\n",
            "313/313 [==============================] - 7s 21ms/step - loss: 1.5205 - accuracy: 0.7097 - val_loss: 2.1664 - val_accuracy: 0.5506 - lr: 1.0000e-04\n",
            "Epoch 24/40\n",
            "313/313 [==============================] - 7s 23ms/step - loss: 1.4933 - accuracy: 0.7151 - val_loss: 2.1986 - val_accuracy: 0.5480 - lr: 1.0000e-04\n",
            "Epoch 25/40\n",
            "313/313 [==============================] - 6s 21ms/step - loss: 1.4690 - accuracy: 0.7222 - val_loss: 2.1843 - val_accuracy: 0.5466 - lr: 1.0000e-04\n",
            "Epoch 26/40\n",
            "313/313 [==============================] - 7s 21ms/step - loss: 1.4496 - accuracy: 0.7302 - val_loss: 2.1913 - val_accuracy: 0.5504 - lr: 1.0000e-04\n",
            "Epoch 27/40\n",
            "313/313 [==============================] - 7s 22ms/step - loss: 1.4283 - accuracy: 0.7326 - val_loss: 2.2173 - val_accuracy: 0.5500 - lr: 1.0000e-04\n",
            "Epoch 28/40\n",
            "313/313 [==============================] - 7s 22ms/step - loss: 1.4073 - accuracy: 0.7396 - val_loss: 2.1941 - val_accuracy: 0.5526 - lr: 1.0000e-04\n",
            "Epoch 29/40\n",
            "313/313 [==============================] - 7s 21ms/step - loss: 1.3960 - accuracy: 0.7411 - val_loss: 2.2318 - val_accuracy: 0.5457 - lr: 1.0000e-04\n",
            "Epoch 30/40\n",
            "313/313 [==============================] - 7s 22ms/step - loss: 1.3781 - accuracy: 0.7469 - val_loss: 2.2036 - val_accuracy: 0.5537 - lr: 1.0000e-04\n",
            "Epoch 31/40\n",
            "313/313 [==============================] - 7s 21ms/step - loss: 1.3583 - accuracy: 0.7504 - val_loss: 2.2239 - val_accuracy: 0.5437 - lr: 1.0000e-04\n",
            "Epoch 32/40\n",
            "313/313 [==============================] - 7s 21ms/step - loss: 1.3484 - accuracy: 0.7542 - val_loss: 2.2271 - val_accuracy: 0.5525 - lr: 1.0000e-04\n",
            "Epoch 33/40\n",
            "313/313 [==============================] - ETA: 0s - loss: 1.3412 - accuracy: 0.7574Restoring model weights from the end of the best epoch: 23.\n",
            "313/313 [==============================] - 7s 22ms/step - loss: 1.3412 - accuracy: 0.7574 - val_loss: 2.2430 - val_accuracy: 0.5480 - lr: 1.0000e-04\n",
            "Epoch 33: early stopping\n"
          ]
        }
      ]
    },
    {
      "cell_type": "markdown",
      "source": [
        "Hemos comprobado que a partir de la época 11 se sobreentrena, ahora usaremos todos los datos de entrenamiento para el modelo real, sabiendo que a partir de l esa época se sobreentrena."
      ],
      "metadata": {
        "id": "3HpTWly73XS0"
      }
    },
    {
      "cell_type": "code",
      "source": [
        "batch_size = 128\n",
        "ds_fit = ds_train.cache()\n",
        "ds_fit = ds_fit.shuffle(buffer_size=len(ds_fit))\n",
        "ds_fit = ds_fit.batch(batch_size)\n",
        "ds_fit = ds_fit.prefetch(tf.data.experimental.AUTOTUNE)\n",
        "print(last_epoch)"
      ],
      "metadata": {
        "id": "ED0TFC2c254-",
        "colab": {
          "base_uri": "https://localhost:8080/"
        },
        "outputId": "457d1c20-f7c7-429b-cd29-c1d2a507d367"
      },
      "execution_count": 18,
      "outputs": [
        {
          "output_type": "stream",
          "name": "stdout",
          "text": [
            "33\n"
          ]
        }
      ]
    },
    {
      "cell_type": "code",
      "source": [
        "# Compilar el modelo\n",
        "model_test.compile(optimizer='adam',\n",
        "              loss='categorical_crossentropy',\n",
        "              metrics=['accuracy'])\n",
        "# Entrenar el modelo utilizando el conjunto de datos\n",
        "model_test.fit(ds_fit, epochs=last_epoch,callbacks=callbacks[1:]) # solo usamos el callback de lr adaptativo"
      ],
      "metadata": {
        "id": "_qycQW3xtGmi",
        "colab": {
          "base_uri": "https://localhost:8080/"
        },
        "outputId": "e851d8d1-7337-49dc-c8a4-4f83fe2fcddd"
      },
      "execution_count": 19,
      "outputs": [
        {
          "output_type": "stream",
          "name": "stdout",
          "text": [
            "Epoch 1/33\n",
            "391/391 [==============================] - ETA: 0s - loss: 8.0141 - accuracy: 0.1323"
          ]
        },
        {
          "output_type": "stream",
          "name": "stderr",
          "text": [
            "WARNING:tensorflow:Learning rate reduction is conditioned on metric `val_loss` which is not available. Available metrics are: loss,accuracy,lr\n"
          ]
        },
        {
          "output_type": "stream",
          "name": "stdout",
          "text": [
            "\b\b\b\b\b\b\b\b\b\b\b\b\b\b\b\b\b\b\b\b\b\b\b\b\b\b\b\b\b\b\b\b\b\b\b\b\b\b\b\b\b\b\b\b\b\b\b\b\b\b\b\b\b\b\b\b\b\b\b\b\b\b\b\b\b\b\b\b\b\b\b\b\b\b\b\b\b\b\b\b\b\b\b\b\r391/391 [==============================] - 16s 20ms/step - loss: 8.0141 - accuracy: 0.1323 - lr: 0.0010\n",
            "Epoch 2/33\n",
            "390/391 [============================>.] - ETA: 0s - loss: 4.2889 - accuracy: 0.2589"
          ]
        },
        {
          "output_type": "stream",
          "name": "stderr",
          "text": [
            "WARNING:tensorflow:Learning rate reduction is conditioned on metric `val_loss` which is not available. Available metrics are: loss,accuracy,lr\n"
          ]
        },
        {
          "output_type": "stream",
          "name": "stdout",
          "text": [
            "\b\b\b\b\b\b\b\b\b\b\b\b\b\b\b\b\b\b\b\b\b\b\b\b\b\b\b\b\b\b\b\b\b\b\b\b\b\b\b\b\b\b\b\b\b\b\b\b\b\b\b\b\b\b\b\b\b\b\b\b\b\b\b\b\b\b\b\b\b\b\b\b\b\b\b\b\b\b\b\b\b\b\b\b\r391/391 [==============================] - 8s 20ms/step - loss: 4.2885 - accuracy: 0.2590 - lr: 0.0010\n",
            "Epoch 3/33\n",
            "391/391 [==============================] - ETA: 0s - loss: 3.8133 - accuracy: 0.3148"
          ]
        },
        {
          "output_type": "stream",
          "name": "stderr",
          "text": [
            "WARNING:tensorflow:Learning rate reduction is conditioned on metric `val_loss` which is not available. Available metrics are: loss,accuracy,lr\n"
          ]
        },
        {
          "output_type": "stream",
          "name": "stdout",
          "text": [
            "\b\b\b\b\b\b\b\b\b\b\b\b\b\b\b\b\b\b\b\b\b\b\b\b\b\b\b\b\b\b\b\b\b\b\b\b\b\b\b\b\b\b\b\b\b\b\b\b\b\b\b\b\b\b\b\b\b\b\b\b\b\b\b\b\b\b\b\b\b\b\b\b\b\b\b\b\b\b\b\b\b\b\b\b\r391/391 [==============================] - 8s 20ms/step - loss: 3.8133 - accuracy: 0.3148 - lr: 0.0010\n",
            "Epoch 4/33\n",
            "389/391 [============================>.] - ETA: 0s - loss: 3.7217 - accuracy: 0.3400"
          ]
        },
        {
          "output_type": "stream",
          "name": "stderr",
          "text": [
            "WARNING:tensorflow:Learning rate reduction is conditioned on metric `val_loss` which is not available. Available metrics are: loss,accuracy,lr\n"
          ]
        },
        {
          "output_type": "stream",
          "name": "stdout",
          "text": [
            "\b\b\b\b\b\b\b\b\b\b\b\b\b\b\b\b\b\b\b\b\b\b\b\b\b\b\b\b\b\b\b\b\b\b\b\b\b\b\b\b\b\b\b\b\b\b\b\b\b\b\b\b\b\b\b\b\b\b\b\b\b\b\b\b\b\b\b\b\b\b\b\b\b\b\b\b\b\b\b\b\b\b\b\b\r391/391 [==============================] - 8s 21ms/step - loss: 3.7214 - accuracy: 0.3399 - lr: 0.0010\n",
            "Epoch 5/33\n",
            "391/391 [==============================] - ETA: 0s - loss: 3.6295 - accuracy: 0.3562"
          ]
        },
        {
          "output_type": "stream",
          "name": "stderr",
          "text": [
            "WARNING:tensorflow:Learning rate reduction is conditioned on metric `val_loss` which is not available. Available metrics are: loss,accuracy,lr\n"
          ]
        },
        {
          "output_type": "stream",
          "name": "stdout",
          "text": [
            "\b\b\b\b\b\b\b\b\b\b\b\b\b\b\b\b\b\b\b\b\b\b\b\b\b\b\b\b\b\b\b\b\b\b\b\b\b\b\b\b\b\b\b\b\b\b\b\b\b\b\b\b\b\b\b\b\b\b\b\b\b\b\b\b\b\b\b\b\b\b\b\b\b\b\b\b\b\b\b\b\b\b\b\b\r391/391 [==============================] - 8s 19ms/step - loss: 3.6295 - accuracy: 0.3562 - lr: 0.0010\n",
            "Epoch 6/33\n",
            "391/391 [==============================] - ETA: 0s - loss: 3.1414 - accuracy: 0.4134"
          ]
        },
        {
          "output_type": "stream",
          "name": "stderr",
          "text": [
            "WARNING:tensorflow:Learning rate reduction is conditioned on metric `val_loss` which is not available. Available metrics are: loss,accuracy,lr\n"
          ]
        },
        {
          "output_type": "stream",
          "name": "stdout",
          "text": [
            "\b\b\b\b\b\b\b\b\b\b\b\b\b\b\b\b\b\b\b\b\b\b\b\b\b\b\b\b\b\b\b\b\b\b\b\b\b\b\b\b\b\b\b\b\b\b\b\b\b\b\b\b\b\b\b\b\b\b\b\b\b\b\b\b\b\b\b\b\b\b\b\b\b\b\b\b\b\b\b\b\b\b\b\b\r391/391 [==============================] - 8s 20ms/step - loss: 3.1414 - accuracy: 0.4134 - lr: 5.0000e-04\n",
            "Epoch 7/33\n",
            "391/391 [==============================] - ETA: 0s - loss: 3.0022 - accuracy: 0.4331"
          ]
        },
        {
          "output_type": "stream",
          "name": "stderr",
          "text": [
            "WARNING:tensorflow:Learning rate reduction is conditioned on metric `val_loss` which is not available. Available metrics are: loss,accuracy,lr\n"
          ]
        },
        {
          "output_type": "stream",
          "name": "stdout",
          "text": [
            "\b\b\b\b\b\b\b\b\b\b\b\b\b\b\b\b\b\b\b\b\b\b\b\b\b\b\b\b\b\b\b\b\b\b\b\b\b\b\b\b\b\b\b\b\b\b\b\b\b\b\b\b\b\b\b\b\b\b\b\b\b\b\b\b\b\b\b\b\b\b\b\b\b\b\b\b\b\b\b\b\b\b\b\b\r391/391 [==============================] - 8s 19ms/step - loss: 3.0022 - accuracy: 0.4331 - lr: 5.0000e-04\n",
            "Epoch 8/33\n",
            "391/391 [==============================] - ETA: 0s - loss: 2.9579 - accuracy: 0.4461"
          ]
        },
        {
          "output_type": "stream",
          "name": "stderr",
          "text": [
            "WARNING:tensorflow:Learning rate reduction is conditioned on metric `val_loss` which is not available. Available metrics are: loss,accuracy,lr\n"
          ]
        },
        {
          "output_type": "stream",
          "name": "stdout",
          "text": [
            "\b\b\b\b\b\b\b\b\b\b\b\b\b\b\b\b\b\b\b\b\b\b\b\b\b\b\b\b\b\b\b\b\b\b\b\b\b\b\b\b\b\b\b\b\b\b\b\b\b\b\b\b\b\b\b\b\b\b\b\b\b\b\b\b\b\b\b\b\b\b\b\b\b\b\b\b\b\b\b\b\b\b\b\b\r391/391 [==============================] - 8s 21ms/step - loss: 2.9579 - accuracy: 0.4461 - lr: 5.0000e-04\n",
            "Epoch 9/33\n",
            "390/391 [============================>.] - ETA: 0s - loss: 2.9381 - accuracy: 0.4583"
          ]
        },
        {
          "output_type": "stream",
          "name": "stderr",
          "text": [
            "WARNING:tensorflow:Learning rate reduction is conditioned on metric `val_loss` which is not available. Available metrics are: loss,accuracy,lr\n"
          ]
        },
        {
          "output_type": "stream",
          "name": "stdout",
          "text": [
            "\b\b\b\b\b\b\b\b\b\b\b\b\b\b\b\b\b\b\b\b\b\b\b\b\b\b\b\b\b\b\b\b\b\b\b\b\b\b\b\b\b\b\b\b\b\b\b\b\b\b\b\b\b\b\b\b\b\b\b\b\b\b\b\b\b\b\b\b\b\b\b\b\b\b\b\b\b\b\b\b\b\b\b\b\r391/391 [==============================] - 8s 20ms/step - loss: 2.9386 - accuracy: 0.4582 - lr: 5.0000e-04\n",
            "Epoch 10/33\n",
            "391/391 [==============================] - ETA: 0s - loss: 2.9065 - accuracy: 0.4649"
          ]
        },
        {
          "output_type": "stream",
          "name": "stderr",
          "text": [
            "WARNING:tensorflow:Learning rate reduction is conditioned on metric `val_loss` which is not available. Available metrics are: loss,accuracy,lr\n"
          ]
        },
        {
          "output_type": "stream",
          "name": "stdout",
          "text": [
            "\b\b\b\b\b\b\b\b\b\b\b\b\b\b\b\b\b\b\b\b\b\b\b\b\b\b\b\b\b\b\b\b\b\b\b\b\b\b\b\b\b\b\b\b\b\b\b\b\b\b\b\b\b\b\b\b\b\b\b\b\b\b\b\b\b\b\b\b\b\b\b\b\b\b\b\b\b\b\b\b\b\b\b\b\r391/391 [==============================] - 8s 19ms/step - loss: 2.9065 - accuracy: 0.4649 - lr: 5.0000e-04\n",
            "Epoch 11/33\n",
            "390/391 [============================>.] - ETA: 0s - loss: 2.4758 - accuracy: 0.5476"
          ]
        },
        {
          "output_type": "stream",
          "name": "stderr",
          "text": [
            "WARNING:tensorflow:Learning rate reduction is conditioned on metric `val_loss` which is not available. Available metrics are: loss,accuracy,lr\n"
          ]
        },
        {
          "output_type": "stream",
          "name": "stdout",
          "text": [
            "\b\b\b\b\b\b\b\b\b\b\b\b\b\b\b\b\b\b\b\b\b\b\b\b\b\b\b\b\b\b\b\b\b\b\b\b\b\b\b\b\b\b\b\b\b\b\b\b\b\b\b\b\b\b\b\b\b\b\b\b\b\b\b\b\b\b\b\b\b\b\b\b\b\b\b\b\b\b\b\b\b\b\b\b\r391/391 [==============================] - 8s 20ms/step - loss: 2.4757 - accuracy: 0.5476 - lr: 1.0000e-04\n",
            "Epoch 12/33\n",
            "391/391 [==============================] - ETA: 0s - loss: 2.1995 - accuracy: 0.5803"
          ]
        },
        {
          "output_type": "stream",
          "name": "stderr",
          "text": [
            "WARNING:tensorflow:Learning rate reduction is conditioned on metric `val_loss` which is not available. Available metrics are: loss,accuracy,lr\n"
          ]
        },
        {
          "output_type": "stream",
          "name": "stdout",
          "text": [
            "\b\b\b\b\b\b\b\b\b\b\b\b\b\b\b\b\b\b\b\b\b\b\b\b\b\b\b\b\b\b\b\b\b\b\b\b\b\b\b\b\b\b\b\b\b\b\b\b\b\b\b\b\b\b\b\b\b\b\b\b\b\b\b\b\b\b\b\b\b\b\b\b\b\b\b\b\b\b\b\b\b\b\b\b\r391/391 [==============================] - 8s 19ms/step - loss: 2.1995 - accuracy: 0.5803 - lr: 1.0000e-04\n",
            "Epoch 13/33\n",
            "391/391 [==============================] - ETA: 0s - loss: 2.0499 - accuracy: 0.5984"
          ]
        },
        {
          "output_type": "stream",
          "name": "stderr",
          "text": [
            "WARNING:tensorflow:Learning rate reduction is conditioned on metric `val_loss` which is not available. Available metrics are: loss,accuracy,lr\n"
          ]
        },
        {
          "output_type": "stream",
          "name": "stdout",
          "text": [
            "\b\b\b\b\b\b\b\b\b\b\b\b\b\b\b\b\b\b\b\b\b\b\b\b\b\b\b\b\b\b\b\b\b\b\b\b\b\b\b\b\b\b\b\b\b\b\b\b\b\b\b\b\b\b\b\b\b\b\b\b\b\b\b\b\b\b\b\b\b\b\b\b\b\b\b\b\b\b\b\b\b\b\b\b\r391/391 [==============================] - 8s 20ms/step - loss: 2.0499 - accuracy: 0.5984 - lr: 1.0000e-04\n",
            "Epoch 14/33\n",
            "391/391 [==============================] - ETA: 0s - loss: 1.9520 - accuracy: 0.6119"
          ]
        },
        {
          "output_type": "stream",
          "name": "stderr",
          "text": [
            "WARNING:tensorflow:Learning rate reduction is conditioned on metric `val_loss` which is not available. Available metrics are: loss,accuracy,lr\n"
          ]
        },
        {
          "output_type": "stream",
          "name": "stdout",
          "text": [
            "\b\b\b\b\b\b\b\b\b\b\b\b\b\b\b\b\b\b\b\b\b\b\b\b\b\b\b\b\b\b\b\b\b\b\b\b\b\b\b\b\b\b\b\b\b\b\b\b\b\b\b\b\b\b\b\b\b\b\b\b\b\b\b\b\b\b\b\b\b\b\b\b\b\b\b\b\b\b\b\b\b\b\b\b\r391/391 [==============================] - 8s 19ms/step - loss: 1.9520 - accuracy: 0.6119 - lr: 1.0000e-04\n",
            "Epoch 15/33\n",
            "390/391 [============================>.] - ETA: 0s - loss: 1.8679 - accuracy: 0.6256"
          ]
        },
        {
          "output_type": "stream",
          "name": "stderr",
          "text": [
            "WARNING:tensorflow:Learning rate reduction is conditioned on metric `val_loss` which is not available. Available metrics are: loss,accuracy,lr\n"
          ]
        },
        {
          "output_type": "stream",
          "name": "stdout",
          "text": [
            "\b\b\b\b\b\b\b\b\b\b\b\b\b\b\b\b\b\b\b\b\b\b\b\b\b\b\b\b\b\b\b\b\b\b\b\b\b\b\b\b\b\b\b\b\b\b\b\b\b\b\b\b\b\b\b\b\b\b\b\b\b\b\b\b\b\b\b\b\b\b\b\b\b\b\b\b\b\b\b\b\b\b\b\b\r391/391 [==============================] - 8s 20ms/step - loss: 1.8682 - accuracy: 0.6254 - lr: 1.0000e-04\n",
            "Epoch 16/33\n",
            "389/391 [============================>.] - ETA: 0s - loss: 1.8122 - accuracy: 0.6355"
          ]
        },
        {
          "output_type": "stream",
          "name": "stderr",
          "text": [
            "WARNING:tensorflow:Learning rate reduction is conditioned on metric `val_loss` which is not available. Available metrics are: loss,accuracy,lr\n"
          ]
        },
        {
          "output_type": "stream",
          "name": "stdout",
          "text": [
            "\b\b\b\b\b\b\b\b\b\b\b\b\b\b\b\b\b\b\b\b\b\b\b\b\b\b\b\b\b\b\b\b\b\b\b\b\b\b\b\b\b\b\b\b\b\b\b\b\b\b\b\b\b\b\b\b\b\b\b\b\b\b\b\b\b\b\b\b\b\b\b\b\b\b\b\b\b\b\b\b\b\b\b\b\r391/391 [==============================] - 8s 20ms/step - loss: 1.8122 - accuracy: 0.6355 - lr: 1.0000e-04\n",
            "Epoch 17/33\n",
            "391/391 [==============================] - ETA: 0s - loss: 1.7618 - accuracy: 0.6445"
          ]
        },
        {
          "output_type": "stream",
          "name": "stderr",
          "text": [
            "WARNING:tensorflow:Learning rate reduction is conditioned on metric `val_loss` which is not available. Available metrics are: loss,accuracy,lr\n"
          ]
        },
        {
          "output_type": "stream",
          "name": "stdout",
          "text": [
            "\b\b\b\b\b\b\b\b\b\b\b\b\b\b\b\b\b\b\b\b\b\b\b\b\b\b\b\b\b\b\b\b\b\b\b\b\b\b\b\b\b\b\b\b\b\b\b\b\b\b\b\b\b\b\b\b\b\b\b\b\b\b\b\b\b\b\b\b\b\b\b\b\b\b\b\b\b\b\b\b\b\b\b\b\r391/391 [==============================] - 8s 19ms/step - loss: 1.7618 - accuracy: 0.6445 - lr: 1.0000e-04\n",
            "Epoch 18/33\n",
            "391/391 [==============================] - ETA: 0s - loss: 1.7278 - accuracy: 0.6498"
          ]
        },
        {
          "output_type": "stream",
          "name": "stderr",
          "text": [
            "WARNING:tensorflow:Learning rate reduction is conditioned on metric `val_loss` which is not available. Available metrics are: loss,accuracy,lr\n"
          ]
        },
        {
          "output_type": "stream",
          "name": "stdout",
          "text": [
            "\b\b\b\b\b\b\b\b\b\b\b\b\b\b\b\b\b\b\b\b\b\b\b\b\b\b\b\b\b\b\b\b\b\b\b\b\b\b\b\b\b\b\b\b\b\b\b\b\b\b\b\b\b\b\b\b\b\b\b\b\b\b\b\b\b\b\b\b\b\b\b\b\b\b\b\b\b\b\b\b\b\b\b\b\r391/391 [==============================] - 8s 20ms/step - loss: 1.7278 - accuracy: 0.6498 - lr: 1.0000e-04\n",
            "Epoch 19/33\n",
            "390/391 [============================>.] - ETA: 0s - loss: 1.6776 - accuracy: 0.6628"
          ]
        },
        {
          "output_type": "stream",
          "name": "stderr",
          "text": [
            "WARNING:tensorflow:Learning rate reduction is conditioned on metric `val_loss` which is not available. Available metrics are: loss,accuracy,lr\n"
          ]
        },
        {
          "output_type": "stream",
          "name": "stdout",
          "text": [
            "\b\b\b\b\b\b\b\b\b\b\b\b\b\b\b\b\b\b\b\b\b\b\b\b\b\b\b\b\b\b\b\b\b\b\b\b\b\b\b\b\b\b\b\b\b\b\b\b\b\b\b\b\b\b\b\b\b\b\b\b\b\b\b\b\b\b\b\b\b\b\b\b\b\b\b\b\b\b\b\b\b\b\b\b\r391/391 [==============================] - 8s 20ms/step - loss: 1.6778 - accuracy: 0.6628 - lr: 1.0000e-04\n",
            "Epoch 20/33\n",
            "391/391 [==============================] - ETA: 0s - loss: 1.6441 - accuracy: 0.6715"
          ]
        },
        {
          "output_type": "stream",
          "name": "stderr",
          "text": [
            "WARNING:tensorflow:Learning rate reduction is conditioned on metric `val_loss` which is not available. Available metrics are: loss,accuracy,lr\n"
          ]
        },
        {
          "output_type": "stream",
          "name": "stdout",
          "text": [
            "\b\b\b\b\b\b\b\b\b\b\b\b\b\b\b\b\b\b\b\b\b\b\b\b\b\b\b\b\b\b\b\b\b\b\b\b\b\b\b\b\b\b\b\b\b\b\b\b\b\b\b\b\b\b\b\b\b\b\b\b\b\b\b\b\b\b\b\b\b\b\b\b\b\b\b\b\b\b\b\b\b\b\b\b\r391/391 [==============================] - 8s 19ms/step - loss: 1.6441 - accuracy: 0.6715 - lr: 1.0000e-04\n",
            "Epoch 21/33\n",
            "391/391 [==============================] - ETA: 0s - loss: 1.6324 - accuracy: 0.6717"
          ]
        },
        {
          "output_type": "stream",
          "name": "stderr",
          "text": [
            "WARNING:tensorflow:Learning rate reduction is conditioned on metric `val_loss` which is not available. Available metrics are: loss,accuracy,lr\n"
          ]
        },
        {
          "output_type": "stream",
          "name": "stdout",
          "text": [
            "\b\b\b\b\b\b\b\b\b\b\b\b\b\b\b\b\b\b\b\b\b\b\b\b\b\b\b\b\b\b\b\b\b\b\b\b\b\b\b\b\b\b\b\b\b\b\b\b\b\b\b\b\b\b\b\b\b\b\b\b\b\b\b\b\b\b\b\b\b\b\b\b\b\b\b\b\b\b\b\b\b\b\b\b\r391/391 [==============================] - 8s 20ms/step - loss: 1.6324 - accuracy: 0.6717 - lr: 1.0000e-04\n",
            "Epoch 22/33\n",
            "391/391 [==============================] - ETA: 0s - loss: 1.6062 - accuracy: 0.6783"
          ]
        },
        {
          "output_type": "stream",
          "name": "stderr",
          "text": [
            "WARNING:tensorflow:Learning rate reduction is conditioned on metric `val_loss` which is not available. Available metrics are: loss,accuracy,lr\n"
          ]
        },
        {
          "output_type": "stream",
          "name": "stdout",
          "text": [
            "\b\b\b\b\b\b\b\b\b\b\b\b\b\b\b\b\b\b\b\b\b\b\b\b\b\b\b\b\b\b\b\b\b\b\b\b\b\b\b\b\b\b\b\b\b\b\b\b\b\b\b\b\b\b\b\b\b\b\b\b\b\b\b\b\b\b\b\b\b\b\b\b\b\b\b\b\b\b\b\b\b\b\b\b\r391/391 [==============================] - 8s 19ms/step - loss: 1.6062 - accuracy: 0.6783 - lr: 1.0000e-04\n",
            "Epoch 23/33\n",
            "389/391 [============================>.] - ETA: 0s - loss: 1.5774 - accuracy: 0.6846"
          ]
        },
        {
          "output_type": "stream",
          "name": "stderr",
          "text": [
            "WARNING:tensorflow:Learning rate reduction is conditioned on metric `val_loss` which is not available. Available metrics are: loss,accuracy,lr\n"
          ]
        },
        {
          "output_type": "stream",
          "name": "stdout",
          "text": [
            "\b\b\b\b\b\b\b\b\b\b\b\b\b\b\b\b\b\b\b\b\b\b\b\b\b\b\b\b\b\b\b\b\b\b\b\b\b\b\b\b\b\b\b\b\b\b\b\b\b\b\b\b\b\b\b\b\b\b\b\b\b\b\b\b\b\b\b\b\b\b\b\b\b\b\b\b\b\b\b\b\b\b\b\b\r391/391 [==============================] - 8s 20ms/step - loss: 1.5786 - accuracy: 0.6840 - lr: 1.0000e-04\n",
            "Epoch 24/33\n",
            "391/391 [==============================] - ETA: 0s - loss: 1.5588 - accuracy: 0.6916"
          ]
        },
        {
          "output_type": "stream",
          "name": "stderr",
          "text": [
            "WARNING:tensorflow:Learning rate reduction is conditioned on metric `val_loss` which is not available. Available metrics are: loss,accuracy,lr\n"
          ]
        },
        {
          "output_type": "stream",
          "name": "stdout",
          "text": [
            "\b\b\b\b\b\b\b\b\b\b\b\b\b\b\b\b\b\b\b\b\b\b\b\b\b\b\b\b\b\b\b\b\b\b\b\b\b\b\b\b\b\b\b\b\b\b\b\b\b\b\b\b\b\b\b\b\b\b\b\b\b\b\b\b\b\b\b\b\b\b\b\b\b\b\b\b\b\b\b\b\b\b\b\b\r391/391 [==============================] - 8s 20ms/step - loss: 1.5588 - accuracy: 0.6916 - lr: 1.0000e-04\n",
            "Epoch 25/33\n",
            "391/391 [==============================] - ETA: 0s - loss: 1.5396 - accuracy: 0.6954"
          ]
        },
        {
          "output_type": "stream",
          "name": "stderr",
          "text": [
            "WARNING:tensorflow:Learning rate reduction is conditioned on metric `val_loss` which is not available. Available metrics are: loss,accuracy,lr\n"
          ]
        },
        {
          "output_type": "stream",
          "name": "stdout",
          "text": [
            "\b\b\b\b\b\b\b\b\b\b\b\b\b\b\b\b\b\b\b\b\b\b\b\b\b\b\b\b\b\b\b\b\b\b\b\b\b\b\b\b\b\b\b\b\b\b\b\b\b\b\b\b\b\b\b\b\b\b\b\b\b\b\b\b\b\b\b\b\b\b\b\b\b\b\b\b\b\b\b\b\b\b\b\b\r391/391 [==============================] - 8s 19ms/step - loss: 1.5396 - accuracy: 0.6954 - lr: 1.0000e-04\n",
            "Epoch 26/33\n",
            "390/391 [============================>.] - ETA: 0s - loss: 1.5195 - accuracy: 0.7004"
          ]
        },
        {
          "output_type": "stream",
          "name": "stderr",
          "text": [
            "WARNING:tensorflow:Learning rate reduction is conditioned on metric `val_loss` which is not available. Available metrics are: loss,accuracy,lr\n"
          ]
        },
        {
          "output_type": "stream",
          "name": "stdout",
          "text": [
            "\b\b\b\b\b\b\b\b\b\b\b\b\b\b\b\b\b\b\b\b\b\b\b\b\b\b\b\b\b\b\b\b\b\b\b\b\b\b\b\b\b\b\b\b\b\b\b\b\b\b\b\b\b\b\b\b\b\b\b\b\b\b\b\b\b\b\b\b\b\b\b\b\b\b\b\b\b\b\b\b\b\b\b\b\r391/391 [==============================] - 8s 20ms/step - loss: 1.5190 - accuracy: 0.7005 - lr: 1.0000e-04\n",
            "Epoch 27/33\n",
            "389/391 [============================>.] - ETA: 0s - loss: 1.5047 - accuracy: 0.7048"
          ]
        },
        {
          "output_type": "stream",
          "name": "stderr",
          "text": [
            "WARNING:tensorflow:Learning rate reduction is conditioned on metric `val_loss` which is not available. Available metrics are: loss,accuracy,lr\n"
          ]
        },
        {
          "output_type": "stream",
          "name": "stdout",
          "text": [
            "\b\b\b\b\b\b\b\b\b\b\b\b\b\b\b\b\b\b\b\b\b\b\b\b\b\b\b\b\b\b\b\b\b\b\b\b\b\b\b\b\b\b\b\b\b\b\b\b\b\b\b\b\b\b\b\b\b\b\b\b\b\b\b\b\b\b\b\b\b\b\b\b\b\b\b\b\b\b\b\b\b\b\b\b\r391/391 [==============================] - 8s 20ms/step - loss: 1.5055 - accuracy: 0.7045 - lr: 1.0000e-04\n",
            "Epoch 28/33\n",
            "391/391 [==============================] - ETA: 0s - loss: 1.4925 - accuracy: 0.7066"
          ]
        },
        {
          "output_type": "stream",
          "name": "stderr",
          "text": [
            "WARNING:tensorflow:Learning rate reduction is conditioned on metric `val_loss` which is not available. Available metrics are: loss,accuracy,lr\n"
          ]
        },
        {
          "output_type": "stream",
          "name": "stdout",
          "text": [
            "\b\b\b\b\b\b\b\b\b\b\b\b\b\b\b\b\b\b\b\b\b\b\b\b\b\b\b\b\b\b\b\b\b\b\b\b\b\b\b\b\b\b\b\b\b\b\b\b\b\b\b\b\b\b\b\b\b\b\b\b\b\b\b\b\b\b\b\b\b\b\b\b\b\b\b\b\b\b\b\b\b\b\b\b\r391/391 [==============================] - 8s 20ms/step - loss: 1.4925 - accuracy: 0.7066 - lr: 1.0000e-04\n",
            "Epoch 29/33\n",
            "390/391 [============================>.] - ETA: 0s - loss: 1.4846 - accuracy: 0.7100"
          ]
        },
        {
          "output_type": "stream",
          "name": "stderr",
          "text": [
            "WARNING:tensorflow:Learning rate reduction is conditioned on metric `val_loss` which is not available. Available metrics are: loss,accuracy,lr\n"
          ]
        },
        {
          "output_type": "stream",
          "name": "stdout",
          "text": [
            "\b\b\b\b\b\b\b\b\b\b\b\b\b\b\b\b\b\b\b\b\b\b\b\b\b\b\b\b\b\b\b\b\b\b\b\b\b\b\b\b\b\b\b\b\b\b\b\b\b\b\b\b\b\b\b\b\b\b\b\b\b\b\b\b\b\b\b\b\b\b\b\b\b\b\b\b\b\b\b\b\b\b\b\b\r391/391 [==============================] - 8s 19ms/step - loss: 1.4846 - accuracy: 0.7099 - lr: 1.0000e-04\n",
            "Epoch 30/33\n",
            "390/391 [============================>.] - ETA: 0s - loss: 1.4679 - accuracy: 0.7119"
          ]
        },
        {
          "output_type": "stream",
          "name": "stderr",
          "text": [
            "WARNING:tensorflow:Learning rate reduction is conditioned on metric `val_loss` which is not available. Available metrics are: loss,accuracy,lr\n"
          ]
        },
        {
          "output_type": "stream",
          "name": "stdout",
          "text": [
            "\b\b\b\b\b\b\b\b\b\b\b\b\b\b\b\b\b\b\b\b\b\b\b\b\b\b\b\b\b\b\b\b\b\b\b\b\b\b\b\b\b\b\b\b\b\b\b\b\b\b\b\b\b\b\b\b\b\b\b\b\b\b\b\b\b\b\b\b\b\b\b\b\b\b\b\b\b\b\b\b\b\b\b\b\r391/391 [==============================] - 8s 20ms/step - loss: 1.4680 - accuracy: 0.7119 - lr: 1.0000e-04\n",
            "Epoch 31/33\n",
            "390/391 [============================>.] - ETA: 0s - loss: 1.4573 - accuracy: 0.7163"
          ]
        },
        {
          "output_type": "stream",
          "name": "stderr",
          "text": [
            "WARNING:tensorflow:Learning rate reduction is conditioned on metric `val_loss` which is not available. Available metrics are: loss,accuracy,lr\n"
          ]
        },
        {
          "output_type": "stream",
          "name": "stdout",
          "text": [
            "\b\b\b\b\b\b\b\b\b\b\b\b\b\b\b\b\b\b\b\b\b\b\b\b\b\b\b\b\b\b\b\b\b\b\b\b\b\b\b\b\b\b\b\b\b\b\b\b\b\b\b\b\b\b\b\b\b\b\b\b\b\b\b\b\b\b\b\b\b\b\b\b\b\b\b\b\b\b\b\b\b\b\b\b\r391/391 [==============================] - 8s 20ms/step - loss: 1.4577 - accuracy: 0.7163 - lr: 1.0000e-04\n",
            "Epoch 32/33\n",
            "391/391 [==============================] - ETA: 0s - loss: 1.4418 - accuracy: 0.7208"
          ]
        },
        {
          "output_type": "stream",
          "name": "stderr",
          "text": [
            "WARNING:tensorflow:Learning rate reduction is conditioned on metric `val_loss` which is not available. Available metrics are: loss,accuracy,lr\n"
          ]
        },
        {
          "output_type": "stream",
          "name": "stdout",
          "text": [
            "\b\b\b\b\b\b\b\b\b\b\b\b\b\b\b\b\b\b\b\b\b\b\b\b\b\b\b\b\b\b\b\b\b\b\b\b\b\b\b\b\b\b\b\b\b\b\b\b\b\b\b\b\b\b\b\b\b\b\b\b\b\b\b\b\b\b\b\b\b\b\b\b\b\b\b\b\b\b\b\b\b\b\b\b\r391/391 [==============================] - 10s 25ms/step - loss: 1.4418 - accuracy: 0.7208 - lr: 1.0000e-04\n",
            "Epoch 33/33\n",
            "389/391 [============================>.] - ETA: 0s - loss: 1.4372 - accuracy: 0.7231"
          ]
        },
        {
          "output_type": "stream",
          "name": "stderr",
          "text": [
            "WARNING:tensorflow:Learning rate reduction is conditioned on metric `val_loss` which is not available. Available metrics are: loss,accuracy,lr\n"
          ]
        },
        {
          "output_type": "stream",
          "name": "stdout",
          "text": [
            "\b\b\b\b\b\b\b\b\b\b\b\b\b\b\b\b\b\b\b\b\b\b\b\b\b\b\b\b\b\b\b\b\b\b\b\b\b\b\b\b\b\b\b\b\b\b\b\b\b\b\b\b\b\b\b\b\b\b\b\b\b\b\b\b\b\b\b\b\b\b\b\b\b\b\b\b\b\b\b\b\b\b\b\b\r391/391 [==============================] - 8s 20ms/step - loss: 1.4376 - accuracy: 0.7229 - lr: 1.0000e-04\n"
          ]
        },
        {
          "output_type": "execute_result",
          "data": {
            "text/plain": [
              "<keras.src.callbacks.History at 0x7fec4f59fd60>"
            ]
          },
          "metadata": {},
          "execution_count": 19
        }
      ]
    },
    {
      "cell_type": "code",
      "source": [
        "batch_size = 128\n",
        "ds_eval = ds_test.cache()\n",
        "ds_eval = ds_eval.batch(batch_size)\n",
        "ds_eval = ds_eval.prefetch(tf.data.experimental.AUTOTUNE)"
      ],
      "metadata": {
        "id": "d7isfoZD7GwW"
      },
      "execution_count": 20,
      "outputs": []
    },
    {
      "cell_type": "code",
      "source": [
        "test_loss, test_acc = model_test.evaluate(ds_eval)\n",
        "\n",
        "print('Test accuracy:', test_acc)"
      ],
      "metadata": {
        "colab": {
          "base_uri": "https://localhost:8080/"
        },
        "id": "BPFasQO460Uj",
        "outputId": "4c5eda3b-79d2-466e-9e6e-7a3c12f7a426"
      },
      "execution_count": 21,
      "outputs": [
        {
          "output_type": "stream",
          "name": "stdout",
          "text": [
            "79/79 [==============================] - 1s 9ms/step - loss: 2.1143 - accuracy: 0.5759\n",
            "Test accuracy: 0.5759000182151794\n"
          ]
        }
      ]
    }
  ],
  "metadata": {
    "kernelspec": {
      "display_name": "Python 3",
      "name": "python3"
    },
    "language_info": {
      "codemirror_mode": {
        "name": "ipython",
        "version": 3
      },
      "file_extension": ".py",
      "mimetype": "text/x-python",
      "name": "python",
      "nbconvert_exporter": "python",
      "pygments_lexer": "ipython3",
      "version": "3.11.4"
    },
    "colab": {
      "provenance": [],
      "gpuType": "T4"
    },
    "accelerator": "GPU"
  },
  "nbformat": 4,
  "nbformat_minor": 0
}